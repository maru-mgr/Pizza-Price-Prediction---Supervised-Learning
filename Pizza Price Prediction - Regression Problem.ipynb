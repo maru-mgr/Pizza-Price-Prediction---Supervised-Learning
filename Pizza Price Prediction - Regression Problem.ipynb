{
 "cells": [
  {
   "cell_type": "markdown",
   "id": "371fafe3",
   "metadata": {},
   "source": [
    "# PIZZA PRICE PEDICTION"
   ]
  },
  {
   "cell_type": "markdown",
   "id": "a23f0e48",
   "metadata": {},
   "source": [
    "## 1. Importing necessary libraries for analyis and visualization"
   ]
  },
  {
   "cell_type": "code",
   "execution_count": 1,
   "id": "aafbfd7f",
   "metadata": {},
   "outputs": [],
   "source": [
    "import pandas as pd\n",
    "import matplotlib.pyplot as plt\n",
    "import seaborn as sns"
   ]
  },
  {
   "cell_type": "markdown",
   "id": "92244334",
   "metadata": {},
   "source": [
    "Here we have imported the pandas library for data analysis, matplotlib and seaborn for visualizations."
   ]
  },
  {
   "cell_type": "markdown",
   "id": "541c70e0",
   "metadata": {},
   "source": [
    "*****\n",
    "## 2. Reading and loading the dataset"
   ]
  },
  {
   "cell_type": "code",
   "execution_count": 2,
   "id": "33cdd9d0",
   "metadata": {},
   "outputs": [],
   "source": [
    "pp = pd.read_csv('pizza_v2.csv')"
   ]
  },
  {
   "cell_type": "code",
   "execution_count": 3,
   "id": "eceb25e3",
   "metadata": {
    "scrolled": true
   },
   "outputs": [
    {
     "data": {
      "text/html": [
       "<div>\n",
       "<style scoped>\n",
       "    .dataframe tbody tr th:only-of-type {\n",
       "        vertical-align: middle;\n",
       "    }\n",
       "\n",
       "    .dataframe tbody tr th {\n",
       "        vertical-align: top;\n",
       "    }\n",
       "\n",
       "    .dataframe thead th {\n",
       "        text-align: right;\n",
       "    }\n",
       "</style>\n",
       "<table border=\"1\" class=\"dataframe\">\n",
       "  <thead>\n",
       "    <tr style=\"text-align: right;\">\n",
       "      <th></th>\n",
       "      <th>company</th>\n",
       "      <th>price_rupiah</th>\n",
       "      <th>diameter</th>\n",
       "      <th>topping</th>\n",
       "      <th>variant</th>\n",
       "      <th>size</th>\n",
       "      <th>extra_sauce</th>\n",
       "      <th>extra_cheese</th>\n",
       "      <th>extra_mushrooms</th>\n",
       "    </tr>\n",
       "  </thead>\n",
       "  <tbody>\n",
       "    <tr>\n",
       "      <th>0</th>\n",
       "      <td>A</td>\n",
       "      <td>Rp235,000</td>\n",
       "      <td>22 inch</td>\n",
       "      <td>chicken</td>\n",
       "      <td>double_signature</td>\n",
       "      <td>jumbo</td>\n",
       "      <td>yes</td>\n",
       "      <td>yes</td>\n",
       "      <td>no</td>\n",
       "    </tr>\n",
       "    <tr>\n",
       "      <th>1</th>\n",
       "      <td>A</td>\n",
       "      <td>Rp198,000</td>\n",
       "      <td>20 inch</td>\n",
       "      <td>papperoni</td>\n",
       "      <td>double_signature</td>\n",
       "      <td>jumbo</td>\n",
       "      <td>yes</td>\n",
       "      <td>yes</td>\n",
       "      <td>no</td>\n",
       "    </tr>\n",
       "    <tr>\n",
       "      <th>2</th>\n",
       "      <td>A</td>\n",
       "      <td>Rp120,000</td>\n",
       "      <td>16 inch</td>\n",
       "      <td>mushrooms</td>\n",
       "      <td>double_signature</td>\n",
       "      <td>reguler</td>\n",
       "      <td>yes</td>\n",
       "      <td>yes</td>\n",
       "      <td>yes</td>\n",
       "    </tr>\n",
       "    <tr>\n",
       "      <th>3</th>\n",
       "      <td>A</td>\n",
       "      <td>Rp155,000</td>\n",
       "      <td>14 inch</td>\n",
       "      <td>smoked_beef</td>\n",
       "      <td>double_signature</td>\n",
       "      <td>reguler</td>\n",
       "      <td>yes</td>\n",
       "      <td>no</td>\n",
       "      <td>yes</td>\n",
       "    </tr>\n",
       "    <tr>\n",
       "      <th>4</th>\n",
       "      <td>A</td>\n",
       "      <td>Rp248,000</td>\n",
       "      <td>18 inch</td>\n",
       "      <td>mozzarella</td>\n",
       "      <td>double_signature</td>\n",
       "      <td>jumbo</td>\n",
       "      <td>yes</td>\n",
       "      <td>no</td>\n",
       "      <td>yes</td>\n",
       "    </tr>\n",
       "    <tr>\n",
       "      <th>...</th>\n",
       "      <td>...</td>\n",
       "      <td>...</td>\n",
       "      <td>...</td>\n",
       "      <td>...</td>\n",
       "      <td>...</td>\n",
       "      <td>...</td>\n",
       "      <td>...</td>\n",
       "      <td>...</td>\n",
       "      <td>...</td>\n",
       "    </tr>\n",
       "    <tr>\n",
       "      <th>124</th>\n",
       "      <td>E</td>\n",
       "      <td>Rp39,000</td>\n",
       "      <td>8.5 inch</td>\n",
       "      <td>tuna</td>\n",
       "      <td>spicy tuna</td>\n",
       "      <td>small</td>\n",
       "      <td>yes</td>\n",
       "      <td>yes</td>\n",
       "      <td>yes</td>\n",
       "    </tr>\n",
       "    <tr>\n",
       "      <th>125</th>\n",
       "      <td>E</td>\n",
       "      <td>Rp72,000</td>\n",
       "      <td>12 inch</td>\n",
       "      <td>tuna</td>\n",
       "      <td>spicy tuna</td>\n",
       "      <td>medium</td>\n",
       "      <td>yes</td>\n",
       "      <td>yes</td>\n",
       "      <td>yes</td>\n",
       "    </tr>\n",
       "    <tr>\n",
       "      <th>126</th>\n",
       "      <td>E</td>\n",
       "      <td>Rp99,000</td>\n",
       "      <td>14 inch</td>\n",
       "      <td>tuna</td>\n",
       "      <td>spicy tuna</td>\n",
       "      <td>large</td>\n",
       "      <td>yes</td>\n",
       "      <td>yes</td>\n",
       "      <td>yes</td>\n",
       "    </tr>\n",
       "    <tr>\n",
       "      <th>127</th>\n",
       "      <td>E</td>\n",
       "      <td>Rp44,000</td>\n",
       "      <td>8.5 inch</td>\n",
       "      <td>meat</td>\n",
       "      <td>BBQ_meat_fiesta</td>\n",
       "      <td>small</td>\n",
       "      <td>yes</td>\n",
       "      <td>no</td>\n",
       "      <td>yes</td>\n",
       "    </tr>\n",
       "    <tr>\n",
       "      <th>128</th>\n",
       "      <td>E</td>\n",
       "      <td>Rp78,000</td>\n",
       "      <td>12 inch</td>\n",
       "      <td>meat</td>\n",
       "      <td>BBQ_meat_fiesta</td>\n",
       "      <td>medium</td>\n",
       "      <td>no</td>\n",
       "      <td>no</td>\n",
       "      <td>yes</td>\n",
       "    </tr>\n",
       "  </tbody>\n",
       "</table>\n",
       "<p>129 rows × 9 columns</p>\n",
       "</div>"
      ],
      "text/plain": [
       "    company price_rupiah  diameter      topping           variant     size  \\\n",
       "0         A    Rp235,000   22 inch      chicken  double_signature    jumbo   \n",
       "1         A    Rp198,000   20 inch    papperoni  double_signature    jumbo   \n",
       "2         A    Rp120,000   16 inch    mushrooms  double_signature  reguler   \n",
       "3         A    Rp155,000   14 inch  smoked_beef  double_signature  reguler   \n",
       "4         A    Rp248,000   18 inch   mozzarella  double_signature    jumbo   \n",
       "..      ...          ...       ...          ...               ...      ...   \n",
       "124       E     Rp39,000  8.5 inch         tuna        spicy tuna    small   \n",
       "125       E     Rp72,000   12 inch         tuna        spicy tuna   medium   \n",
       "126       E     Rp99,000   14 inch         tuna        spicy tuna    large   \n",
       "127       E     Rp44,000  8.5 inch         meat   BBQ_meat_fiesta    small   \n",
       "128       E     Rp78,000   12 inch         meat   BBQ_meat_fiesta   medium   \n",
       "\n",
       "    extra_sauce extra_cheese extra_mushrooms  \n",
       "0           yes          yes              no  \n",
       "1           yes          yes              no  \n",
       "2           yes          yes             yes  \n",
       "3           yes           no             yes  \n",
       "4           yes           no             yes  \n",
       "..          ...          ...             ...  \n",
       "124         yes          yes             yes  \n",
       "125         yes          yes             yes  \n",
       "126         yes          yes             yes  \n",
       "127         yes           no             yes  \n",
       "128          no           no             yes  \n",
       "\n",
       "[129 rows x 9 columns]"
      ]
     },
     "execution_count": 3,
     "metadata": {},
     "output_type": "execute_result"
    }
   ],
   "source": [
    "pp"
   ]
  },
  {
   "cell_type": "markdown",
   "id": "6368ae2f",
   "metadata": {},
   "source": [
    "*****\n",
    "## 3. Data Overview and Understanding"
   ]
  },
  {
   "cell_type": "markdown",
   "id": "da133490",
   "metadata": {},
   "source": [
    "Here we are about to explore the dataset which includes the following tasks:\n",
    "\n",
    "- Retrieving the first five records within the dataset.\n",
    "- Retrieving the bottom five records within the dataset.\n",
    "- Retrieving the random five records within the dataset.\n",
    "- Shape (number of rows X number of columns) of the dataset.\n",
    "- Overall summary of the dataset.\n",
    "- Statistical summary of the numeric columns within the dataset."
   ]
  },
  {
   "cell_type": "markdown",
   "id": "70806a17",
   "metadata": {},
   "source": [
    "*****\n",
    "### 3.1 Retrieving the first five records within the dataset."
   ]
  },
  {
   "cell_type": "code",
   "execution_count": 4,
   "id": "4de8917f",
   "metadata": {},
   "outputs": [
    {
     "data": {
      "text/html": [
       "<div>\n",
       "<style scoped>\n",
       "    .dataframe tbody tr th:only-of-type {\n",
       "        vertical-align: middle;\n",
       "    }\n",
       "\n",
       "    .dataframe tbody tr th {\n",
       "        vertical-align: top;\n",
       "    }\n",
       "\n",
       "    .dataframe thead th {\n",
       "        text-align: right;\n",
       "    }\n",
       "</style>\n",
       "<table border=\"1\" class=\"dataframe\">\n",
       "  <thead>\n",
       "    <tr style=\"text-align: right;\">\n",
       "      <th></th>\n",
       "      <th>company</th>\n",
       "      <th>price_rupiah</th>\n",
       "      <th>diameter</th>\n",
       "      <th>topping</th>\n",
       "      <th>variant</th>\n",
       "      <th>size</th>\n",
       "      <th>extra_sauce</th>\n",
       "      <th>extra_cheese</th>\n",
       "      <th>extra_mushrooms</th>\n",
       "    </tr>\n",
       "  </thead>\n",
       "  <tbody>\n",
       "    <tr>\n",
       "      <th>0</th>\n",
       "      <td>A</td>\n",
       "      <td>Rp235,000</td>\n",
       "      <td>22 inch</td>\n",
       "      <td>chicken</td>\n",
       "      <td>double_signature</td>\n",
       "      <td>jumbo</td>\n",
       "      <td>yes</td>\n",
       "      <td>yes</td>\n",
       "      <td>no</td>\n",
       "    </tr>\n",
       "    <tr>\n",
       "      <th>1</th>\n",
       "      <td>A</td>\n",
       "      <td>Rp198,000</td>\n",
       "      <td>20 inch</td>\n",
       "      <td>papperoni</td>\n",
       "      <td>double_signature</td>\n",
       "      <td>jumbo</td>\n",
       "      <td>yes</td>\n",
       "      <td>yes</td>\n",
       "      <td>no</td>\n",
       "    </tr>\n",
       "    <tr>\n",
       "      <th>2</th>\n",
       "      <td>A</td>\n",
       "      <td>Rp120,000</td>\n",
       "      <td>16 inch</td>\n",
       "      <td>mushrooms</td>\n",
       "      <td>double_signature</td>\n",
       "      <td>reguler</td>\n",
       "      <td>yes</td>\n",
       "      <td>yes</td>\n",
       "      <td>yes</td>\n",
       "    </tr>\n",
       "    <tr>\n",
       "      <th>3</th>\n",
       "      <td>A</td>\n",
       "      <td>Rp155,000</td>\n",
       "      <td>14 inch</td>\n",
       "      <td>smoked_beef</td>\n",
       "      <td>double_signature</td>\n",
       "      <td>reguler</td>\n",
       "      <td>yes</td>\n",
       "      <td>no</td>\n",
       "      <td>yes</td>\n",
       "    </tr>\n",
       "    <tr>\n",
       "      <th>4</th>\n",
       "      <td>A</td>\n",
       "      <td>Rp248,000</td>\n",
       "      <td>18 inch</td>\n",
       "      <td>mozzarella</td>\n",
       "      <td>double_signature</td>\n",
       "      <td>jumbo</td>\n",
       "      <td>yes</td>\n",
       "      <td>no</td>\n",
       "      <td>yes</td>\n",
       "    </tr>\n",
       "  </tbody>\n",
       "</table>\n",
       "</div>"
      ],
      "text/plain": [
       "  company price_rupiah diameter      topping           variant     size  \\\n",
       "0       A    Rp235,000  22 inch      chicken  double_signature    jumbo   \n",
       "1       A    Rp198,000  20 inch    papperoni  double_signature    jumbo   \n",
       "2       A    Rp120,000  16 inch    mushrooms  double_signature  reguler   \n",
       "3       A    Rp155,000  14 inch  smoked_beef  double_signature  reguler   \n",
       "4       A    Rp248,000  18 inch   mozzarella  double_signature    jumbo   \n",
       "\n",
       "  extra_sauce extra_cheese extra_mushrooms  \n",
       "0         yes          yes              no  \n",
       "1         yes          yes              no  \n",
       "2         yes          yes             yes  \n",
       "3         yes           no             yes  \n",
       "4         yes           no             yes  "
      ]
     },
     "execution_count": 4,
     "metadata": {},
     "output_type": "execute_result"
    }
   ],
   "source": [
    "pp.head()"
   ]
  },
  {
   "cell_type": "markdown",
   "id": "020ac2c6",
   "metadata": {},
   "source": [
    "*****\n",
    "### 3.2 Retrieving the bottom five records within the dataset."
   ]
  },
  {
   "cell_type": "code",
   "execution_count": 5,
   "id": "1944be81",
   "metadata": {},
   "outputs": [
    {
     "data": {
      "text/html": [
       "<div>\n",
       "<style scoped>\n",
       "    .dataframe tbody tr th:only-of-type {\n",
       "        vertical-align: middle;\n",
       "    }\n",
       "\n",
       "    .dataframe tbody tr th {\n",
       "        vertical-align: top;\n",
       "    }\n",
       "\n",
       "    .dataframe thead th {\n",
       "        text-align: right;\n",
       "    }\n",
       "</style>\n",
       "<table border=\"1\" class=\"dataframe\">\n",
       "  <thead>\n",
       "    <tr style=\"text-align: right;\">\n",
       "      <th></th>\n",
       "      <th>company</th>\n",
       "      <th>price_rupiah</th>\n",
       "      <th>diameter</th>\n",
       "      <th>topping</th>\n",
       "      <th>variant</th>\n",
       "      <th>size</th>\n",
       "      <th>extra_sauce</th>\n",
       "      <th>extra_cheese</th>\n",
       "      <th>extra_mushrooms</th>\n",
       "    </tr>\n",
       "  </thead>\n",
       "  <tbody>\n",
       "    <tr>\n",
       "      <th>124</th>\n",
       "      <td>E</td>\n",
       "      <td>Rp39,000</td>\n",
       "      <td>8.5 inch</td>\n",
       "      <td>tuna</td>\n",
       "      <td>spicy tuna</td>\n",
       "      <td>small</td>\n",
       "      <td>yes</td>\n",
       "      <td>yes</td>\n",
       "      <td>yes</td>\n",
       "    </tr>\n",
       "    <tr>\n",
       "      <th>125</th>\n",
       "      <td>E</td>\n",
       "      <td>Rp72,000</td>\n",
       "      <td>12 inch</td>\n",
       "      <td>tuna</td>\n",
       "      <td>spicy tuna</td>\n",
       "      <td>medium</td>\n",
       "      <td>yes</td>\n",
       "      <td>yes</td>\n",
       "      <td>yes</td>\n",
       "    </tr>\n",
       "    <tr>\n",
       "      <th>126</th>\n",
       "      <td>E</td>\n",
       "      <td>Rp99,000</td>\n",
       "      <td>14 inch</td>\n",
       "      <td>tuna</td>\n",
       "      <td>spicy tuna</td>\n",
       "      <td>large</td>\n",
       "      <td>yes</td>\n",
       "      <td>yes</td>\n",
       "      <td>yes</td>\n",
       "    </tr>\n",
       "    <tr>\n",
       "      <th>127</th>\n",
       "      <td>E</td>\n",
       "      <td>Rp44,000</td>\n",
       "      <td>8.5 inch</td>\n",
       "      <td>meat</td>\n",
       "      <td>BBQ_meat_fiesta</td>\n",
       "      <td>small</td>\n",
       "      <td>yes</td>\n",
       "      <td>no</td>\n",
       "      <td>yes</td>\n",
       "    </tr>\n",
       "    <tr>\n",
       "      <th>128</th>\n",
       "      <td>E</td>\n",
       "      <td>Rp78,000</td>\n",
       "      <td>12 inch</td>\n",
       "      <td>meat</td>\n",
       "      <td>BBQ_meat_fiesta</td>\n",
       "      <td>medium</td>\n",
       "      <td>no</td>\n",
       "      <td>no</td>\n",
       "      <td>yes</td>\n",
       "    </tr>\n",
       "  </tbody>\n",
       "</table>\n",
       "</div>"
      ],
      "text/plain": [
       "    company price_rupiah  diameter topping          variant    size  \\\n",
       "124       E     Rp39,000  8.5 inch    tuna       spicy tuna   small   \n",
       "125       E     Rp72,000   12 inch    tuna       spicy tuna  medium   \n",
       "126       E     Rp99,000   14 inch    tuna       spicy tuna   large   \n",
       "127       E     Rp44,000  8.5 inch    meat  BBQ_meat_fiesta   small   \n",
       "128       E     Rp78,000   12 inch    meat  BBQ_meat_fiesta  medium   \n",
       "\n",
       "    extra_sauce extra_cheese extra_mushrooms  \n",
       "124         yes          yes             yes  \n",
       "125         yes          yes             yes  \n",
       "126         yes          yes             yes  \n",
       "127         yes           no             yes  \n",
       "128          no           no             yes  "
      ]
     },
     "execution_count": 5,
     "metadata": {},
     "output_type": "execute_result"
    }
   ],
   "source": [
    "pp.tail()"
   ]
  },
  {
   "cell_type": "markdown",
   "id": "34bca93d",
   "metadata": {},
   "source": [
    "*****\n",
    "### 3.3 Retrieving the first random records within the dataset."
   ]
  },
  {
   "cell_type": "code",
   "execution_count": 6,
   "id": "17c4bce1",
   "metadata": {},
   "outputs": [
    {
     "data": {
      "text/html": [
       "<div>\n",
       "<style scoped>\n",
       "    .dataframe tbody tr th:only-of-type {\n",
       "        vertical-align: middle;\n",
       "    }\n",
       "\n",
       "    .dataframe tbody tr th {\n",
       "        vertical-align: top;\n",
       "    }\n",
       "\n",
       "    .dataframe thead th {\n",
       "        text-align: right;\n",
       "    }\n",
       "</style>\n",
       "<table border=\"1\" class=\"dataframe\">\n",
       "  <thead>\n",
       "    <tr style=\"text-align: right;\">\n",
       "      <th></th>\n",
       "      <th>company</th>\n",
       "      <th>price_rupiah</th>\n",
       "      <th>diameter</th>\n",
       "      <th>topping</th>\n",
       "      <th>variant</th>\n",
       "      <th>size</th>\n",
       "      <th>extra_sauce</th>\n",
       "      <th>extra_cheese</th>\n",
       "      <th>extra_mushrooms</th>\n",
       "    </tr>\n",
       "  </thead>\n",
       "  <tbody>\n",
       "    <tr>\n",
       "      <th>101</th>\n",
       "      <td>E</td>\n",
       "      <td>Rp46,000</td>\n",
       "      <td>12 inch</td>\n",
       "      <td>chicken</td>\n",
       "      <td>classic</td>\n",
       "      <td>medium</td>\n",
       "      <td>yes</td>\n",
       "      <td>no</td>\n",
       "      <td>yes</td>\n",
       "    </tr>\n",
       "    <tr>\n",
       "      <th>124</th>\n",
       "      <td>E</td>\n",
       "      <td>Rp39,000</td>\n",
       "      <td>8.5 inch</td>\n",
       "      <td>tuna</td>\n",
       "      <td>spicy tuna</td>\n",
       "      <td>small</td>\n",
       "      <td>yes</td>\n",
       "      <td>yes</td>\n",
       "      <td>yes</td>\n",
       "    </tr>\n",
       "    <tr>\n",
       "      <th>90</th>\n",
       "      <td>D</td>\n",
       "      <td>Rp46,000</td>\n",
       "      <td>12 inch</td>\n",
       "      <td>chicken</td>\n",
       "      <td>classic</td>\n",
       "      <td>medium</td>\n",
       "      <td>yes</td>\n",
       "      <td>no</td>\n",
       "      <td>yes</td>\n",
       "    </tr>\n",
       "    <tr>\n",
       "      <th>25</th>\n",
       "      <td>B</td>\n",
       "      <td>Rp23,500</td>\n",
       "      <td>8.5 inch</td>\n",
       "      <td>mozzarella</td>\n",
       "      <td>classic</td>\n",
       "      <td>small</td>\n",
       "      <td>yes</td>\n",
       "      <td>no</td>\n",
       "      <td>no</td>\n",
       "    </tr>\n",
       "    <tr>\n",
       "      <th>4</th>\n",
       "      <td>A</td>\n",
       "      <td>Rp248,000</td>\n",
       "      <td>18 inch</td>\n",
       "      <td>mozzarella</td>\n",
       "      <td>double_signature</td>\n",
       "      <td>jumbo</td>\n",
       "      <td>yes</td>\n",
       "      <td>no</td>\n",
       "      <td>yes</td>\n",
       "    </tr>\n",
       "  </tbody>\n",
       "</table>\n",
       "</div>"
      ],
      "text/plain": [
       "    company price_rupiah  diameter     topping           variant    size  \\\n",
       "101       E     Rp46,000   12 inch     chicken           classic  medium   \n",
       "124       E     Rp39,000  8.5 inch        tuna        spicy tuna   small   \n",
       "90        D     Rp46,000   12 inch     chicken           classic  medium   \n",
       "25        B     Rp23,500  8.5 inch  mozzarella           classic   small   \n",
       "4         A    Rp248,000   18 inch  mozzarella  double_signature   jumbo   \n",
       "\n",
       "    extra_sauce extra_cheese extra_mushrooms  \n",
       "101         yes           no             yes  \n",
       "124         yes          yes             yes  \n",
       "90          yes           no             yes  \n",
       "25          yes           no              no  \n",
       "4           yes           no             yes  "
      ]
     },
     "execution_count": 6,
     "metadata": {},
     "output_type": "execute_result"
    }
   ],
   "source": [
    "pp.sample(5)"
   ]
  },
  {
   "cell_type": "markdown",
   "id": "286e87fd",
   "metadata": {},
   "source": [
    "*****\n",
    "### 3.4 Shape of the dataset (Number of Rows X Number of Columns)"
   ]
  },
  {
   "cell_type": "code",
   "execution_count": 7,
   "id": "90623118",
   "metadata": {},
   "outputs": [
    {
     "data": {
      "text/plain": [
       "(129, 9)"
      ]
     },
     "execution_count": 7,
     "metadata": {},
     "output_type": "execute_result"
    }
   ],
   "source": [
    "pp.shape"
   ]
  },
  {
   "cell_type": "markdown",
   "id": "fde2ba1b",
   "metadata": {},
   "source": [
    "We have total of 129 rows and 9 columns"
   ]
  },
  {
   "cell_type": "markdown",
   "id": "76ae608e",
   "metadata": {},
   "source": [
    "*****\n",
    "### 3.5 Overall summary of the dataset."
   ]
  },
  {
   "cell_type": "code",
   "execution_count": 8,
   "id": "60a4505b",
   "metadata": {},
   "outputs": [
    {
     "name": "stdout",
     "output_type": "stream",
     "text": [
      "<class 'pandas.core.frame.DataFrame'>\n",
      "RangeIndex: 129 entries, 0 to 128\n",
      "Data columns (total 9 columns):\n",
      " #   Column           Non-Null Count  Dtype \n",
      "---  ------           --------------  ----- \n",
      " 0   company          129 non-null    object\n",
      " 1   price_rupiah     129 non-null    object\n",
      " 2   diameter         129 non-null    object\n",
      " 3   topping          129 non-null    object\n",
      " 4   variant          129 non-null    object\n",
      " 5   size             129 non-null    object\n",
      " 6   extra_sauce      129 non-null    object\n",
      " 7   extra_cheese     129 non-null    object\n",
      " 8   extra_mushrooms  129 non-null    object\n",
      "dtypes: object(9)\n",
      "memory usage: 9.2+ KB\n"
     ]
    }
   ],
   "source": [
    "pp.info()"
   ]
  },
  {
   "cell_type": "markdown",
   "id": "71f32601",
   "metadata": {},
   "source": [
    "From the above summary of the dataset, we can conclude that:\n",
    "\n",
    "- We have a total of 129 rows/records.\n",
    "- We have a total of 9 columns/attributes.\n",
    "- As we look up to the non-null count, we have zero null values within the dataset.\n",
    "- Each and every columns have the object/string datatype.\n",
    "- The memory usage of the datatset is 9.2+ KB."
   ]
  },
  {
   "cell_type": "markdown",
   "id": "6b7ce5a6",
   "metadata": {},
   "source": [
    "*****\n",
    "### 3.6 Statistical summary of the columns within the dataset."
   ]
  },
  {
   "cell_type": "code",
   "execution_count": 9,
   "id": "bb353def",
   "metadata": {},
   "outputs": [
    {
     "data": {
      "text/html": [
       "<div>\n",
       "<style scoped>\n",
       "    .dataframe tbody tr th:only-of-type {\n",
       "        vertical-align: middle;\n",
       "    }\n",
       "\n",
       "    .dataframe tbody tr th {\n",
       "        vertical-align: top;\n",
       "    }\n",
       "\n",
       "    .dataframe thead th {\n",
       "        text-align: right;\n",
       "    }\n",
       "</style>\n",
       "<table border=\"1\" class=\"dataframe\">\n",
       "  <thead>\n",
       "    <tr style=\"text-align: right;\">\n",
       "      <th></th>\n",
       "      <th>company</th>\n",
       "      <th>price_rupiah</th>\n",
       "      <th>diameter</th>\n",
       "      <th>topping</th>\n",
       "      <th>variant</th>\n",
       "      <th>size</th>\n",
       "      <th>extra_sauce</th>\n",
       "      <th>extra_cheese</th>\n",
       "      <th>extra_mushrooms</th>\n",
       "    </tr>\n",
       "  </thead>\n",
       "  <tbody>\n",
       "    <tr>\n",
       "      <th>count</th>\n",
       "      <td>129</td>\n",
       "      <td>129</td>\n",
       "      <td>129</td>\n",
       "      <td>129</td>\n",
       "      <td>129</td>\n",
       "      <td>129</td>\n",
       "      <td>129</td>\n",
       "      <td>129</td>\n",
       "      <td>129</td>\n",
       "    </tr>\n",
       "    <tr>\n",
       "      <th>unique</th>\n",
       "      <td>5</td>\n",
       "      <td>43</td>\n",
       "      <td>12</td>\n",
       "      <td>12</td>\n",
       "      <td>20</td>\n",
       "      <td>6</td>\n",
       "      <td>2</td>\n",
       "      <td>2</td>\n",
       "      <td>2</td>\n",
       "    </tr>\n",
       "    <tr>\n",
       "      <th>top</th>\n",
       "      <td>C</td>\n",
       "      <td>Rp72,000</td>\n",
       "      <td>12 inch</td>\n",
       "      <td>chicken</td>\n",
       "      <td>classic</td>\n",
       "      <td>medium</td>\n",
       "      <td>yes</td>\n",
       "      <td>yes</td>\n",
       "      <td>yes</td>\n",
       "    </tr>\n",
       "    <tr>\n",
       "      <th>freq</th>\n",
       "      <td>30</td>\n",
       "      <td>11</td>\n",
       "      <td>49</td>\n",
       "      <td>29</td>\n",
       "      <td>30</td>\n",
       "      <td>41</td>\n",
       "      <td>76</td>\n",
       "      <td>86</td>\n",
       "      <td>72</td>\n",
       "    </tr>\n",
       "  </tbody>\n",
       "</table>\n",
       "</div>"
      ],
      "text/plain": [
       "       company price_rupiah diameter  topping  variant    size extra_sauce  \\\n",
       "count      129          129      129      129      129     129         129   \n",
       "unique       5           43       12       12       20       6           2   \n",
       "top          C     Rp72,000  12 inch  chicken  classic  medium         yes   \n",
       "freq        30           11       49       29       30      41          76   \n",
       "\n",
       "       extra_cheese extra_mushrooms  \n",
       "count           129             129  \n",
       "unique            2               2  \n",
       "top             yes             yes  \n",
       "freq             86              72  "
      ]
     },
     "execution_count": 9,
     "metadata": {},
     "output_type": "execute_result"
    }
   ],
   "source": [
    "pp.describe()"
   ]
  },
  {
   "cell_type": "markdown",
   "id": "6f94aa3a",
   "metadata": {},
   "source": [
    "As every columns within the dataset have the object datatype, we have the statistical summary of count, unique, top and freq.\n",
    "\n",
    "1. company\n",
    "   - count - total count of values is 129.\n",
    "   - unique - the count of unique no. of values is 5.\n",
    "   - top - the most frequent value is C.\n",
    "   - freq - the count of most frequent value is 30.\n",
    " *****\n",
    "2. price_rupiah\n",
    "   - count - total count of values is 129.\n",
    "   - unique - the count of unique no. of values is 43.\n",
    "   - top - the most frequent value is Rp72,000.\n",
    "   - freq - the count of most frequent value is 11.\n",
    "*****\n",
    "3. diameter\n",
    "   - count - total count of values is 129.\n",
    "   - unique - the count of unique no. of values is 12.\n",
    "   - top - the most frequent value is 12 inch.\n",
    "   - freq - the count of most frequent value is 49.\n",
    "*****\n",
    "4. topping\n",
    "   - count - total count of values is 129.\n",
    "   - unique - the count of unique no. of values is 12.\n",
    "   - top - the most frequent value is chicken.\n",
    "   - freq - the count of most frequent value is 29.\n",
    "*****\n",
    "5. variant\n",
    "   - count - total count of values is 129.\n",
    "   - unique - the count of unique no. of values is 20.\n",
    "   - top - the most frequent value is classic.\n",
    "   - freq - the count of most frequent value is 30.\n",
    "*****\n",
    "6. size\n",
    "   - count - total count of values is 129.\n",
    "   - unique - the count of unique no. of values is 6.\n",
    "   - top - the most frequent value is medium.\n",
    "   - freq - the count of most frequent value is 41.\n",
    "*****\n",
    "7. extra_sauce\n",
    "   - count - total count of values is 129.\n",
    "   - unique - the count of unique no. of values is 2.\n",
    "   - top - the most frequent value is yes.\n",
    "   - freq - the count of most frequent value is 76.\n",
    "*****\n",
    "8. extra_cheese\t\n",
    "   - count - total count of values is 129.\n",
    "   - unique - the count of unique no. of values is 2.\n",
    "   - top - the most frequent value is yes.\n",
    "   - freq - the count of most frequent value is 86.\n",
    "*****\n",
    "9. extra_mushrooms\n",
    "   - count - total count of values is 129.\n",
    "   - unique - the count of unique no. of values is 2.\n",
    "   - top - the most frequent value is yes.\n",
    "   - freq - the count of most frequent value is 72."
   ]
  },
  {
   "cell_type": "markdown",
   "id": "eed9a0ef",
   "metadata": {},
   "source": [
    "## 4. Data Pre-processing"
   ]
  },
  {
   "cell_type": "markdown",
   "id": "7899e44e",
   "metadata": {},
   "source": [
    "### 4.1 Data Cleaning"
   ]
  },
  {
   "cell_type": "markdown",
   "id": "9ac9bea6",
   "metadata": {},
   "source": [
    "#### 4.1.1 - Checking and handling duplicate records within the dataset."
   ]
  },
  {
   "cell_type": "code",
   "execution_count": 10,
   "id": "a76d06d5",
   "metadata": {},
   "outputs": [
    {
     "data": {
      "text/plain": [
       "True"
      ]
     },
     "execution_count": 10,
     "metadata": {},
     "output_type": "execute_result"
    }
   ],
   "source": [
    "pp.duplicated().any()"
   ]
  },
  {
   "cell_type": "code",
   "execution_count": 11,
   "id": "55914a87",
   "metadata": {},
   "outputs": [
    {
     "data": {
      "text/plain": [
       "2"
      ]
     },
     "execution_count": 11,
     "metadata": {},
     "output_type": "execute_result"
    }
   ],
   "source": [
    "pp.duplicated().sum()"
   ]
  },
  {
   "cell_type": "markdown",
   "id": "93eef42b",
   "metadata": {},
   "source": [
    "As we can see, there are total of two duplicate records within the dataset.\n",
    "*****"
   ]
  },
  {
   "cell_type": "code",
   "execution_count": 12,
   "id": "bbd73c98",
   "metadata": {},
   "outputs": [],
   "source": [
    "pp.drop_duplicates(inplace = True)"
   ]
  },
  {
   "cell_type": "code",
   "execution_count": 13,
   "id": "febe8f57",
   "metadata": {},
   "outputs": [
    {
     "data": {
      "text/html": [
       "<div>\n",
       "<style scoped>\n",
       "    .dataframe tbody tr th:only-of-type {\n",
       "        vertical-align: middle;\n",
       "    }\n",
       "\n",
       "    .dataframe tbody tr th {\n",
       "        vertical-align: top;\n",
       "    }\n",
       "\n",
       "    .dataframe thead th {\n",
       "        text-align: right;\n",
       "    }\n",
       "</style>\n",
       "<table border=\"1\" class=\"dataframe\">\n",
       "  <thead>\n",
       "    <tr style=\"text-align: right;\">\n",
       "      <th></th>\n",
       "      <th>company</th>\n",
       "      <th>price_rupiah</th>\n",
       "      <th>diameter</th>\n",
       "      <th>topping</th>\n",
       "      <th>variant</th>\n",
       "      <th>size</th>\n",
       "      <th>extra_sauce</th>\n",
       "      <th>extra_cheese</th>\n",
       "      <th>extra_mushrooms</th>\n",
       "    </tr>\n",
       "  </thead>\n",
       "  <tbody>\n",
       "    <tr>\n",
       "      <th>0</th>\n",
       "      <td>A</td>\n",
       "      <td>Rp235,000</td>\n",
       "      <td>22 inch</td>\n",
       "      <td>chicken</td>\n",
       "      <td>double_signature</td>\n",
       "      <td>jumbo</td>\n",
       "      <td>yes</td>\n",
       "      <td>yes</td>\n",
       "      <td>no</td>\n",
       "    </tr>\n",
       "    <tr>\n",
       "      <th>1</th>\n",
       "      <td>A</td>\n",
       "      <td>Rp198,000</td>\n",
       "      <td>20 inch</td>\n",
       "      <td>papperoni</td>\n",
       "      <td>double_signature</td>\n",
       "      <td>jumbo</td>\n",
       "      <td>yes</td>\n",
       "      <td>yes</td>\n",
       "      <td>no</td>\n",
       "    </tr>\n",
       "    <tr>\n",
       "      <th>2</th>\n",
       "      <td>A</td>\n",
       "      <td>Rp120,000</td>\n",
       "      <td>16 inch</td>\n",
       "      <td>mushrooms</td>\n",
       "      <td>double_signature</td>\n",
       "      <td>reguler</td>\n",
       "      <td>yes</td>\n",
       "      <td>yes</td>\n",
       "      <td>yes</td>\n",
       "    </tr>\n",
       "    <tr>\n",
       "      <th>3</th>\n",
       "      <td>A</td>\n",
       "      <td>Rp155,000</td>\n",
       "      <td>14 inch</td>\n",
       "      <td>smoked_beef</td>\n",
       "      <td>double_signature</td>\n",
       "      <td>reguler</td>\n",
       "      <td>yes</td>\n",
       "      <td>no</td>\n",
       "      <td>yes</td>\n",
       "    </tr>\n",
       "    <tr>\n",
       "      <th>4</th>\n",
       "      <td>A</td>\n",
       "      <td>Rp248,000</td>\n",
       "      <td>18 inch</td>\n",
       "      <td>mozzarella</td>\n",
       "      <td>double_signature</td>\n",
       "      <td>jumbo</td>\n",
       "      <td>yes</td>\n",
       "      <td>no</td>\n",
       "      <td>yes</td>\n",
       "    </tr>\n",
       "    <tr>\n",
       "      <th>...</th>\n",
       "      <td>...</td>\n",
       "      <td>...</td>\n",
       "      <td>...</td>\n",
       "      <td>...</td>\n",
       "      <td>...</td>\n",
       "      <td>...</td>\n",
       "      <td>...</td>\n",
       "      <td>...</td>\n",
       "      <td>...</td>\n",
       "    </tr>\n",
       "    <tr>\n",
       "      <th>124</th>\n",
       "      <td>E</td>\n",
       "      <td>Rp39,000</td>\n",
       "      <td>8.5 inch</td>\n",
       "      <td>tuna</td>\n",
       "      <td>spicy tuna</td>\n",
       "      <td>small</td>\n",
       "      <td>yes</td>\n",
       "      <td>yes</td>\n",
       "      <td>yes</td>\n",
       "    </tr>\n",
       "    <tr>\n",
       "      <th>125</th>\n",
       "      <td>E</td>\n",
       "      <td>Rp72,000</td>\n",
       "      <td>12 inch</td>\n",
       "      <td>tuna</td>\n",
       "      <td>spicy tuna</td>\n",
       "      <td>medium</td>\n",
       "      <td>yes</td>\n",
       "      <td>yes</td>\n",
       "      <td>yes</td>\n",
       "    </tr>\n",
       "    <tr>\n",
       "      <th>126</th>\n",
       "      <td>E</td>\n",
       "      <td>Rp99,000</td>\n",
       "      <td>14 inch</td>\n",
       "      <td>tuna</td>\n",
       "      <td>spicy tuna</td>\n",
       "      <td>large</td>\n",
       "      <td>yes</td>\n",
       "      <td>yes</td>\n",
       "      <td>yes</td>\n",
       "    </tr>\n",
       "    <tr>\n",
       "      <th>127</th>\n",
       "      <td>E</td>\n",
       "      <td>Rp44,000</td>\n",
       "      <td>8.5 inch</td>\n",
       "      <td>meat</td>\n",
       "      <td>BBQ_meat_fiesta</td>\n",
       "      <td>small</td>\n",
       "      <td>yes</td>\n",
       "      <td>no</td>\n",
       "      <td>yes</td>\n",
       "    </tr>\n",
       "    <tr>\n",
       "      <th>128</th>\n",
       "      <td>E</td>\n",
       "      <td>Rp78,000</td>\n",
       "      <td>12 inch</td>\n",
       "      <td>meat</td>\n",
       "      <td>BBQ_meat_fiesta</td>\n",
       "      <td>medium</td>\n",
       "      <td>no</td>\n",
       "      <td>no</td>\n",
       "      <td>yes</td>\n",
       "    </tr>\n",
       "  </tbody>\n",
       "</table>\n",
       "<p>127 rows × 9 columns</p>\n",
       "</div>"
      ],
      "text/plain": [
       "    company price_rupiah  diameter      topping           variant     size  \\\n",
       "0         A    Rp235,000   22 inch      chicken  double_signature    jumbo   \n",
       "1         A    Rp198,000   20 inch    papperoni  double_signature    jumbo   \n",
       "2         A    Rp120,000   16 inch    mushrooms  double_signature  reguler   \n",
       "3         A    Rp155,000   14 inch  smoked_beef  double_signature  reguler   \n",
       "4         A    Rp248,000   18 inch   mozzarella  double_signature    jumbo   \n",
       "..      ...          ...       ...          ...               ...      ...   \n",
       "124       E     Rp39,000  8.5 inch         tuna        spicy tuna    small   \n",
       "125       E     Rp72,000   12 inch         tuna        spicy tuna   medium   \n",
       "126       E     Rp99,000   14 inch         tuna        spicy tuna    large   \n",
       "127       E     Rp44,000  8.5 inch         meat   BBQ_meat_fiesta    small   \n",
       "128       E     Rp78,000   12 inch         meat   BBQ_meat_fiesta   medium   \n",
       "\n",
       "    extra_sauce extra_cheese extra_mushrooms  \n",
       "0           yes          yes              no  \n",
       "1           yes          yes              no  \n",
       "2           yes          yes             yes  \n",
       "3           yes           no             yes  \n",
       "4           yes           no             yes  \n",
       "..          ...          ...             ...  \n",
       "124         yes          yes             yes  \n",
       "125         yes          yes             yes  \n",
       "126         yes          yes             yes  \n",
       "127         yes           no             yes  \n",
       "128          no           no             yes  \n",
       "\n",
       "[127 rows x 9 columns]"
      ]
     },
     "execution_count": 13,
     "metadata": {},
     "output_type": "execute_result"
    }
   ],
   "source": [
    "pp"
   ]
  },
  {
   "cell_type": "markdown",
   "id": "068b83a7",
   "metadata": {},
   "source": [
    "After dropping the duplicate records, we are down to total of 127 records from 129 records."
   ]
  },
  {
   "cell_type": "markdown",
   "id": "570ac8d9",
   "metadata": {},
   "source": [
    "*****\n",
    "#### 4.1.2 Checking null values within the dataset."
   ]
  },
  {
   "cell_type": "code",
   "execution_count": 14,
   "id": "1573f152",
   "metadata": {},
   "outputs": [
    {
     "data": {
      "text/plain": [
       "company            0\n",
       "price_rupiah       0\n",
       "diameter           0\n",
       "topping            0\n",
       "variant            0\n",
       "size               0\n",
       "extra_sauce        0\n",
       "extra_cheese       0\n",
       "extra_mushrooms    0\n",
       "dtype: int64"
      ]
     },
     "execution_count": 14,
     "metadata": {},
     "output_type": "execute_result"
    }
   ],
   "source": [
    "pp.isnull().sum()"
   ]
  },
  {
   "cell_type": "markdown",
   "id": "30dfee1e",
   "metadata": {},
   "source": [
    "As we have summarized above as well, there are no null values within the dataset."
   ]
  },
  {
   "cell_type": "markdown",
   "id": "0ac41c34",
   "metadata": {},
   "source": [
    "*****\n",
    "## 4.2 Data Transformation"
   ]
  },
  {
   "cell_type": "markdown",
   "id": "657773d6",
   "metadata": {},
   "source": [
    "#### 4.2.1 Removing strings from 'price_rupiah ' and 'diameter' columns"
   ]
  },
  {
   "cell_type": "code",
   "execution_count": 15,
   "id": "af245461",
   "metadata": {},
   "outputs": [],
   "source": [
    "pp['price_rupiah'] = pp['price_rupiah'].str.replace('Rp','')"
   ]
  },
  {
   "cell_type": "code",
   "execution_count": 16,
   "id": "e5229b2e",
   "metadata": {},
   "outputs": [],
   "source": [
    "pp['price_rupiah'] = pp['price_rupiah'].str.replace(',','')"
   ]
  },
  {
   "cell_type": "code",
   "execution_count": 17,
   "id": "647bb880",
   "metadata": {},
   "outputs": [
    {
     "data": {
      "text/html": [
       "<div>\n",
       "<style scoped>\n",
       "    .dataframe tbody tr th:only-of-type {\n",
       "        vertical-align: middle;\n",
       "    }\n",
       "\n",
       "    .dataframe tbody tr th {\n",
       "        vertical-align: top;\n",
       "    }\n",
       "\n",
       "    .dataframe thead th {\n",
       "        text-align: right;\n",
       "    }\n",
       "</style>\n",
       "<table border=\"1\" class=\"dataframe\">\n",
       "  <thead>\n",
       "    <tr style=\"text-align: right;\">\n",
       "      <th></th>\n",
       "      <th>company</th>\n",
       "      <th>price_rupiah</th>\n",
       "      <th>diameter</th>\n",
       "      <th>topping</th>\n",
       "      <th>variant</th>\n",
       "      <th>size</th>\n",
       "      <th>extra_sauce</th>\n",
       "      <th>extra_cheese</th>\n",
       "      <th>extra_mushrooms</th>\n",
       "    </tr>\n",
       "  </thead>\n",
       "  <tbody>\n",
       "    <tr>\n",
       "      <th>0</th>\n",
       "      <td>A</td>\n",
       "      <td>235000</td>\n",
       "      <td>22 inch</td>\n",
       "      <td>chicken</td>\n",
       "      <td>double_signature</td>\n",
       "      <td>jumbo</td>\n",
       "      <td>yes</td>\n",
       "      <td>yes</td>\n",
       "      <td>no</td>\n",
       "    </tr>\n",
       "    <tr>\n",
       "      <th>1</th>\n",
       "      <td>A</td>\n",
       "      <td>198000</td>\n",
       "      <td>20 inch</td>\n",
       "      <td>papperoni</td>\n",
       "      <td>double_signature</td>\n",
       "      <td>jumbo</td>\n",
       "      <td>yes</td>\n",
       "      <td>yes</td>\n",
       "      <td>no</td>\n",
       "    </tr>\n",
       "    <tr>\n",
       "      <th>2</th>\n",
       "      <td>A</td>\n",
       "      <td>120000</td>\n",
       "      <td>16 inch</td>\n",
       "      <td>mushrooms</td>\n",
       "      <td>double_signature</td>\n",
       "      <td>reguler</td>\n",
       "      <td>yes</td>\n",
       "      <td>yes</td>\n",
       "      <td>yes</td>\n",
       "    </tr>\n",
       "    <tr>\n",
       "      <th>3</th>\n",
       "      <td>A</td>\n",
       "      <td>155000</td>\n",
       "      <td>14 inch</td>\n",
       "      <td>smoked_beef</td>\n",
       "      <td>double_signature</td>\n",
       "      <td>reguler</td>\n",
       "      <td>yes</td>\n",
       "      <td>no</td>\n",
       "      <td>yes</td>\n",
       "    </tr>\n",
       "    <tr>\n",
       "      <th>4</th>\n",
       "      <td>A</td>\n",
       "      <td>248000</td>\n",
       "      <td>18 inch</td>\n",
       "      <td>mozzarella</td>\n",
       "      <td>double_signature</td>\n",
       "      <td>jumbo</td>\n",
       "      <td>yes</td>\n",
       "      <td>no</td>\n",
       "      <td>yes</td>\n",
       "    </tr>\n",
       "  </tbody>\n",
       "</table>\n",
       "</div>"
      ],
      "text/plain": [
       "  company price_rupiah diameter      topping           variant     size  \\\n",
       "0       A       235000  22 inch      chicken  double_signature    jumbo   \n",
       "1       A       198000  20 inch    papperoni  double_signature    jumbo   \n",
       "2       A       120000  16 inch    mushrooms  double_signature  reguler   \n",
       "3       A       155000  14 inch  smoked_beef  double_signature  reguler   \n",
       "4       A       248000  18 inch   mozzarella  double_signature    jumbo   \n",
       "\n",
       "  extra_sauce extra_cheese extra_mushrooms  \n",
       "0         yes          yes              no  \n",
       "1         yes          yes              no  \n",
       "2         yes          yes             yes  \n",
       "3         yes           no             yes  \n",
       "4         yes           no             yes  "
      ]
     },
     "execution_count": 17,
     "metadata": {},
     "output_type": "execute_result"
    }
   ],
   "source": [
    "pp.head()"
   ]
  },
  {
   "cell_type": "markdown",
   "id": "05c04ebc",
   "metadata": {},
   "source": [
    "*****"
   ]
  },
  {
   "cell_type": "code",
   "execution_count": 18,
   "id": "02877907",
   "metadata": {},
   "outputs": [],
   "source": [
    "pp['diameter'] = pp['diameter'].str.replace(' inch','')"
   ]
  },
  {
   "cell_type": "code",
   "execution_count": 19,
   "id": "35e65f5e",
   "metadata": {},
   "outputs": [
    {
     "data": {
      "text/html": [
       "<div>\n",
       "<style scoped>\n",
       "    .dataframe tbody tr th:only-of-type {\n",
       "        vertical-align: middle;\n",
       "    }\n",
       "\n",
       "    .dataframe tbody tr th {\n",
       "        vertical-align: top;\n",
       "    }\n",
       "\n",
       "    .dataframe thead th {\n",
       "        text-align: right;\n",
       "    }\n",
       "</style>\n",
       "<table border=\"1\" class=\"dataframe\">\n",
       "  <thead>\n",
       "    <tr style=\"text-align: right;\">\n",
       "      <th></th>\n",
       "      <th>company</th>\n",
       "      <th>price_rupiah</th>\n",
       "      <th>diameter</th>\n",
       "      <th>topping</th>\n",
       "      <th>variant</th>\n",
       "      <th>size</th>\n",
       "      <th>extra_sauce</th>\n",
       "      <th>extra_cheese</th>\n",
       "      <th>extra_mushrooms</th>\n",
       "    </tr>\n",
       "  </thead>\n",
       "  <tbody>\n",
       "    <tr>\n",
       "      <th>0</th>\n",
       "      <td>A</td>\n",
       "      <td>235000</td>\n",
       "      <td>22</td>\n",
       "      <td>chicken</td>\n",
       "      <td>double_signature</td>\n",
       "      <td>jumbo</td>\n",
       "      <td>yes</td>\n",
       "      <td>yes</td>\n",
       "      <td>no</td>\n",
       "    </tr>\n",
       "    <tr>\n",
       "      <th>1</th>\n",
       "      <td>A</td>\n",
       "      <td>198000</td>\n",
       "      <td>20</td>\n",
       "      <td>papperoni</td>\n",
       "      <td>double_signature</td>\n",
       "      <td>jumbo</td>\n",
       "      <td>yes</td>\n",
       "      <td>yes</td>\n",
       "      <td>no</td>\n",
       "    </tr>\n",
       "    <tr>\n",
       "      <th>2</th>\n",
       "      <td>A</td>\n",
       "      <td>120000</td>\n",
       "      <td>16</td>\n",
       "      <td>mushrooms</td>\n",
       "      <td>double_signature</td>\n",
       "      <td>reguler</td>\n",
       "      <td>yes</td>\n",
       "      <td>yes</td>\n",
       "      <td>yes</td>\n",
       "    </tr>\n",
       "    <tr>\n",
       "      <th>3</th>\n",
       "      <td>A</td>\n",
       "      <td>155000</td>\n",
       "      <td>14</td>\n",
       "      <td>smoked_beef</td>\n",
       "      <td>double_signature</td>\n",
       "      <td>reguler</td>\n",
       "      <td>yes</td>\n",
       "      <td>no</td>\n",
       "      <td>yes</td>\n",
       "    </tr>\n",
       "    <tr>\n",
       "      <th>4</th>\n",
       "      <td>A</td>\n",
       "      <td>248000</td>\n",
       "      <td>18</td>\n",
       "      <td>mozzarella</td>\n",
       "      <td>double_signature</td>\n",
       "      <td>jumbo</td>\n",
       "      <td>yes</td>\n",
       "      <td>no</td>\n",
       "      <td>yes</td>\n",
       "    </tr>\n",
       "  </tbody>\n",
       "</table>\n",
       "</div>"
      ],
      "text/plain": [
       "  company price_rupiah diameter      topping           variant     size  \\\n",
       "0       A       235000       22      chicken  double_signature    jumbo   \n",
       "1       A       198000       20    papperoni  double_signature    jumbo   \n",
       "2       A       120000       16    mushrooms  double_signature  reguler   \n",
       "3       A       155000       14  smoked_beef  double_signature  reguler   \n",
       "4       A       248000       18   mozzarella  double_signature    jumbo   \n",
       "\n",
       "  extra_sauce extra_cheese extra_mushrooms  \n",
       "0         yes          yes              no  \n",
       "1         yes          yes              no  \n",
       "2         yes          yes             yes  \n",
       "3         yes           no             yes  \n",
       "4         yes           no             yes  "
      ]
     },
     "execution_count": 19,
     "metadata": {},
     "output_type": "execute_result"
    }
   ],
   "source": [
    "pp.head()"
   ]
  },
  {
   "cell_type": "code",
   "execution_count": 20,
   "id": "1f379670",
   "metadata": {},
   "outputs": [],
   "source": [
    "pp['variant'] = pp['variant'].str.replace('spicy tuna', 'spicy_tuna')"
   ]
  },
  {
   "cell_type": "markdown",
   "id": "b004f439",
   "metadata": {},
   "source": [
    "*****\n",
    "#### 4.2.2 Converting the datatype of the columns 'price_rupiah ' and 'diameter'"
   ]
  },
  {
   "cell_type": "code",
   "execution_count": 21,
   "id": "cf8e9da9",
   "metadata": {},
   "outputs": [],
   "source": [
    "pp['price_rupiah'] = pp['price_rupiah'].astype('int64')"
   ]
  },
  {
   "cell_type": "code",
   "execution_count": 22,
   "id": "f20b3122",
   "metadata": {},
   "outputs": [
    {
     "data": {
      "text/plain": [
       "dtype('int64')"
      ]
     },
     "execution_count": 22,
     "metadata": {},
     "output_type": "execute_result"
    }
   ],
   "source": [
    "pp['price_rupiah'].dtype"
   ]
  },
  {
   "cell_type": "code",
   "execution_count": 23,
   "id": "2454900e",
   "metadata": {},
   "outputs": [],
   "source": [
    "pp['diameter'] = pp['diameter'].astype('float64')"
   ]
  },
  {
   "cell_type": "code",
   "execution_count": 24,
   "id": "a5436922",
   "metadata": {},
   "outputs": [
    {
     "data": {
      "text/plain": [
       "dtype('float64')"
      ]
     },
     "execution_count": 24,
     "metadata": {},
     "output_type": "execute_result"
    }
   ],
   "source": [
    "pp['diameter'].dtype"
   ]
  },
  {
   "cell_type": "markdown",
   "id": "cc9639c2",
   "metadata": {},
   "source": [
    "*****\n",
    "#### 4.2.3 Renaming the column 'price_rupiah ' to 'price'"
   ]
  },
  {
   "cell_type": "code",
   "execution_count": 25,
   "id": "ccb0d178",
   "metadata": {},
   "outputs": [],
   "source": [
    "pp.rename(columns = ({'price_rupiah': 'price'}), inplace = True)"
   ]
  },
  {
   "cell_type": "code",
   "execution_count": 26,
   "id": "d2525d27",
   "metadata": {},
   "outputs": [
    {
     "data": {
      "text/plain": [
       "Index(['company', 'price', 'diameter', 'topping', 'variant', 'size',\n",
       "       'extra_sauce', 'extra_cheese', 'extra_mushrooms'],\n",
       "      dtype='object')"
      ]
     },
     "execution_count": 26,
     "metadata": {},
     "output_type": "execute_result"
    }
   ],
   "source": [
    "pp.columns"
   ]
  },
  {
   "cell_type": "markdown",
   "id": "33472b47",
   "metadata": {},
   "source": [
    "*****\n",
    "#### 4.2.4 Converting the values in 'price' column to nepali rupee."
   ]
  },
  {
   "cell_type": "markdown",
   "id": "e061e8a3",
   "metadata": {},
   "source": [
    "Since the values in price columns are in indonesian rupee, we are converting to it to nepali rupee."
   ]
  },
  {
   "cell_type": "code",
   "execution_count": 27,
   "id": "59cfd0da",
   "metadata": {},
   "outputs": [],
   "source": [
    "pp['price'] = pp['price'].apply(lambda x: x*0.0086)"
   ]
  },
  {
   "cell_type": "code",
   "execution_count": 28,
   "id": "4dd83a7d",
   "metadata": {},
   "outputs": [
    {
     "data": {
      "text/html": [
       "<div>\n",
       "<style scoped>\n",
       "    .dataframe tbody tr th:only-of-type {\n",
       "        vertical-align: middle;\n",
       "    }\n",
       "\n",
       "    .dataframe tbody tr th {\n",
       "        vertical-align: top;\n",
       "    }\n",
       "\n",
       "    .dataframe thead th {\n",
       "        text-align: right;\n",
       "    }\n",
       "</style>\n",
       "<table border=\"1\" class=\"dataframe\">\n",
       "  <thead>\n",
       "    <tr style=\"text-align: right;\">\n",
       "      <th></th>\n",
       "      <th>company</th>\n",
       "      <th>price</th>\n",
       "      <th>diameter</th>\n",
       "      <th>topping</th>\n",
       "      <th>variant</th>\n",
       "      <th>size</th>\n",
       "      <th>extra_sauce</th>\n",
       "      <th>extra_cheese</th>\n",
       "      <th>extra_mushrooms</th>\n",
       "    </tr>\n",
       "  </thead>\n",
       "  <tbody>\n",
       "    <tr>\n",
       "      <th>0</th>\n",
       "      <td>A</td>\n",
       "      <td>2021.0</td>\n",
       "      <td>22.0</td>\n",
       "      <td>chicken</td>\n",
       "      <td>double_signature</td>\n",
       "      <td>jumbo</td>\n",
       "      <td>yes</td>\n",
       "      <td>yes</td>\n",
       "      <td>no</td>\n",
       "    </tr>\n",
       "    <tr>\n",
       "      <th>1</th>\n",
       "      <td>A</td>\n",
       "      <td>1702.8</td>\n",
       "      <td>20.0</td>\n",
       "      <td>papperoni</td>\n",
       "      <td>double_signature</td>\n",
       "      <td>jumbo</td>\n",
       "      <td>yes</td>\n",
       "      <td>yes</td>\n",
       "      <td>no</td>\n",
       "    </tr>\n",
       "    <tr>\n",
       "      <th>2</th>\n",
       "      <td>A</td>\n",
       "      <td>1032.0</td>\n",
       "      <td>16.0</td>\n",
       "      <td>mushrooms</td>\n",
       "      <td>double_signature</td>\n",
       "      <td>reguler</td>\n",
       "      <td>yes</td>\n",
       "      <td>yes</td>\n",
       "      <td>yes</td>\n",
       "    </tr>\n",
       "    <tr>\n",
       "      <th>3</th>\n",
       "      <td>A</td>\n",
       "      <td>1333.0</td>\n",
       "      <td>14.0</td>\n",
       "      <td>smoked_beef</td>\n",
       "      <td>double_signature</td>\n",
       "      <td>reguler</td>\n",
       "      <td>yes</td>\n",
       "      <td>no</td>\n",
       "      <td>yes</td>\n",
       "    </tr>\n",
       "    <tr>\n",
       "      <th>4</th>\n",
       "      <td>A</td>\n",
       "      <td>2132.8</td>\n",
       "      <td>18.0</td>\n",
       "      <td>mozzarella</td>\n",
       "      <td>double_signature</td>\n",
       "      <td>jumbo</td>\n",
       "      <td>yes</td>\n",
       "      <td>no</td>\n",
       "      <td>yes</td>\n",
       "    </tr>\n",
       "  </tbody>\n",
       "</table>\n",
       "</div>"
      ],
      "text/plain": [
       "  company   price  diameter      topping           variant     size  \\\n",
       "0       A  2021.0      22.0      chicken  double_signature    jumbo   \n",
       "1       A  1702.8      20.0    papperoni  double_signature    jumbo   \n",
       "2       A  1032.0      16.0    mushrooms  double_signature  reguler   \n",
       "3       A  1333.0      14.0  smoked_beef  double_signature  reguler   \n",
       "4       A  2132.8      18.0   mozzarella  double_signature    jumbo   \n",
       "\n",
       "  extra_sauce extra_cheese extra_mushrooms  \n",
       "0         yes          yes              no  \n",
       "1         yes          yes              no  \n",
       "2         yes          yes             yes  \n",
       "3         yes           no             yes  \n",
       "4         yes           no             yes  "
      ]
     },
     "execution_count": 28,
     "metadata": {},
     "output_type": "execute_result"
    }
   ],
   "source": [
    "pp.head()"
   ]
  },
  {
   "cell_type": "markdown",
   "id": "4de000d5",
   "metadata": {},
   "source": [
    "## 5. Univariate Analysis"
   ]
  },
  {
   "cell_type": "markdown",
   "id": "a000c1f7",
   "metadata": {},
   "source": [
    "### 5.1 Distribution of 'company' column"
   ]
  },
  {
   "cell_type": "code",
   "execution_count": 29,
   "id": "35a7160c",
   "metadata": {},
   "outputs": [
    {
     "data": {
      "text/plain": [
       "5"
      ]
     },
     "execution_count": 29,
     "metadata": {},
     "output_type": "execute_result"
    }
   ],
   "source": [
    "pp['company'].nunique()"
   ]
  },
  {
   "cell_type": "code",
   "execution_count": 30,
   "id": "3b1edb1e",
   "metadata": {},
   "outputs": [
    {
     "data": {
      "text/plain": [
       "C    30\n",
       "E    28\n",
       "A    25\n",
       "B    24\n",
       "D    20\n",
       "Name: company, dtype: int64"
      ]
     },
     "execution_count": 30,
     "metadata": {},
     "output_type": "execute_result"
    }
   ],
   "source": [
    "pp['company'].value_counts()"
   ]
  },
  {
   "cell_type": "markdown",
   "id": "6bb39f0c",
   "metadata": {},
   "source": [
    "- We can see that there are total of 5 unique values within the 'company' column (i.e. A, B, C, D, E) and so we can say that it consists of categorical data.\n",
    "- Company C has the highest frequency count with 30, company E with the frequency count of 28, company A with the frequency count of 25, company B with frequency count of 24 and laslty company D with the least frequency count of 20.\n"
   ]
  },
  {
   "cell_type": "code",
   "execution_count": 31,
   "id": "37843924",
   "metadata": {},
   "outputs": [
    {
     "data": {
      "image/png": "[encoded data removed]",
      "text/plain": [
       "<Figure size 1000x500 with 1 Axes>"
      ]
     },
     "metadata": {},
     "output_type": "display_data"
    }
   ],
   "source": [
    "# countplot for 'company' column\n",
    "\n",
    "plt.figure(figsize = (10,5))\n",
    "cp = sns.countplot(x = pp['company'])\n",
    "\n",
    "for bars in cp.containers:\n",
    "    cp.bar_label(bars)\n",
    "\n",
    "plt.show()"
   ]
  },
  {
   "cell_type": "markdown",
   "id": "d94e5de9",
   "metadata": {},
   "source": [
    "*****\n",
    "### 5.2  DIstribution of 'price' column"
   ]
  },
  {
   "cell_type": "code",
   "execution_count": 32,
   "id": "f0575bfe",
   "metadata": {},
   "outputs": [
    {
     "data": {
      "text/plain": [
       "43"
      ]
     },
     "execution_count": 32,
     "metadata": {},
     "output_type": "execute_result"
    }
   ],
   "source": [
    "pp['price'].nunique()"
   ]
  },
  {
   "cell_type": "code",
   "execution_count": 33,
   "id": "b861104d",
   "metadata": {},
   "outputs": [
    {
     "data": {
      "text/plain": [
       "619.2     11\n",
       "774.0      8\n",
       "395.6      7\n",
       "825.6      5\n",
       "645.0      5\n",
       "421.4      5\n",
       "713.8      4\n",
       "1204.0     4\n",
       "946.0      4\n",
       "602.0      4\n",
       "851.4      4\n",
       "335.4      4\n",
       "1281.4     4\n",
       "378.4      3\n",
       "266.6      3\n",
       "670.8      3\n",
       "301.0      3\n",
       "516.0      3\n",
       "593.4      3\n",
       "799.8      3\n",
       "842.8      3\n",
       "202.1      3\n",
       "1023.4     2\n",
       "903.0      2\n",
       "1978.0     2\n",
       "1616.8     2\n",
       "980.4      2\n",
       "1087.9     2\n",
       "653.6      2\n",
       "283.8      2\n",
       "1057.8     2\n",
       "989.0      2\n",
       "438.6      1\n",
       "722.4      1\n",
       "275.2      1\n",
       "464.4      1\n",
       "240.8      1\n",
       "2021.0     1\n",
       "1702.8     1\n",
       "2132.8     1\n",
       "1333.0     1\n",
       "1032.0     1\n",
       "791.2      1\n",
       "Name: price, dtype: int64"
      ]
     },
     "execution_count": 33,
     "metadata": {},
     "output_type": "execute_result"
    }
   ],
   "source": [
    "pp['price'].value_counts()"
   ]
  },
  {
   "cell_type": "code",
   "execution_count": 34,
   "id": "5eb9f18a",
   "metadata": {},
   "outputs": [
    {
     "data": {
      "text/plain": [
       "2132.8"
      ]
     },
     "execution_count": 34,
     "metadata": {},
     "output_type": "execute_result"
    }
   ],
   "source": [
    "pp['price'].max()"
   ]
  },
  {
   "cell_type": "code",
   "execution_count": 35,
   "id": "68058ce4",
   "metadata": {},
   "outputs": [
    {
     "data": {
      "text/plain": [
       "202.1"
      ]
     },
     "execution_count": 35,
     "metadata": {},
     "output_type": "execute_result"
    }
   ],
   "source": [
    "pp['price'].min()"
   ]
  },
  {
   "cell_type": "code",
   "execution_count": 36,
   "id": "784e76bc",
   "metadata": {},
   "outputs": [
    {
     "data": {
      "text/plain": [
       "747.9"
      ]
     },
     "execution_count": 36,
     "metadata": {},
     "output_type": "execute_result"
    }
   ],
   "source": [
    "round(pp['price'].mean(),2)"
   ]
  },
  {
   "cell_type": "markdown",
   "id": "46702d4e",
   "metadata": {},
   "source": [
    "- We can see that there are total of 43 unique values within the 'price' column and it consists of continuous numerical data.\n",
    "- The highest price frequency count is 11 for 619.2 and the least price frequency count is 1 for 791.2.\n",
    "- The maximum value for price is 2132.8, the minimum value is 202.1 and the mean value is 747.9."
   ]
  },
  {
   "cell_type": "code",
   "execution_count": 37,
   "id": "554b994b",
   "metadata": {},
   "outputs": [
    {
     "data": {
      "image/png": "[encoded data removed]",
      "text/plain": [
       "<Figure size 1000x500 with 1 Axes>"
      ]
     },
     "metadata": {},
     "output_type": "display_data"
    }
   ],
   "source": [
    "# histogram plot for 'price' column.\n",
    "\n",
    "plt.figure(figsize = (10,5))\n",
    "sns.histplot(x = pp['price'], kde = True)\n",
    "plt.show()"
   ]
  },
  {
   "cell_type": "markdown",
   "id": "d9e18cd8",
   "metadata": {},
   "source": [
    "From the above histogram plot, we can conclude that:\n",
    " - A positive skewness is shown from the price distribution.\n",
    " - Price range from around 600 to 700 has the most frequency."
   ]
  },
  {
   "cell_type": "code",
   "execution_count": 38,
   "id": "a1849f30",
   "metadata": {},
   "outputs": [
    {
     "data": {
      "image/png": "[encoded data removed]",
      "text/plain": [
       "<Figure size 1000x500 with 1 Axes>"
      ]
     },
     "metadata": {},
     "output_type": "display_data"
    }
   ],
   "source": [
    "#box plot for 'price' column.\n",
    "\n",
    "plt.figure(figsize = (10,5))\n",
    "sns.boxplot(x = pp['price'])\n",
    "plt.show()"
   ]
  },
  {
   "cell_type": "markdown",
   "id": "a3b8fcf0",
   "metadata": {},
   "source": [
    "From the above box plot, we can conclude that:\n",
    "\n",
    "- Pricing from around 450 represents the 1st quartile (Q1), pricing of around 700 represents the 2nd quartile (Q2) i.e. the median pricing of around 950 lies in the 3rd quartile(Q3).\n",
    "- The minimum data value for price is around 200 and the maximum data value for price is around 1300.\n",
    "- Outliers tend to be starting from around 1600 to 2150."
   ]
  },
  {
   "cell_type": "markdown",
   "id": "03a09aee",
   "metadata": {},
   "source": [
    "*****\n",
    "### 5.3 Distribution of 'diameter' column."
   ]
  },
  {
   "cell_type": "code",
   "execution_count": 39,
   "id": "090932ef",
   "metadata": {},
   "outputs": [
    {
     "data": {
      "text/plain": [
       "11"
      ]
     },
     "execution_count": 39,
     "metadata": {},
     "output_type": "execute_result"
    }
   ],
   "source": [
    "pp['diameter'].nunique()"
   ]
  },
  {
   "cell_type": "code",
   "execution_count": 40,
   "id": "bc68f678",
   "metadata": {},
   "outputs": [
    {
     "data": {
      "text/plain": [
       "12.0    49\n",
       "14.0    24\n",
       "8.5     22\n",
       "17.0     8\n",
       "18.5     6\n",
       "16.0     5\n",
       "8.0      4\n",
       "16.5     4\n",
       "22.0     3\n",
       "20.0     1\n",
       "18.0     1\n",
       "Name: diameter, dtype: int64"
      ]
     },
     "execution_count": 40,
     "metadata": {},
     "output_type": "execute_result"
    }
   ],
   "source": [
    "pp['diameter'].value_counts()"
   ]
  },
  {
   "cell_type": "code",
   "execution_count": 41,
   "id": "e0ce60f4",
   "metadata": {},
   "outputs": [
    {
     "data": {
      "text/plain": [
       "22.0"
      ]
     },
     "execution_count": 41,
     "metadata": {},
     "output_type": "execute_result"
    }
   ],
   "source": [
    "pp['diameter'].max()"
   ]
  },
  {
   "cell_type": "code",
   "execution_count": 42,
   "id": "46b24242",
   "metadata": {},
   "outputs": [
    {
     "data": {
      "text/plain": [
       "8.0"
      ]
     },
     "execution_count": 42,
     "metadata": {},
     "output_type": "execute_result"
    }
   ],
   "source": [
    "pp['diameter'].min()"
   ]
  },
  {
   "cell_type": "code",
   "execution_count": 43,
   "id": "eadc30b8",
   "metadata": {},
   "outputs": [
    {
     "data": {
      "text/plain": [
       "12.913385826771654"
      ]
     },
     "execution_count": 43,
     "metadata": {},
     "output_type": "execute_result"
    }
   ],
   "source": [
    "pp['diameter'].mean()"
   ]
  },
  {
   "cell_type": "markdown",
   "id": "ede644c2",
   "metadata": {},
   "source": [
    "- We can see that there are total of 11 unique values within the 'diameter' column.\n",
    "- The highest diameter frequency count is 49 for 12 and the least frequency count is 1 for 18.\n",
    "- The maximum value for diameter in 22, the minimum value is 8 and the mean value is 12.91."
   ]
  },
  {
   "cell_type": "code",
   "execution_count": 44,
   "id": "c30d8dc5",
   "metadata": {},
   "outputs": [
    {
     "data": {
      "image/png": "[encoded data removed]",
      "text/plain": [
       "<Figure size 1000x500 with 1 Axes>"
      ]
     },
     "metadata": {},
     "output_type": "display_data"
    }
   ],
   "source": [
    "# count plot for 'diameter' column\n",
    "\n",
    "plt.figure(figsize = (10,5))\n",
    "dm = sns.countplot(x = pp['diameter'])\n",
    "\n",
    "for bars in dm.containers:\n",
    "    dm.bar_label(bars)\n",
    "\n",
    "plt.show()"
   ]
  },
  {
   "cell_type": "markdown",
   "id": "5c4faa02",
   "metadata": {},
   "source": [
    "*****\n",
    "### 5.4 Distribution of 'topping' column"
   ]
  },
  {
   "cell_type": "code",
   "execution_count": 45,
   "id": "f10a6d26",
   "metadata": {},
   "outputs": [
    {
     "data": {
      "text/plain": [
       "12"
      ]
     },
     "execution_count": 45,
     "metadata": {},
     "output_type": "execute_result"
    }
   ],
   "source": [
    "pp['topping'].nunique()"
   ]
  },
  {
   "cell_type": "code",
   "execution_count": 46,
   "id": "82b66034",
   "metadata": {},
   "outputs": [
    {
     "data": {
      "text/plain": [
       "chicken         28\n",
       "mushrooms       22\n",
       "mozzarella      20\n",
       "smoked_beef     19\n",
       "tuna             9\n",
       "vegetables       9\n",
       "meat             8\n",
       "black_papper     3\n",
       "sausage          3\n",
       "beef             3\n",
       "papperoni        2\n",
       "onion            1\n",
       "Name: topping, dtype: int64"
      ]
     },
     "execution_count": 46,
     "metadata": {},
     "output_type": "execute_result"
    }
   ],
   "source": [
    "pp['topping'].value_counts()"
   ]
  },
  {
   "cell_type": "markdown",
   "id": "745623e4",
   "metadata": {},
   "source": [
    "- We can see that there are total of 12 unique values within the 'topping' column and we can assume it as a categorical data.\n",
    "- chicken topping has the highest frequency count with 28 and onion topping has the least frequency count of 1."
   ]
  },
  {
   "cell_type": "code",
   "execution_count": 47,
   "id": "a15aae53",
   "metadata": {},
   "outputs": [
    {
     "data": {
      "image/png": "[encoded data removed]",
      "text/plain": [
       "<Figure size 1000x500 with 1 Axes>"
      ]
     },
     "metadata": {},
     "output_type": "display_data"
    }
   ],
   "source": [
    "# count plot for 'topping' column\n",
    "\n",
    "plt.figure(figsize = (10,5))\n",
    "top = sns.countplot(x =pp['topping'])\n",
    "plt.xticks(rotation = 90)\n",
    "\n",
    "for bars in top.containers:\n",
    "    top.bar_label(bars)\n",
    "\n",
    "plt.show()"
   ]
  },
  {
   "cell_type": "markdown",
   "id": "2315775f",
   "metadata": {},
   "source": [
    "*****\n",
    "### 5.5 Distribution of 'variant' column"
   ]
  },
  {
   "cell_type": "code",
   "execution_count": 48,
   "id": "262af9e1",
   "metadata": {},
   "outputs": [
    {
     "data": {
      "text/plain": [
       "19"
      ]
     },
     "execution_count": 48,
     "metadata": {},
     "output_type": "execute_result"
    }
   ],
   "source": [
    "pp['variant'].nunique()"
   ]
  },
  {
   "cell_type": "code",
   "execution_count": 49,
   "id": "1f01d410",
   "metadata": {},
   "outputs": [
    {
     "data": {
      "text/plain": [
       "classic              30\n",
       "meat_lovers          10\n",
       "double_mix           10\n",
       "crunchy              10\n",
       "double_decker         9\n",
       "new_york              8\n",
       "spicy_tuna            6\n",
       "american_favorite     5\n",
       "BBQ_meat_fiesta       5\n",
       "double_signature      5\n",
       "super_supreme         5\n",
       "BBQ_sausage           3\n",
       "extravaganza          3\n",
       "meat_eater            3\n",
       "gournet_greek         3\n",
       "italian_veggie        3\n",
       "thai_veggie           3\n",
       "american_classic      3\n",
       "neptune_tuna          3\n",
       "Name: variant, dtype: int64"
      ]
     },
     "execution_count": 49,
     "metadata": {},
     "output_type": "execute_result"
    }
   ],
   "source": [
    "pp['variant'].value_counts()"
   ]
  },
  {
   "cell_type": "markdown",
   "id": "35418073",
   "metadata": {},
   "source": [
    "- We can see that there are total of 20 unique values within the 'variant' column and we can assume it as a categorical data.\n",
    "- classic variant has the highest frequency count with 30 and spicy tuna variant has the least frequency count of 1."
   ]
  },
  {
   "cell_type": "code",
   "execution_count": 50,
   "id": "560dc540",
   "metadata": {},
   "outputs": [
    {
     "data": {
      "image/png": "[encoded data removed]",
      "text/plain": [
       "<Figure size 1200x500 with 1 Axes>"
      ]
     },
     "metadata": {},
     "output_type": "display_data"
    }
   ],
   "source": [
    "# count plot for 'variant' column\n",
    "\n",
    "plt.figure(figsize = (12,5))\n",
    "var = sns.countplot(x =pp['variant'])\n",
    "plt.xticks(rotation = 90)\n",
    "\n",
    "for bars in var.containers:\n",
    "    var.bar_label(bars)\n",
    "\n",
    "plt.show()"
   ]
  },
  {
   "cell_type": "markdown",
   "id": "0d049f50",
   "metadata": {},
   "source": [
    "*****\n",
    "### 5.6 Distribution of 'size' column"
   ]
  },
  {
   "cell_type": "code",
   "execution_count": 51,
   "id": "494d125a",
   "metadata": {},
   "outputs": [
    {
     "data": {
      "text/plain": [
       "6"
      ]
     },
     "execution_count": 51,
     "metadata": {},
     "output_type": "execute_result"
    }
   ],
   "source": [
    "pp['size'].nunique()"
   ]
  },
  {
   "cell_type": "code",
   "execution_count": 52,
   "id": "a0d6304e",
   "metadata": {},
   "outputs": [
    {
     "data": {
      "text/plain": [
       "medium     41\n",
       "small      22\n",
       "large      21\n",
       "reguler    20\n",
       "jumbo      15\n",
       "XL          8\n",
       "Name: size, dtype: int64"
      ]
     },
     "execution_count": 52,
     "metadata": {},
     "output_type": "execute_result"
    }
   ],
   "source": [
    "pp['size'].value_counts()"
   ]
  },
  {
   "cell_type": "markdown",
   "id": "5ad8d0b1",
   "metadata": {},
   "source": [
    "- We can see that there are total of 6 unique values within the 'size' column and we can say categorical data.\n",
    "- medium size has the highest frequency count with 41 and XL size has the least frequency count of 8."
   ]
  },
  {
   "cell_type": "code",
   "execution_count": 53,
   "id": "7b61f131",
   "metadata": {},
   "outputs": [
    {
     "data": {
      "image/png": "[encoded data removed]",
      "text/plain": [
       "<Figure size 1000x500 with 1 Axes>"
      ]
     },
     "metadata": {},
     "output_type": "display_data"
    }
   ],
   "source": [
    "# countplot for 'size' column\n",
    "\n",
    "plt.figure(figsize = (10,5))\n",
    "sz = sns.countplot(x = pp['size'])\n",
    "\n",
    "for bars in sz.containers:\n",
    "    sz.bar_label(bars)\n",
    "    \n",
    "plt.show()"
   ]
  },
  {
   "cell_type": "markdown",
   "id": "f71b7043",
   "metadata": {},
   "source": [
    "*****\n",
    "### 5.7 Distribution of 'extra_sauce' column"
   ]
  },
  {
   "cell_type": "code",
   "execution_count": 54,
   "id": "caef17f1",
   "metadata": {},
   "outputs": [
    {
     "data": {
      "text/plain": [
       "2"
      ]
     },
     "execution_count": 54,
     "metadata": {},
     "output_type": "execute_result"
    }
   ],
   "source": [
    "pp['extra_sauce'].nunique()"
   ]
  },
  {
   "cell_type": "code",
   "execution_count": 55,
   "id": "db517e12",
   "metadata": {},
   "outputs": [
    {
     "data": {
      "text/plain": [
       "yes    76\n",
       "no     51\n",
       "Name: extra_sauce, dtype: int64"
      ]
     },
     "execution_count": 55,
     "metadata": {},
     "output_type": "execute_result"
    }
   ],
   "source": [
    "pp['extra_sauce'].value_counts()"
   ]
  },
  {
   "cell_type": "markdown",
   "id": "68553735",
   "metadata": {},
   "source": [
    "- We can see that there are total of 2 unique values within the 'extra_sauce' column and  we can say that it consists of categorical data.\n",
    "- 'yes' for adding extra_sauce with the frequency count of 76 and 'no' for not adding extra_sauce with the frequency count of 51."
   ]
  },
  {
   "cell_type": "code",
   "execution_count": 56,
   "id": "5346fc59",
   "metadata": {},
   "outputs": [
    {
     "data": {
      "image/png": "[encoded data removed]",
      "text/plain": [
       "<Figure size 1000x500 with 1 Axes>"
      ]
     },
     "metadata": {},
     "output_type": "display_data"
    }
   ],
   "source": [
    "# countplot for 'extra_sauce' column\n",
    "\n",
    "plt.figure(figsize = (10,5))\n",
    "es = sns.countplot(x = pp['extra_sauce'])\n",
    "\n",
    "for bars in es.containers:\n",
    "    es.bar_label(bars)\n",
    "    \n",
    "plt.show()"
   ]
  },
  {
   "cell_type": "markdown",
   "id": "54b1fe41",
   "metadata": {},
   "source": [
    "*****\n",
    "### 5.8 Distribution of 'extra_cheese' column"
   ]
  },
  {
   "cell_type": "code",
   "execution_count": 57,
   "id": "cbc9ddf1",
   "metadata": {},
   "outputs": [
    {
     "data": {
      "text/plain": [
       "2"
      ]
     },
     "execution_count": 57,
     "metadata": {},
     "output_type": "execute_result"
    }
   ],
   "source": [
    "pp['extra_cheese'].nunique()"
   ]
  },
  {
   "cell_type": "code",
   "execution_count": 58,
   "id": "865cdc4d",
   "metadata": {},
   "outputs": [
    {
     "data": {
      "text/plain": [
       "yes    84\n",
       "no     43\n",
       "Name: extra_cheese, dtype: int64"
      ]
     },
     "execution_count": 58,
     "metadata": {},
     "output_type": "execute_result"
    }
   ],
   "source": [
    "pp['extra_cheese'].value_counts()"
   ]
  },
  {
   "cell_type": "markdown",
   "id": "fc173922",
   "metadata": {},
   "source": [
    "- We can see that there are total of 2 unique values within the 'extra_cheese' column and we can say that it consists of categorical data.\n",
    "- 'yes' for adding extra_cheese with the frequency count of 84 and 'no' for not adding extra_cheese with the frequency count of 43."
   ]
  },
  {
   "cell_type": "code",
   "execution_count": 59,
   "id": "18f7d8ea",
   "metadata": {},
   "outputs": [
    {
     "data": {
      "image/png": "[encoded data removed]",
      "text/plain": [
       "<Figure size 1000x500 with 1 Axes>"
      ]
     },
     "metadata": {},
     "output_type": "display_data"
    }
   ],
   "source": [
    "# countplot for 'extra_cheese' column\n",
    "\n",
    "plt.figure(figsize = (10,5))\n",
    "ec = sns.countplot(x = pp['extra_cheese'])\n",
    "\n",
    "for bars in ec.containers:\n",
    "    ec.bar_label(bars)\n",
    "    \n",
    "plt.show()"
   ]
  },
  {
   "cell_type": "markdown",
   "id": "7f14fc8b",
   "metadata": {},
   "source": [
    "*****\n",
    "### 5.9 Distribution of 'extra_mushrooms' column"
   ]
  },
  {
   "cell_type": "code",
   "execution_count": 60,
   "id": "2d56d74c",
   "metadata": {},
   "outputs": [
    {
     "data": {
      "text/plain": [
       "2"
      ]
     },
     "execution_count": 60,
     "metadata": {},
     "output_type": "execute_result"
    }
   ],
   "source": [
    "pp['extra_mushrooms'].nunique()"
   ]
  },
  {
   "cell_type": "code",
   "execution_count": 61,
   "id": "832be780",
   "metadata": {},
   "outputs": [
    {
     "data": {
      "text/plain": [
       "yes    71\n",
       "no     56\n",
       "Name: extra_mushrooms, dtype: int64"
      ]
     },
     "execution_count": 61,
     "metadata": {},
     "output_type": "execute_result"
    }
   ],
   "source": [
    "pp['extra_mushrooms'].value_counts()"
   ]
  },
  {
   "cell_type": "markdown",
   "id": "69579334",
   "metadata": {},
   "source": [
    "- We can see that there are total of 2 unique values within the 'extra_mushrooms' column and we can say that it consists of categorical data.\n",
    "- 'yes' for adding extra_mushrooms with the frequency count of 71 and 'no' for not adding extra_mushrooms with the frequency count of 56."
   ]
  },
  {
   "cell_type": "code",
   "execution_count": 62,
   "id": "6ae76b84",
   "metadata": {},
   "outputs": [
    {
     "data": {
      "image/png": "[encoded data removed]",
      "text/plain": [
       "<Figure size 1000x500 with 1 Axes>"
      ]
     },
     "metadata": {},
     "output_type": "display_data"
    }
   ],
   "source": [
    "# countplot for 'extra_mushrooms' column\n",
    "\n",
    "plt.figure(figsize = (10,5))\n",
    "em = sns.countplot(x = pp['extra_mushrooms'])\n",
    "\n",
    "for bars in em.containers:\n",
    "    em.bar_label(bars)\n",
    "    \n",
    "plt.show()"
   ]
  },
  {
   "cell_type": "markdown",
   "id": "0f6ea6da",
   "metadata": {},
   "source": [
    "*****\n",
    "## 6. Bivariate Analysis"
   ]
  },
  {
   "cell_type": "markdown",
   "id": "f4c25dbf",
   "metadata": {},
   "source": [
    "### price with company"
   ]
  },
  {
   "cell_type": "code",
   "execution_count": 63,
   "id": "bdc09f0a",
   "metadata": {},
   "outputs": [
    {
     "data": {
      "text/plain": [
       "<Axes: xlabel='price', ylabel='company'>"
      ]
     },
     "execution_count": 63,
     "metadata": {},
     "output_type": "execute_result"
    },
    {
     "data": {
      "image/png": "[encoded data removed]",
      "text/plain": [
       "<Figure size 640x480 with 1 Axes>"
      ]
     },
     "metadata": {},
     "output_type": "display_data"
    }
   ],
   "source": [
    "sns.boxplot(pp, x = 'price', y = 'company')"
   ]
  },
  {
   "cell_type": "markdown",
   "id": "707e04c3",
   "metadata": {},
   "source": [
    "*****\n",
    "### price with topping"
   ]
  },
  {
   "cell_type": "code",
   "execution_count": 64,
   "id": "4108faca",
   "metadata": {},
   "outputs": [
    {
     "data": {
      "text/plain": [
       "<Axes: xlabel='price', ylabel='topping'>"
      ]
     },
     "execution_count": 64,
     "metadata": {},
     "output_type": "execute_result"
    },
    {
     "data": {
      "image/png": "[encoded data removed]",
      "text/plain": [
       "<Figure size 640x480 with 1 Axes>"
      ]
     },
     "metadata": {},
     "output_type": "display_data"
    }
   ],
   "source": [
    "sns.boxplot(pp, x = 'price', y = 'topping')"
   ]
  },
  {
   "cell_type": "markdown",
   "id": "ada9d6b1",
   "metadata": {},
   "source": [
    "*****\n",
    "### price with variant"
   ]
  },
  {
   "cell_type": "code",
   "execution_count": 65,
   "id": "aa512927",
   "metadata": {},
   "outputs": [
    {
     "data": {
      "text/plain": [
       "<Axes: xlabel='price', ylabel='variant'>"
      ]
     },
     "execution_count": 65,
     "metadata": {},
     "output_type": "execute_result"
    },
    {
     "data": {
      "image/png": "[encoded data removed]",
      "text/plain": [
       "<Figure size 1000x500 with 1 Axes>"
      ]
     },
     "metadata": {},
     "output_type": "display_data"
    }
   ],
   "source": [
    "plt.figure(figsize = (10, 5)) \n",
    "sns.boxplot(pp, x = 'price', y = 'variant')"
   ]
  },
  {
   "cell_type": "markdown",
   "id": "0d1d9acd",
   "metadata": {},
   "source": [
    "*****\n",
    "### price with size"
   ]
  },
  {
   "cell_type": "code",
   "execution_count": 66,
   "id": "7c07bd44",
   "metadata": {},
   "outputs": [
    {
     "data": {
      "text/plain": [
       "<Axes: xlabel='price', ylabel='size'>"
      ]
     },
     "execution_count": 66,
     "metadata": {},
     "output_type": "execute_result"
    },
    {
     "data": {
      "image/png": "[encoded data removed]",
      "text/plain": [
       "<Figure size 1000x500 with 1 Axes>"
      ]
     },
     "metadata": {},
     "output_type": "display_data"
    }
   ],
   "source": [
    "plt.figure(figsize = (10, 5)) \n",
    "sns.boxplot(pp, x = 'price', y = 'size')"
   ]
  },
  {
   "cell_type": "markdown",
   "id": "b7d83923",
   "metadata": {},
   "source": [
    "### size with diameter"
   ]
  },
  {
   "cell_type": "code",
   "execution_count": 67,
   "id": "fe383974",
   "metadata": {},
   "outputs": [
    {
     "data": {
      "text/plain": [
       "<Axes: xlabel='diameter', ylabel='size'>"
      ]
     },
     "execution_count": 67,
     "metadata": {},
     "output_type": "execute_result"
    },
    {
     "data": {
      "image/png": "[encoded data removed]",
      "text/plain": [
       "<Figure size 640x480 with 1 Axes>"
      ]
     },
     "metadata": {},
     "output_type": "display_data"
    }
   ],
   "source": [
    "sns.boxplot(pp, x = 'diameter', y = 'size')"
   ]
  },
  {
   "cell_type": "markdown",
   "id": "0b4b74e4",
   "metadata": {},
   "source": [
    "*****\n",
    "### Q1. Which company has the highest pizza pricing and of which diameter?"
   ]
  },
  {
   "cell_type": "code",
   "execution_count": 68,
   "id": "83cd2bb1",
   "metadata": {},
   "outputs": [
    {
     "data": {
      "text/html": [
       "<div>\n",
       "<style scoped>\n",
       "    .dataframe tbody tr th:only-of-type {\n",
       "        vertical-align: middle;\n",
       "    }\n",
       "\n",
       "    .dataframe tbody tr th {\n",
       "        vertical-align: top;\n",
       "    }\n",
       "\n",
       "    .dataframe thead th {\n",
       "        text-align: right;\n",
       "    }\n",
       "</style>\n",
       "<table border=\"1\" class=\"dataframe\">\n",
       "  <thead>\n",
       "    <tr style=\"text-align: right;\">\n",
       "      <th></th>\n",
       "      <th>company</th>\n",
       "      <th>diameter</th>\n",
       "      <th>price</th>\n",
       "    </tr>\n",
       "  </thead>\n",
       "  <tbody>\n",
       "    <tr>\n",
       "      <th>4</th>\n",
       "      <td>A</td>\n",
       "      <td>18.0</td>\n",
       "      <td>2132.8</td>\n",
       "    </tr>\n",
       "  </tbody>\n",
       "</table>\n",
       "</div>"
      ],
      "text/plain": [
       "  company  diameter   price\n",
       "4       A      18.0  2132.8"
      ]
     },
     "execution_count": 68,
     "metadata": {},
     "output_type": "execute_result"
    }
   ],
   "source": [
    "pp[pp['price'] == pp['price'].max()][['company', 'diameter', 'price']]"
   ]
  },
  {
   "cell_type": "markdown",
   "id": "eb36f030",
   "metadata": {},
   "source": [
    "- Company A has the higest pizza pricing of Rs. 2132.8 with the diameter of 18 inches."
   ]
  },
  {
   "cell_type": "markdown",
   "id": "3f2b814c",
   "metadata": {},
   "source": [
    "*****\n",
    "### Q2. Which company has the lowest pizza pricing and of which diameter?"
   ]
  },
  {
   "cell_type": "code",
   "execution_count": 69,
   "id": "c27cb277",
   "metadata": {},
   "outputs": [
    {
     "data": {
      "text/html": [
       "<div>\n",
       "<style scoped>\n",
       "    .dataframe tbody tr th:only-of-type {\n",
       "        vertical-align: middle;\n",
       "    }\n",
       "\n",
       "    .dataframe tbody tr th {\n",
       "        vertical-align: top;\n",
       "    }\n",
       "\n",
       "    .dataframe thead th {\n",
       "        text-align: right;\n",
       "    }\n",
       "</style>\n",
       "<table border=\"1\" class=\"dataframe\">\n",
       "  <thead>\n",
       "    <tr style=\"text-align: right;\">\n",
       "      <th></th>\n",
       "      <th>company</th>\n",
       "      <th>diameter</th>\n",
       "      <th>price</th>\n",
       "    </tr>\n",
       "  </thead>\n",
       "  <tbody>\n",
       "    <tr>\n",
       "      <th>25</th>\n",
       "      <td>B</td>\n",
       "      <td>8.5</td>\n",
       "      <td>202.1</td>\n",
       "    </tr>\n",
       "    <tr>\n",
       "      <th>89</th>\n",
       "      <td>D</td>\n",
       "      <td>8.5</td>\n",
       "      <td>202.1</td>\n",
       "    </tr>\n",
       "    <tr>\n",
       "      <th>100</th>\n",
       "      <td>E</td>\n",
       "      <td>8.5</td>\n",
       "      <td>202.1</td>\n",
       "    </tr>\n",
       "  </tbody>\n",
       "</table>\n",
       "</div>"
      ],
      "text/plain": [
       "    company  diameter  price\n",
       "25        B       8.5  202.1\n",
       "89        D       8.5  202.1\n",
       "100       E       8.5  202.1"
      ]
     },
     "execution_count": 69,
     "metadata": {},
     "output_type": "execute_result"
    }
   ],
   "source": [
    "pp[pp['price'] == pp['price'].min()][['company', 'diameter', 'price']]"
   ]
  },
  {
   "cell_type": "markdown",
   "id": "34f1912b",
   "metadata": {},
   "source": [
    "- Company B, D and E have the lowest pizza pricing of Rs. 202.1 with the diameter of 8.5 inches."
   ]
  },
  {
   "cell_type": "markdown",
   "id": "d93cb90c",
   "metadata": {},
   "source": [
    "*****\n",
    "### Q3. Find the price of the pizza with the higest diameter and the company delivering it."
   ]
  },
  {
   "cell_type": "code",
   "execution_count": 70,
   "id": "e0841ab5",
   "metadata": {},
   "outputs": [
    {
     "data": {
      "text/html": [
       "<div>\n",
       "<style scoped>\n",
       "    .dataframe tbody tr th:only-of-type {\n",
       "        vertical-align: middle;\n",
       "    }\n",
       "\n",
       "    .dataframe tbody tr th {\n",
       "        vertical-align: top;\n",
       "    }\n",
       "\n",
       "    .dataframe thead th {\n",
       "        text-align: right;\n",
       "    }\n",
       "</style>\n",
       "<table border=\"1\" class=\"dataframe\">\n",
       "  <thead>\n",
       "    <tr style=\"text-align: right;\">\n",
       "      <th></th>\n",
       "      <th>company</th>\n",
       "      <th>diameter</th>\n",
       "      <th>price</th>\n",
       "    </tr>\n",
       "  </thead>\n",
       "  <tbody>\n",
       "    <tr>\n",
       "      <th>0</th>\n",
       "      <td>A</td>\n",
       "      <td>22.0</td>\n",
       "      <td>2021.0</td>\n",
       "    </tr>\n",
       "    <tr>\n",
       "      <th>20</th>\n",
       "      <td>A</td>\n",
       "      <td>22.0</td>\n",
       "      <td>1978.0</td>\n",
       "    </tr>\n",
       "    <tr>\n",
       "      <th>84</th>\n",
       "      <td>D</td>\n",
       "      <td>22.0</td>\n",
       "      <td>1978.0</td>\n",
       "    </tr>\n",
       "  </tbody>\n",
       "</table>\n",
       "</div>"
      ],
      "text/plain": [
       "   company  diameter   price\n",
       "0        A      22.0  2021.0\n",
       "20       A      22.0  1978.0\n",
       "84       D      22.0  1978.0"
      ]
     },
     "execution_count": 70,
     "metadata": {},
     "output_type": "execute_result"
    }
   ],
   "source": [
    "pp[pp['diameter'] == pp['diameter'].max()][['company', 'diameter', 'price']]"
   ]
  },
  {
   "cell_type": "markdown",
   "id": "99674c1d",
   "metadata": {},
   "source": [
    "- Company A has the pizza having the highest diameter of 22 inches with the pricings of Rs. 2021 and Rs. 1978.\n",
    "- Company D has the pizza having the highest diameter of 22 inches with the pricing of Rs. 1978."
   ]
  },
  {
   "cell_type": "markdown",
   "id": "83584189",
   "metadata": {},
   "source": [
    "*****\n",
    "### Q4. Why is there a difference in pizza pricing for company A providing pizza of same diameters (i.e. 22 inches)?"
   ]
  },
  {
   "cell_type": "code",
   "execution_count": 71,
   "id": "e0913b2b",
   "metadata": {},
   "outputs": [
    {
     "data": {
      "text/html": [
       "<div>\n",
       "<style scoped>\n",
       "    .dataframe tbody tr th:only-of-type {\n",
       "        vertical-align: middle;\n",
       "    }\n",
       "\n",
       "    .dataframe tbody tr th {\n",
       "        vertical-align: top;\n",
       "    }\n",
       "\n",
       "    .dataframe thead th {\n",
       "        text-align: right;\n",
       "    }\n",
       "</style>\n",
       "<table border=\"1\" class=\"dataframe\">\n",
       "  <thead>\n",
       "    <tr style=\"text-align: right;\">\n",
       "      <th></th>\n",
       "      <th>company</th>\n",
       "      <th>price</th>\n",
       "      <th>diameter</th>\n",
       "      <th>topping</th>\n",
       "      <th>variant</th>\n",
       "      <th>size</th>\n",
       "      <th>extra_sauce</th>\n",
       "      <th>extra_cheese</th>\n",
       "      <th>extra_mushrooms</th>\n",
       "    </tr>\n",
       "  </thead>\n",
       "  <tbody>\n",
       "    <tr>\n",
       "      <th>0</th>\n",
       "      <td>A</td>\n",
       "      <td>2021.0</td>\n",
       "      <td>22.0</td>\n",
       "      <td>chicken</td>\n",
       "      <td>double_signature</td>\n",
       "      <td>jumbo</td>\n",
       "      <td>yes</td>\n",
       "      <td>yes</td>\n",
       "      <td>no</td>\n",
       "    </tr>\n",
       "    <tr>\n",
       "      <th>20</th>\n",
       "      <td>A</td>\n",
       "      <td>1978.0</td>\n",
       "      <td>22.0</td>\n",
       "      <td>chicken</td>\n",
       "      <td>double_mix</td>\n",
       "      <td>jumbo</td>\n",
       "      <td>yes</td>\n",
       "      <td>yes</td>\n",
       "      <td>yes</td>\n",
       "    </tr>\n",
       "  </tbody>\n",
       "</table>\n",
       "</div>"
      ],
      "text/plain": [
       "   company   price  diameter  topping           variant   size extra_sauce  \\\n",
       "0        A  2021.0      22.0  chicken  double_signature  jumbo         yes   \n",
       "20       A  1978.0      22.0  chicken        double_mix  jumbo         yes   \n",
       "\n",
       "   extra_cheese extra_mushrooms  \n",
       "0           yes              no  \n",
       "20          yes             yes  "
      ]
     },
     "execution_count": 71,
     "metadata": {},
     "output_type": "execute_result"
    }
   ],
   "source": [
    "pp[(pp['diameter'] == pp['diameter'].max()) & (pp['company'] == 'A')]"
   ]
  },
  {
   "cell_type": "markdown",
   "id": "23864a6a",
   "metadata": {},
   "source": [
    "- As per my assupmtion, the double_signature variant must be expensive than the double_mix variant and that's why there is a price difference in the pizza with the same diameters."
   ]
  },
  {
   "cell_type": "markdown",
   "id": "52de4260",
   "metadata": {},
   "source": [
    "*****\n",
    "### Q5. Find the price of the pizza with the lowest diameter and the company delivering it."
   ]
  },
  {
   "cell_type": "code",
   "execution_count": 72,
   "id": "72754465",
   "metadata": {},
   "outputs": [
    {
     "data": {
      "text/html": [
       "<div>\n",
       "<style scoped>\n",
       "    .dataframe tbody tr th:only-of-type {\n",
       "        vertical-align: middle;\n",
       "    }\n",
       "\n",
       "    .dataframe tbody tr th {\n",
       "        vertical-align: top;\n",
       "    }\n",
       "\n",
       "    .dataframe thead th {\n",
       "        text-align: right;\n",
       "    }\n",
       "</style>\n",
       "<table border=\"1\" class=\"dataframe\">\n",
       "  <thead>\n",
       "    <tr style=\"text-align: right;\">\n",
       "      <th></th>\n",
       "      <th>company</th>\n",
       "      <th>diameter</th>\n",
       "      <th>price</th>\n",
       "    </tr>\n",
       "  </thead>\n",
       "  <tbody>\n",
       "    <tr>\n",
       "      <th>7</th>\n",
       "      <td>A</td>\n",
       "      <td>8.0</td>\n",
       "      <td>602.0</td>\n",
       "    </tr>\n",
       "    <tr>\n",
       "      <th>12</th>\n",
       "      <td>A</td>\n",
       "      <td>8.0</td>\n",
       "      <td>602.0</td>\n",
       "    </tr>\n",
       "    <tr>\n",
       "      <th>17</th>\n",
       "      <td>A</td>\n",
       "      <td>8.0</td>\n",
       "      <td>602.0</td>\n",
       "    </tr>\n",
       "    <tr>\n",
       "      <th>81</th>\n",
       "      <td>D</td>\n",
       "      <td>8.0</td>\n",
       "      <td>602.0</td>\n",
       "    </tr>\n",
       "  </tbody>\n",
       "</table>\n",
       "</div>"
      ],
      "text/plain": [
       "   company  diameter  price\n",
       "7        A       8.0  602.0\n",
       "12       A       8.0  602.0\n",
       "17       A       8.0  602.0\n",
       "81       D       8.0  602.0"
      ]
     },
     "execution_count": 72,
     "metadata": {},
     "output_type": "execute_result"
    }
   ],
   "source": [
    "pp[pp['diameter'] == pp['diameter'].min()][['company', 'diameter', 'price']]"
   ]
  },
  {
   "cell_type": "markdown",
   "id": "d6bdafda",
   "metadata": {},
   "source": [
    "*****\n",
    "### Q6. Find the average pricing of the pizzas provided by each company of different diameters."
   ]
  },
  {
   "cell_type": "code",
   "execution_count": 73,
   "id": "794fe75e",
   "metadata": {},
   "outputs": [
    {
     "data": {
      "text/html": [
       "<div>\n",
       "<style scoped>\n",
       "    .dataframe tbody tr th:only-of-type {\n",
       "        vertical-align: middle;\n",
       "    }\n",
       "\n",
       "    .dataframe tbody tr th {\n",
       "        vertical-align: top;\n",
       "    }\n",
       "\n",
       "    .dataframe thead th {\n",
       "        text-align: right;\n",
       "    }\n",
       "</style>\n",
       "<table border=\"1\" class=\"dataframe\">\n",
       "  <thead>\n",
       "    <tr style=\"text-align: right;\">\n",
       "      <th></th>\n",
       "      <th></th>\n",
       "      <th>price</th>\n",
       "    </tr>\n",
       "    <tr>\n",
       "      <th>company</th>\n",
       "      <th>diameter</th>\n",
       "      <th></th>\n",
       "    </tr>\n",
       "  </thead>\n",
       "  <tbody>\n",
       "    <tr>\n",
       "      <th rowspan=\"9\" valign=\"top\">A</th>\n",
       "      <th>8.0</th>\n",
       "      <td>602.000000</td>\n",
       "    </tr>\n",
       "    <tr>\n",
       "      <th>12.0</th>\n",
       "      <td>774.000000</td>\n",
       "    </tr>\n",
       "    <tr>\n",
       "      <th>14.0</th>\n",
       "      <td>1156.700000</td>\n",
       "    </tr>\n",
       "    <tr>\n",
       "      <th>16.0</th>\n",
       "      <td>967.500000</td>\n",
       "    </tr>\n",
       "    <tr>\n",
       "      <th>16.5</th>\n",
       "      <td>1281.400000</td>\n",
       "    </tr>\n",
       "    <tr>\n",
       "      <th>18.0</th>\n",
       "      <td>2132.800000</td>\n",
       "    </tr>\n",
       "    <tr>\n",
       "      <th>18.5</th>\n",
       "      <td>1307.200000</td>\n",
       "    </tr>\n",
       "    <tr>\n",
       "      <th>20.0</th>\n",
       "      <td>1702.800000</td>\n",
       "    </tr>\n",
       "    <tr>\n",
       "      <th>22.0</th>\n",
       "      <td>1999.500000</td>\n",
       "    </tr>\n",
       "    <tr>\n",
       "      <th rowspan=\"4\" valign=\"top\">B</th>\n",
       "      <th>8.5</th>\n",
       "      <td>349.375000</td>\n",
       "    </tr>\n",
       "    <tr>\n",
       "      <th>12.0</th>\n",
       "      <td>643.208333</td>\n",
       "    </tr>\n",
       "    <tr>\n",
       "      <th>14.0</th>\n",
       "      <td>664.350000</td>\n",
       "    </tr>\n",
       "    <tr>\n",
       "      <th>17.0</th>\n",
       "      <td>860.000000</td>\n",
       "    </tr>\n",
       "    <tr>\n",
       "      <th rowspan=\"3\" valign=\"top\">C</th>\n",
       "      <th>8.5</th>\n",
       "      <td>318.200000</td>\n",
       "    </tr>\n",
       "    <tr>\n",
       "      <th>12.0</th>\n",
       "      <td>565.020000</td>\n",
       "    </tr>\n",
       "    <tr>\n",
       "      <th>14.0</th>\n",
       "      <td>840.220000</td>\n",
       "    </tr>\n",
       "    <tr>\n",
       "      <th rowspan=\"9\" valign=\"top\">D</th>\n",
       "      <th>8.0</th>\n",
       "      <td>602.000000</td>\n",
       "    </tr>\n",
       "    <tr>\n",
       "      <th>8.5</th>\n",
       "      <td>234.350000</td>\n",
       "    </tr>\n",
       "    <tr>\n",
       "      <th>12.0</th>\n",
       "      <td>632.714286</td>\n",
       "    </tr>\n",
       "    <tr>\n",
       "      <th>14.0</th>\n",
       "      <td>799.800000</td>\n",
       "    </tr>\n",
       "    <tr>\n",
       "      <th>16.0</th>\n",
       "      <td>946.000000</td>\n",
       "    </tr>\n",
       "    <tr>\n",
       "      <th>16.5</th>\n",
       "      <td>1281.400000</td>\n",
       "    </tr>\n",
       "    <tr>\n",
       "      <th>17.0</th>\n",
       "      <td>713.800000</td>\n",
       "    </tr>\n",
       "    <tr>\n",
       "      <th>18.5</th>\n",
       "      <td>1410.400000</td>\n",
       "    </tr>\n",
       "    <tr>\n",
       "      <th>22.0</th>\n",
       "      <td>1978.000000</td>\n",
       "    </tr>\n",
       "    <tr>\n",
       "      <th rowspan=\"4\" valign=\"top\">E</th>\n",
       "      <th>8.5</th>\n",
       "      <td>351.883333</td>\n",
       "    </tr>\n",
       "    <tr>\n",
       "      <th>12.0</th>\n",
       "      <td>643.464286</td>\n",
       "    </tr>\n",
       "    <tr>\n",
       "      <th>14.0</th>\n",
       "      <td>701.760000</td>\n",
       "    </tr>\n",
       "    <tr>\n",
       "      <th>17.0</th>\n",
       "      <td>908.733333</td>\n",
       "    </tr>\n",
       "  </tbody>\n",
       "</table>\n",
       "</div>"
      ],
      "text/plain": [
       "                        price\n",
       "company diameter             \n",
       "A       8.0        602.000000\n",
       "        12.0       774.000000\n",
       "        14.0      1156.700000\n",
       "        16.0       967.500000\n",
       "        16.5      1281.400000\n",
       "        18.0      2132.800000\n",
       "        18.5      1307.200000\n",
       "        20.0      1702.800000\n",
       "        22.0      1999.500000\n",
       "B       8.5        349.375000\n",
       "        12.0       643.208333\n",
       "        14.0       664.350000\n",
       "        17.0       860.000000\n",
       "C       8.5        318.200000\n",
       "        12.0       565.020000\n",
       "        14.0       840.220000\n",
       "D       8.0        602.000000\n",
       "        8.5        234.350000\n",
       "        12.0       632.714286\n",
       "        14.0       799.800000\n",
       "        16.0       946.000000\n",
       "        16.5      1281.400000\n",
       "        17.0       713.800000\n",
       "        18.5      1410.400000\n",
       "        22.0      1978.000000\n",
       "E       8.5        351.883333\n",
       "        12.0       643.464286\n",
       "        14.0       701.760000\n",
       "        17.0       908.733333"
      ]
     },
     "execution_count": 73,
     "metadata": {},
     "output_type": "execute_result"
    }
   ],
   "source": [
    "pp.groupby(['company', 'diameter'])[['price']].mean().head(50)"
   ]
  },
  {
   "cell_type": "markdown",
   "id": "7912ef75",
   "metadata": {},
   "source": [
    "*****\n",
    "### Q7. Find the average pricing of the pizzas provided by comany A with diameter of 14 inches ."
   ]
  },
  {
   "cell_type": "code",
   "execution_count": 74,
   "id": "38a8798e",
   "metadata": {},
   "outputs": [
    {
     "data": {
      "text/plain": [
       "1156.7"
      ]
     },
     "execution_count": 74,
     "metadata": {},
     "output_type": "execute_result"
    }
   ],
   "source": [
    "pp[(pp['company'] == 'A') & (pp['diameter'] == 14.0)]['price'].mean()"
   ]
  },
  {
   "cell_type": "markdown",
   "id": "3ff71624",
   "metadata": {},
   "source": [
    "*****\n",
    "### Q8. Find the highest average pricing of the pizzas provided by comany A of different diameters."
   ]
  },
  {
   "cell_type": "code",
   "execution_count": 75,
   "id": "7dfa1cf6",
   "metadata": {},
   "outputs": [
    {
     "data": {
      "text/plain": [
       "2132.8"
      ]
     },
     "execution_count": 75,
     "metadata": {},
     "output_type": "execute_result"
    }
   ],
   "source": [
    "pp[pp['company'] == 'A'].groupby('diameter')['price'].mean().max()"
   ]
  },
  {
   "cell_type": "code",
   "execution_count": 76,
   "id": "f01e3e69",
   "metadata": {},
   "outputs": [
    {
     "data": {
      "text/plain": [
       "diameter\n",
       "8.0      602.0\n",
       "12.0     774.0\n",
       "14.0    1156.7\n",
       "16.0     967.5\n",
       "16.5    1281.4\n",
       "18.0    2132.8\n",
       "18.5    1307.2\n",
       "20.0    1702.8\n",
       "22.0    1999.5\n",
       "Name: price, dtype: float64"
      ]
     },
     "execution_count": 76,
     "metadata": {},
     "output_type": "execute_result"
    }
   ],
   "source": [
    "pp[pp['company'] == 'A'].groupby('diameter')['price'].mean()"
   ]
  },
  {
   "cell_type": "markdown",
   "id": "af9d2ea7",
   "metadata": {},
   "source": [
    "*****\n",
    "### Q9. Find the lowest average pricing of the pizzas provided by company A of different diameters."
   ]
  },
  {
   "cell_type": "code",
   "execution_count": 77,
   "id": "eb1a7000",
   "metadata": {},
   "outputs": [
    {
     "data": {
      "text/plain": [
       "602.0"
      ]
     },
     "execution_count": 77,
     "metadata": {},
     "output_type": "execute_result"
    }
   ],
   "source": [
    "pp[pp['company'] == 'A'].groupby('diameter')['price'].mean().min()"
   ]
  },
  {
   "cell_type": "markdown",
   "id": "accab8ff",
   "metadata": {},
   "source": [
    "*****\n",
    "### Q10. Find the count of pizzas with different diameters from company A."
   ]
  },
  {
   "cell_type": "code",
   "execution_count": 78,
   "id": "bdc81151",
   "metadata": {},
   "outputs": [],
   "source": [
    "A_dm = pp[pp['company'] == 'A']"
   ]
  },
  {
   "cell_type": "code",
   "execution_count": 79,
   "id": "33d7b2ba",
   "metadata": {},
   "outputs": [
    {
     "data": {
      "text/plain": [
       "12.0    6\n",
       "16.0    4\n",
       "18.5    4\n",
       "8.0     3\n",
       "22.0    2\n",
       "14.0    2\n",
       "16.5    2\n",
       "20.0    1\n",
       "18.0    1\n",
       "Name: diameter, dtype: int64"
      ]
     },
     "execution_count": 79,
     "metadata": {},
     "output_type": "execute_result"
    }
   ],
   "source": [
    "A_dm['diameter'].value_counts()"
   ]
  },
  {
   "cell_type": "code",
   "execution_count": 80,
   "id": "c5f28c04",
   "metadata": {},
   "outputs": [
    {
     "data": {
      "image/png": "[encoded data removed]",
      "text/plain": [
       "<Figure size 1000x500 with 1 Axes>"
      ]
     },
     "metadata": {},
     "output_type": "display_data"
    }
   ],
   "source": [
    "plt.figure(figsize = (10, 5))\n",
    "adm = sns.countplot(x = A_dm['diameter'])\n",
    "plt.title('Pizza of different diameters provided by Company A')\n",
    "\n",
    "for bars in adm.containers:\n",
    "    adm.bar_label(bars)\n",
    "\n",
    "plt.show()"
   ]
  },
  {
   "cell_type": "markdown",
   "id": "f9d769b9",
   "metadata": {},
   "source": [
    "*****\n",
    "### Q11. What is the relation between diameter and price?"
   ]
  },
  {
   "cell_type": "code",
   "execution_count": 81,
   "id": "31701e7c",
   "metadata": {},
   "outputs": [
    {
     "data": {
      "text/html": [
       "<div>\n",
       "<style scoped>\n",
       "    .dataframe tbody tr th:only-of-type {\n",
       "        vertical-align: middle;\n",
       "    }\n",
       "\n",
       "    .dataframe tbody tr th {\n",
       "        vertical-align: top;\n",
       "    }\n",
       "\n",
       "    .dataframe thead th {\n",
       "        text-align: right;\n",
       "    }\n",
       "</style>\n",
       "<table border=\"1\" class=\"dataframe\">\n",
       "  <thead>\n",
       "    <tr style=\"text-align: right;\">\n",
       "      <th></th>\n",
       "      <th>diameter</th>\n",
       "      <th>price</th>\n",
       "    </tr>\n",
       "  </thead>\n",
       "  <tbody>\n",
       "    <tr>\n",
       "      <th>diameter</th>\n",
       "      <td>1.000000</td>\n",
       "      <td>0.833142</td>\n",
       "    </tr>\n",
       "    <tr>\n",
       "      <th>price</th>\n",
       "      <td>0.833142</td>\n",
       "      <td>1.000000</td>\n",
       "    </tr>\n",
       "  </tbody>\n",
       "</table>\n",
       "</div>"
      ],
      "text/plain": [
       "          diameter     price\n",
       "diameter  1.000000  0.833142\n",
       "price     0.833142  1.000000"
      ]
     },
     "execution_count": 81,
     "metadata": {},
     "output_type": "execute_result"
    }
   ],
   "source": [
    "# correlation matrix for diameter and price.\n",
    "\n",
    "pr_dm = pp[['diameter', 'price']].corr()\n",
    "pr_dm"
   ]
  },
  {
   "cell_type": "code",
   "execution_count": 82,
   "id": "4d1917fd",
   "metadata": {},
   "outputs": [
    {
     "data": {
      "image/png": "[encoded data removed]",
      "text/plain": [
       "<Figure size 640x480 with 2 Axes>"
      ]
     },
     "metadata": {},
     "output_type": "display_data"
    }
   ],
   "source": [
    "# correlation heatmap for diameter and price.\n",
    "\n",
    "sns.heatmap(pr_dm, annot = True)\n",
    "plt.show()"
   ]
  },
  {
   "cell_type": "markdown",
   "id": "a067eff7",
   "metadata": {},
   "source": [
    "- The correlation coefficient of diameter with price and vice versa is 0.83. This shows that these two columns are positively correlated. \n",
    "- As the diameter of pizza increases, the price of pizza increases."
   ]
  },
  {
   "cell_type": "code",
   "execution_count": 83,
   "id": "70c06525",
   "metadata": {},
   "outputs": [
    {
     "data": {
      "image/png": "[encoded data removed]",
      "text/plain": [
       "<Figure size 640x480 with 1 Axes>"
      ]
     },
     "metadata": {},
     "output_type": "display_data"
    }
   ],
   "source": [
    "sns.scatterplot(pp, x = 'diameter', y = 'price')\n",
    "plt.show()"
   ]
  },
  {
   "cell_type": "markdown",
   "id": "5bfc613f",
   "metadata": {},
   "source": [
    "- We can see from the scatter plot above that the price of pizza increases as the diameter of the pizza increases."
   ]
  },
  {
   "cell_type": "markdown",
   "id": "9b4d1d1f",
   "metadata": {},
   "source": [
    "*****\n",
    "### Q12. Find the different toppings used by each company."
   ]
  },
  {
   "cell_type": "code",
   "execution_count": 84,
   "id": "bec9bf31",
   "metadata": {},
   "outputs": [
    {
     "data": {
      "text/plain": [
       "company\n",
       "A    [chicken, papperoni, mushrooms, smoked_beef, mozzarella, black_papper]\n",
       "B                             [mozzarella, chicken, smoked_beef, mushrooms]\n",
       "C     [tuna, meat, sausage, mushrooms, onion, mozzarella, vegetables, beef]\n",
       "D                             [mozzarella, smoked_beef, chicken, mushrooms]\n",
       "E                 [mozzarella, chicken, smoked_beef, mushrooms, tuna, meat]\n",
       "Name: topping, dtype: object"
      ]
     },
     "execution_count": 84,
     "metadata": {},
     "output_type": "execute_result"
    }
   ],
   "source": [
    "# code to view full text in pandas DataFrame / Series.\n",
    "pd.options.display.max_colwidth = 100\n",
    "\n",
    "pp.groupby('company')['topping'].unique()"
   ]
  },
  {
   "cell_type": "markdown",
   "id": "91b9b01d",
   "metadata": {},
   "source": [
    "*****\n",
    "### Q13. Find the different variants of pizza provided by each company."
   ]
  },
  {
   "cell_type": "code",
   "execution_count": 85,
   "id": "6a075c2b",
   "metadata": {},
   "outputs": [
    {
     "data": {
      "text/plain": [
       "company\n",
       "A                          [double_signature, american_favorite, super_supreme, meat_lovers, double_mix]\n",
       "B                                                            [classic, crunchy, new_york, double_decker]\n",
       "C    [spicy_tuna, BBQ_meat_fiesta, BBQ_sausage, extravaganza, meat_eater, gournet_greek, italian_vegg...\n",
       "D                                   [meat_lovers, double_mix, classic, crunchy, new_york, double_decker]\n",
       "E                               [new_york, classic, crunchy, double_decker, spicy_tuna, BBQ_meat_fiesta]\n",
       "Name: variant, dtype: object"
      ]
     },
     "execution_count": 85,
     "metadata": {},
     "output_type": "execute_result"
    }
   ],
   "source": [
    "pp.groupby('company')['variant'].unique()"
   ]
  },
  {
   "cell_type": "markdown",
   "id": "8099c992",
   "metadata": {},
   "source": [
    "*****\n",
    "### Q14. Find the different variants of pizzas provided by company C."
   ]
  },
  {
   "cell_type": "code",
   "execution_count": 86,
   "id": "9387fdfc",
   "metadata": {},
   "outputs": [],
   "source": [
    "C_var = pp[pp['company'] == 'C']['variant']"
   ]
  },
  {
   "cell_type": "code",
   "execution_count": 87,
   "id": "f8621f94",
   "metadata": {},
   "outputs": [
    {
     "data": {
      "text/plain": [
       "array(['spicy_tuna', 'BBQ_meat_fiesta', 'BBQ_sausage', 'extravaganza',\n",
       "       'meat_eater', 'gournet_greek', 'italian_veggie', 'thai_veggie',\n",
       "       'american_classic', 'neptune_tuna'], dtype=object)"
      ]
     },
     "execution_count": 87,
     "metadata": {},
     "output_type": "execute_result"
    }
   ],
   "source": [
    "C_var.unique()"
   ]
  },
  {
   "cell_type": "markdown",
   "id": "22ab552b",
   "metadata": {},
   "source": [
    "*****\n",
    "### Q15. Find out the mostly used topping by company A."
   ]
  },
  {
   "cell_type": "code",
   "execution_count": 88,
   "id": "f9451503",
   "metadata": {},
   "outputs": [
    {
     "data": {
      "text/plain": [
       "0    smoked_beef\n",
       "Name: topping, dtype: object"
      ]
     },
     "execution_count": 88,
     "metadata": {},
     "output_type": "execute_result"
    }
   ],
   "source": [
    "pp[pp['company'] == 'A']['topping'].mode()"
   ]
  },
  {
   "cell_type": "markdown",
   "id": "fe4f14cf",
   "metadata": {},
   "source": [
    "*****\n",
    "### Q16. Find out the number of each topping used by each company?"
   ]
  },
  {
   "cell_type": "code",
   "execution_count": 89,
   "id": "431898c7",
   "metadata": {},
   "outputs": [
    {
     "data": {
      "text/plain": [
       "company  topping     \n",
       "A        smoked_beef     6\n",
       "         chicken         5\n",
       "         mozzarella      5\n",
       "         mushrooms       4\n",
       "         black_papper    3\n",
       "         papperoni       2\n",
       "B        chicken         8\n",
       "         mushrooms       6\n",
       "         mozzarella      5\n",
       "         smoked_beef     5\n",
       "C        vegetables      9\n",
       "         meat            6\n",
       "         tuna            6\n",
       "         beef            3\n",
       "         sausage         3\n",
       "         mozzarella      1\n",
       "         mushrooms       1\n",
       "         onion           1\n",
       "D        chicken         8\n",
       "         mushrooms       5\n",
       "         mozzarella      4\n",
       "         smoked_beef     3\n",
       "E        chicken         7\n",
       "         mushrooms       6\n",
       "         mozzarella      5\n",
       "         smoked_beef     5\n",
       "         tuna            3\n",
       "         meat            2\n",
       "Name: topping, dtype: int64"
      ]
     },
     "execution_count": 89,
     "metadata": {},
     "output_type": "execute_result"
    }
   ],
   "source": [
    "pp.groupby('company')['topping'].value_counts()"
   ]
  },
  {
   "cell_type": "code",
   "execution_count": 90,
   "id": "346b195e",
   "metadata": {},
   "outputs": [
    {
     "data": {
      "image/png": "[encoded data removed]",
      "text/plain": [
       "<Figure size 1500x500 with 1 Axes>"
      ]
     },
     "metadata": {},
     "output_type": "display_data"
    }
   ],
   "source": [
    "plt.figure(figsize = (15,5))\n",
    "cp_top = sns.countplot(x = pp['topping'], hue = pp['company'])\n",
    "\n",
    "for bars in cp_top.containers:\n",
    "    cp_top.bar_label(bars)\n",
    "        \n",
    "    \n",
    "plt.show()"
   ]
  },
  {
   "cell_type": "markdown",
   "id": "b037c694",
   "metadata": {},
   "source": [
    "*****\n",
    "### Q16. Find out which diameter of pizza fall in which size category."
   ]
  },
  {
   "cell_type": "code",
   "execution_count": 91,
   "id": "a3bc69dc",
   "metadata": {},
   "outputs": [
    {
     "data": {
      "text/plain": [
       "size\n",
       "XL                                 [17.0]\n",
       "jumbo      [22.0, 20.0, 18.0, 18.5, 16.0]\n",
       "large                              [14.0]\n",
       "medium                             [12.0]\n",
       "reguler     [16.0, 14.0, 8.0, 12.0, 16.5]\n",
       "small                               [8.5]\n",
       "Name: diameter, dtype: object"
      ]
     },
     "execution_count": 91,
     "metadata": {},
     "output_type": "execute_result"
    }
   ],
   "source": [
    "pp.groupby('size')['diameter'].unique()"
   ]
  },
  {
   "cell_type": "markdown",
   "id": "65fdf4b9",
   "metadata": {},
   "source": [
    "*****\n",
    "### Q17. Find the different pizza size for each company."
   ]
  },
  {
   "cell_type": "code",
   "execution_count": 92,
   "id": "5b8bb0a6",
   "metadata": {},
   "outputs": [
    {
     "data": {
      "text/plain": [
       "company\n",
       "A                              [jumbo, reguler]\n",
       "B                    [small, medium, large, XL]\n",
       "C                        [small, medium, large]\n",
       "D    [jumbo, reguler, small, medium, large, XL]\n",
       "E                    [XL, small, medium, large]\n",
       "Name: size, dtype: object"
      ]
     },
     "execution_count": 92,
     "metadata": {},
     "output_type": "execute_result"
    }
   ],
   "source": [
    "pp.groupby('company')['size'].unique()"
   ]
  },
  {
   "cell_type": "markdown",
   "id": "62d9fc86",
   "metadata": {},
   "source": [
    "*****\n",
    "### Q18. Find the pizza diameters that fall in different size category for each company."
   ]
  },
  {
   "cell_type": "code",
   "execution_count": 93,
   "id": "c5c7b484",
   "metadata": {},
   "outputs": [
    {
     "data": {
      "text/plain": [
       "company  size   \n",
       "A        jumbo      [22.0, 20.0, 18.0, 18.5, 16.0]\n",
       "         reguler     [16.0, 14.0, 8.0, 12.0, 16.5]\n",
       "B        XL                                 [17.0]\n",
       "         large                              [14.0]\n",
       "         medium                             [12.0]\n",
       "         small                               [8.5]\n",
       "C        large                              [14.0]\n",
       "         medium                             [12.0]\n",
       "         small                               [8.5]\n",
       "D        XL                                 [17.0]\n",
       "         jumbo                  [18.5, 16.0, 22.0]\n",
       "         large                              [14.0]\n",
       "         medium                             [12.0]\n",
       "         reguler           [8.0, 12.0, 14.0, 16.5]\n",
       "         small                               [8.5]\n",
       "E        XL                                 [17.0]\n",
       "         large                              [14.0]\n",
       "         medium                             [12.0]\n",
       "         small                               [8.5]\n",
       "Name: diameter, dtype: object"
      ]
     },
     "execution_count": 93,
     "metadata": {},
     "output_type": "execute_result"
    }
   ],
   "source": [
    "pp.groupby(['company', 'size'])['diameter'].unique()"
   ]
  },
  {
   "cell_type": "markdown",
   "id": "87232174",
   "metadata": {},
   "source": [
    "*****\n",
    "### Q19. Find the pizza diameters that fall in different size category "
   ]
  },
  {
   "cell_type": "code",
   "execution_count": 94,
   "id": "2f65001f",
   "metadata": {},
   "outputs": [
    {
     "data": {
      "text/plain": [
       "size     diameter\n",
       "XL       17.0         8\n",
       "jumbo    18.5         6\n",
       "         16.0         4\n",
       "         22.0         3\n",
       "         18.0         1\n",
       "         20.0         1\n",
       "large    14.0        21\n",
       "medium   12.0        41\n",
       "reguler  12.0         8\n",
       "         8.0          4\n",
       "         16.5         4\n",
       "         14.0         3\n",
       "         16.0         1\n",
       "small    8.5         22\n",
       "Name: diameter, dtype: int64"
      ]
     },
     "execution_count": 94,
     "metadata": {},
     "output_type": "execute_result"
    }
   ],
   "source": [
    "pp.groupby('size')['diameter'].value_counts()"
   ]
  },
  {
   "cell_type": "markdown",
   "id": "513776fb",
   "metadata": {},
   "source": [
    "*****\n",
    "### Q20. How many pizzas of different size has addition of extra_sauce, extra_cheese and extra_mushrooms for each company?"
   ]
  },
  {
   "cell_type": "code",
   "execution_count": 95,
   "id": "174f42e7",
   "metadata": {},
   "outputs": [
    {
     "data": {
      "text/html": [
       "<div>\n",
       "<style scoped>\n",
       "    .dataframe tbody tr th:only-of-type {\n",
       "        vertical-align: middle;\n",
       "    }\n",
       "\n",
       "    .dataframe tbody tr th {\n",
       "        vertical-align: top;\n",
       "    }\n",
       "\n",
       "    .dataframe thead th {\n",
       "        text-align: right;\n",
       "    }\n",
       "</style>\n",
       "<table border=\"1\" class=\"dataframe\">\n",
       "  <thead>\n",
       "    <tr style=\"text-align: right;\">\n",
       "      <th></th>\n",
       "      <th>company</th>\n",
       "      <th>price</th>\n",
       "      <th>diameter</th>\n",
       "      <th>topping</th>\n",
       "      <th>variant</th>\n",
       "      <th>size</th>\n",
       "      <th>extra_sauce</th>\n",
       "      <th>extra_cheese</th>\n",
       "      <th>extra_mushrooms</th>\n",
       "    </tr>\n",
       "  </thead>\n",
       "  <tbody>\n",
       "    <tr>\n",
       "      <th>2</th>\n",
       "      <td>A</td>\n",
       "      <td>1032.0</td>\n",
       "      <td>16.0</td>\n",
       "      <td>mushrooms</td>\n",
       "      <td>double_signature</td>\n",
       "      <td>reguler</td>\n",
       "      <td>yes</td>\n",
       "      <td>yes</td>\n",
       "      <td>yes</td>\n",
       "    </tr>\n",
       "    <tr>\n",
       "      <th>17</th>\n",
       "      <td>A</td>\n",
       "      <td>602.0</td>\n",
       "      <td>8.0</td>\n",
       "      <td>chicken</td>\n",
       "      <td>meat_lovers</td>\n",
       "      <td>reguler</td>\n",
       "      <td>yes</td>\n",
       "      <td>yes</td>\n",
       "      <td>yes</td>\n",
       "    </tr>\n",
       "    <tr>\n",
       "      <th>18</th>\n",
       "      <td>A</td>\n",
       "      <td>774.0</td>\n",
       "      <td>12.0</td>\n",
       "      <td>mushrooms</td>\n",
       "      <td>meat_lovers</td>\n",
       "      <td>reguler</td>\n",
       "      <td>yes</td>\n",
       "      <td>yes</td>\n",
       "      <td>yes</td>\n",
       "    </tr>\n",
       "    <tr>\n",
       "      <th>19</th>\n",
       "      <td>A</td>\n",
       "      <td>774.0</td>\n",
       "      <td>12.0</td>\n",
       "      <td>mozzarella</td>\n",
       "      <td>meat_lovers</td>\n",
       "      <td>reguler</td>\n",
       "      <td>yes</td>\n",
       "      <td>yes</td>\n",
       "      <td>yes</td>\n",
       "    </tr>\n",
       "    <tr>\n",
       "      <th>20</th>\n",
       "      <td>A</td>\n",
       "      <td>1978.0</td>\n",
       "      <td>22.0</td>\n",
       "      <td>chicken</td>\n",
       "      <td>double_mix</td>\n",
       "      <td>jumbo</td>\n",
       "      <td>yes</td>\n",
       "      <td>yes</td>\n",
       "      <td>yes</td>\n",
       "    </tr>\n",
       "    <tr>\n",
       "      <th>21</th>\n",
       "      <td>A</td>\n",
       "      <td>1616.8</td>\n",
       "      <td>18.5</td>\n",
       "      <td>mushrooms</td>\n",
       "      <td>double_mix</td>\n",
       "      <td>jumbo</td>\n",
       "      <td>yes</td>\n",
       "      <td>yes</td>\n",
       "      <td>yes</td>\n",
       "    </tr>\n",
       "    <tr>\n",
       "      <th>22</th>\n",
       "      <td>A</td>\n",
       "      <td>980.4</td>\n",
       "      <td>14.0</td>\n",
       "      <td>chicken</td>\n",
       "      <td>double_mix</td>\n",
       "      <td>reguler</td>\n",
       "      <td>yes</td>\n",
       "      <td>yes</td>\n",
       "      <td>yes</td>\n",
       "    </tr>\n",
       "    <tr>\n",
       "      <th>31</th>\n",
       "      <td>B</td>\n",
       "      <td>266.6</td>\n",
       "      <td>8.5</td>\n",
       "      <td>mushrooms</td>\n",
       "      <td>classic</td>\n",
       "      <td>small</td>\n",
       "      <td>yes</td>\n",
       "      <td>yes</td>\n",
       "      <td>yes</td>\n",
       "    </tr>\n",
       "    <tr>\n",
       "      <th>36</th>\n",
       "      <td>B</td>\n",
       "      <td>1057.8</td>\n",
       "      <td>12.0</td>\n",
       "      <td>smoked_beef</td>\n",
       "      <td>double_decker</td>\n",
       "      <td>medium</td>\n",
       "      <td>yes</td>\n",
       "      <td>yes</td>\n",
       "      <td>yes</td>\n",
       "    </tr>\n",
       "    <tr>\n",
       "      <th>38</th>\n",
       "      <td>B</td>\n",
       "      <td>395.6</td>\n",
       "      <td>12.0</td>\n",
       "      <td>mozzarella</td>\n",
       "      <td>classic</td>\n",
       "      <td>medium</td>\n",
       "      <td>yes</td>\n",
       "      <td>yes</td>\n",
       "      <td>yes</td>\n",
       "    </tr>\n",
       "    <tr>\n",
       "      <th>49</th>\n",
       "      <td>C</td>\n",
       "      <td>335.4</td>\n",
       "      <td>8.5</td>\n",
       "      <td>tuna</td>\n",
       "      <td>spicy_tuna</td>\n",
       "      <td>small</td>\n",
       "      <td>yes</td>\n",
       "      <td>yes</td>\n",
       "      <td>yes</td>\n",
       "    </tr>\n",
       "    <tr>\n",
       "      <th>50</th>\n",
       "      <td>C</td>\n",
       "      <td>619.2</td>\n",
       "      <td>12.0</td>\n",
       "      <td>tuna</td>\n",
       "      <td>spicy_tuna</td>\n",
       "      <td>medium</td>\n",
       "      <td>yes</td>\n",
       "      <td>yes</td>\n",
       "      <td>yes</td>\n",
       "    </tr>\n",
       "    <tr>\n",
       "      <th>51</th>\n",
       "      <td>C</td>\n",
       "      <td>851.4</td>\n",
       "      <td>14.0</td>\n",
       "      <td>tuna</td>\n",
       "      <td>spicy_tuna</td>\n",
       "      <td>large</td>\n",
       "      <td>yes</td>\n",
       "      <td>yes</td>\n",
       "      <td>yes</td>\n",
       "    </tr>\n",
       "    <tr>\n",
       "      <th>60</th>\n",
       "      <td>C</td>\n",
       "      <td>842.8</td>\n",
       "      <td>14.0</td>\n",
       "      <td>mozzarella</td>\n",
       "      <td>extravaganza</td>\n",
       "      <td>large</td>\n",
       "      <td>yes</td>\n",
       "      <td>yes</td>\n",
       "      <td>yes</td>\n",
       "    </tr>\n",
       "    <tr>\n",
       "      <th>61</th>\n",
       "      <td>C</td>\n",
       "      <td>301.0</td>\n",
       "      <td>8.5</td>\n",
       "      <td>meat</td>\n",
       "      <td>meat_eater</td>\n",
       "      <td>small</td>\n",
       "      <td>yes</td>\n",
       "      <td>yes</td>\n",
       "      <td>yes</td>\n",
       "    </tr>\n",
       "    <tr>\n",
       "      <th>62</th>\n",
       "      <td>C</td>\n",
       "      <td>516.0</td>\n",
       "      <td>12.0</td>\n",
       "      <td>meat</td>\n",
       "      <td>meat_eater</td>\n",
       "      <td>medium</td>\n",
       "      <td>yes</td>\n",
       "      <td>yes</td>\n",
       "      <td>yes</td>\n",
       "    </tr>\n",
       "    <tr>\n",
       "      <th>84</th>\n",
       "      <td>D</td>\n",
       "      <td>1978.0</td>\n",
       "      <td>22.0</td>\n",
       "      <td>chicken</td>\n",
       "      <td>double_mix</td>\n",
       "      <td>jumbo</td>\n",
       "      <td>yes</td>\n",
       "      <td>yes</td>\n",
       "      <td>yes</td>\n",
       "    </tr>\n",
       "    <tr>\n",
       "      <th>85</th>\n",
       "      <td>D</td>\n",
       "      <td>1616.8</td>\n",
       "      <td>18.5</td>\n",
       "      <td>mushrooms</td>\n",
       "      <td>double_mix</td>\n",
       "      <td>jumbo</td>\n",
       "      <td>yes</td>\n",
       "      <td>yes</td>\n",
       "      <td>yes</td>\n",
       "    </tr>\n",
       "    <tr>\n",
       "      <th>86</th>\n",
       "      <td>D</td>\n",
       "      <td>980.4</td>\n",
       "      <td>14.0</td>\n",
       "      <td>chicken</td>\n",
       "      <td>double_mix</td>\n",
       "      <td>reguler</td>\n",
       "      <td>yes</td>\n",
       "      <td>yes</td>\n",
       "      <td>yes</td>\n",
       "    </tr>\n",
       "    <tr>\n",
       "      <th>111</th>\n",
       "      <td>E</td>\n",
       "      <td>1057.8</td>\n",
       "      <td>12.0</td>\n",
       "      <td>smoked_beef</td>\n",
       "      <td>double_decker</td>\n",
       "      <td>medium</td>\n",
       "      <td>yes</td>\n",
       "      <td>yes</td>\n",
       "      <td>yes</td>\n",
       "    </tr>\n",
       "    <tr>\n",
       "      <th>113</th>\n",
       "      <td>E</td>\n",
       "      <td>395.6</td>\n",
       "      <td>12.0</td>\n",
       "      <td>mozzarella</td>\n",
       "      <td>classic</td>\n",
       "      <td>medium</td>\n",
       "      <td>yes</td>\n",
       "      <td>yes</td>\n",
       "      <td>yes</td>\n",
       "    </tr>\n",
       "    <tr>\n",
       "      <th>114</th>\n",
       "      <td>E</td>\n",
       "      <td>619.2</td>\n",
       "      <td>14.0</td>\n",
       "      <td>chicken</td>\n",
       "      <td>classic</td>\n",
       "      <td>large</td>\n",
       "      <td>yes</td>\n",
       "      <td>yes</td>\n",
       "      <td>yes</td>\n",
       "    </tr>\n",
       "    <tr>\n",
       "      <th>124</th>\n",
       "      <td>E</td>\n",
       "      <td>335.4</td>\n",
       "      <td>8.5</td>\n",
       "      <td>tuna</td>\n",
       "      <td>spicy_tuna</td>\n",
       "      <td>small</td>\n",
       "      <td>yes</td>\n",
       "      <td>yes</td>\n",
       "      <td>yes</td>\n",
       "    </tr>\n",
       "    <tr>\n",
       "      <th>125</th>\n",
       "      <td>E</td>\n",
       "      <td>619.2</td>\n",
       "      <td>12.0</td>\n",
       "      <td>tuna</td>\n",
       "      <td>spicy_tuna</td>\n",
       "      <td>medium</td>\n",
       "      <td>yes</td>\n",
       "      <td>yes</td>\n",
       "      <td>yes</td>\n",
       "    </tr>\n",
       "    <tr>\n",
       "      <th>126</th>\n",
       "      <td>E</td>\n",
       "      <td>851.4</td>\n",
       "      <td>14.0</td>\n",
       "      <td>tuna</td>\n",
       "      <td>spicy_tuna</td>\n",
       "      <td>large</td>\n",
       "      <td>yes</td>\n",
       "      <td>yes</td>\n",
       "      <td>yes</td>\n",
       "    </tr>\n",
       "  </tbody>\n",
       "</table>\n",
       "</div>"
      ],
      "text/plain": [
       "    company   price  diameter      topping           variant     size  \\\n",
       "2         A  1032.0      16.0    mushrooms  double_signature  reguler   \n",
       "17        A   602.0       8.0      chicken       meat_lovers  reguler   \n",
       "18        A   774.0      12.0    mushrooms       meat_lovers  reguler   \n",
       "19        A   774.0      12.0   mozzarella       meat_lovers  reguler   \n",
       "20        A  1978.0      22.0      chicken        double_mix    jumbo   \n",
       "21        A  1616.8      18.5    mushrooms        double_mix    jumbo   \n",
       "22        A   980.4      14.0      chicken        double_mix  reguler   \n",
       "31        B   266.6       8.5    mushrooms           classic    small   \n",
       "36        B  1057.8      12.0  smoked_beef     double_decker   medium   \n",
       "38        B   395.6      12.0   mozzarella           classic   medium   \n",
       "49        C   335.4       8.5         tuna        spicy_tuna    small   \n",
       "50        C   619.2      12.0         tuna        spicy_tuna   medium   \n",
       "51        C   851.4      14.0         tuna        spicy_tuna    large   \n",
       "60        C   842.8      14.0   mozzarella      extravaganza    large   \n",
       "61        C   301.0       8.5         meat        meat_eater    small   \n",
       "62        C   516.0      12.0         meat        meat_eater   medium   \n",
       "84        D  1978.0      22.0      chicken        double_mix    jumbo   \n",
       "85        D  1616.8      18.5    mushrooms        double_mix    jumbo   \n",
       "86        D   980.4      14.0      chicken        double_mix  reguler   \n",
       "111       E  1057.8      12.0  smoked_beef     double_decker   medium   \n",
       "113       E   395.6      12.0   mozzarella           classic   medium   \n",
       "114       E   619.2      14.0      chicken           classic    large   \n",
       "124       E   335.4       8.5         tuna        spicy_tuna    small   \n",
       "125       E   619.2      12.0         tuna        spicy_tuna   medium   \n",
       "126       E   851.4      14.0         tuna        spicy_tuna    large   \n",
       "\n",
       "    extra_sauce extra_cheese extra_mushrooms  \n",
       "2           yes          yes             yes  \n",
       "17          yes          yes             yes  \n",
       "18          yes          yes             yes  \n",
       "19          yes          yes             yes  \n",
       "20          yes          yes             yes  \n",
       "21          yes          yes             yes  \n",
       "22          yes          yes             yes  \n",
       "31          yes          yes             yes  \n",
       "36          yes          yes             yes  \n",
       "38          yes          yes             yes  \n",
       "49          yes          yes             yes  \n",
       "50          yes          yes             yes  \n",
       "51          yes          yes             yes  \n",
       "60          yes          yes             yes  \n",
       "61          yes          yes             yes  \n",
       "62          yes          yes             yes  \n",
       "84          yes          yes             yes  \n",
       "85          yes          yes             yes  \n",
       "86          yes          yes             yes  \n",
       "111         yes          yes             yes  \n",
       "113         yes          yes             yes  \n",
       "114         yes          yes             yes  \n",
       "124         yes          yes             yes  \n",
       "125         yes          yes             yes  \n",
       "126         yes          yes             yes  "
      ]
     },
     "execution_count": 95,
     "metadata": {},
     "output_type": "execute_result"
    }
   ],
   "source": [
    "es_ec_em = pp[(pp['extra_sauce'] == 'yes') & (pp['extra_cheese'] == 'yes') & (pp['extra_mushrooms'] == 'yes')]\n",
    "es_ec_em"
   ]
  },
  {
   "cell_type": "code",
   "execution_count": 96,
   "id": "fd156486",
   "metadata": {},
   "outputs": [
    {
     "data": {
      "text/plain": [
       "size     company\n",
       "jumbo    A          2\n",
       "         D          2\n",
       "large    C          2\n",
       "         E          2\n",
       "medium   B          2\n",
       "         C          2\n",
       "         E          3\n",
       "reguler  A          5\n",
       "         D          1\n",
       "small    B          1\n",
       "         C          2\n",
       "         E          1\n",
       "Name: size, dtype: int64"
      ]
     },
     "execution_count": 96,
     "metadata": {},
     "output_type": "execute_result"
    }
   ],
   "source": [
    "es_ec_em.groupby(['size', 'company'])['size'].count()"
   ]
  },
  {
   "cell_type": "code",
   "execution_count": 97,
   "id": "41024217",
   "metadata": {},
   "outputs": [
    {
     "data": {
      "image/png": "[encoded data removed]",
      "text/plain": [
       "<Figure size 1200x500 with 1 Axes>"
      ]
     },
     "metadata": {},
     "output_type": "display_data"
    }
   ],
   "source": [
    "plt.figure(figsize = (12, 5))\n",
    "sz = sns.countplot(es_ec_em,  x = 'size', hue = 'company')\n",
    "for bars in sz.containers:\n",
    "    sz.bar_label(bars)\n",
    "    \n",
    "plt.show()"
   ]
  },
  {
   "cell_type": "markdown",
   "id": "f1f94c24",
   "metadata": {},
   "source": [
    "*****\n",
    "### Q21. Find the different toppings used in each pizza variants."
   ]
  },
  {
   "cell_type": "code",
   "execution_count": 98,
   "id": "d9be3ebb",
   "metadata": {},
   "outputs": [
    {
     "data": {
      "text/html": [
       "<div>\n",
       "<style scoped>\n",
       "    .dataframe tbody tr th:only-of-type {\n",
       "        vertical-align: middle;\n",
       "    }\n",
       "\n",
       "    .dataframe tbody tr th {\n",
       "        vertical-align: top;\n",
       "    }\n",
       "\n",
       "    .dataframe thead th {\n",
       "        text-align: right;\n",
       "    }\n",
       "</style>\n",
       "<table border=\"1\" class=\"dataframe\">\n",
       "  <thead>\n",
       "    <tr style=\"text-align: right;\">\n",
       "      <th></th>\n",
       "      <th>topping</th>\n",
       "    </tr>\n",
       "    <tr>\n",
       "      <th>variant</th>\n",
       "      <th></th>\n",
       "    </tr>\n",
       "  </thead>\n",
       "  <tbody>\n",
       "    <tr>\n",
       "      <th>BBQ_meat_fiesta</th>\n",
       "      <td>[meat]</td>\n",
       "    </tr>\n",
       "    <tr>\n",
       "      <th>BBQ_sausage</th>\n",
       "      <td>[sausage]</td>\n",
       "    </tr>\n",
       "    <tr>\n",
       "      <th>american_classic</th>\n",
       "      <td>[beef]</td>\n",
       "    </tr>\n",
       "    <tr>\n",
       "      <th>american_favorite</th>\n",
       "      <td>[black_papper, smoked_beef, papperoni, mushrooms]</td>\n",
       "    </tr>\n",
       "    <tr>\n",
       "      <th>classic</th>\n",
       "      <td>[mozzarella, chicken, smoked_beef, mushrooms]</td>\n",
       "    </tr>\n",
       "    <tr>\n",
       "      <th>crunchy</th>\n",
       "      <td>[mozzarella, mushrooms, chicken, smoked_beef]</td>\n",
       "    </tr>\n",
       "    <tr>\n",
       "      <th>double_decker</th>\n",
       "      <td>[chicken, smoked_beef, mushrooms]</td>\n",
       "    </tr>\n",
       "    <tr>\n",
       "      <th>double_mix</th>\n",
       "      <td>[chicken, mushrooms, smoked_beef]</td>\n",
       "    </tr>\n",
       "    <tr>\n",
       "      <th>double_signature</th>\n",
       "      <td>[chicken, papperoni, mushrooms, smoked_beef, mozzarella]</td>\n",
       "    </tr>\n",
       "    <tr>\n",
       "      <th>extravaganza</th>\n",
       "      <td>[mushrooms, onion, mozzarella]</td>\n",
       "    </tr>\n",
       "    <tr>\n",
       "      <th>gournet_greek</th>\n",
       "      <td>[vegetables]</td>\n",
       "    </tr>\n",
       "    <tr>\n",
       "      <th>italian_veggie</th>\n",
       "      <td>[vegetables]</td>\n",
       "    </tr>\n",
       "    <tr>\n",
       "      <th>meat_eater</th>\n",
       "      <td>[meat]</td>\n",
       "    </tr>\n",
       "    <tr>\n",
       "      <th>meat_lovers</th>\n",
       "      <td>[mozzarella, smoked_beef, chicken, mushrooms]</td>\n",
       "    </tr>\n",
       "    <tr>\n",
       "      <th>neptune_tuna</th>\n",
       "      <td>[tuna]</td>\n",
       "    </tr>\n",
       "    <tr>\n",
       "      <th>new_york</th>\n",
       "      <td>[chicken, mozzarella, mushrooms]</td>\n",
       "    </tr>\n",
       "    <tr>\n",
       "      <th>spicy_tuna</th>\n",
       "      <td>[tuna]</td>\n",
       "    </tr>\n",
       "    <tr>\n",
       "      <th>super_supreme</th>\n",
       "      <td>[mozzarella, black_papper, smoked_beef]</td>\n",
       "    </tr>\n",
       "    <tr>\n",
       "      <th>thai_veggie</th>\n",
       "      <td>[vegetables]</td>\n",
       "    </tr>\n",
       "  </tbody>\n",
       "</table>\n",
       "</div>"
      ],
      "text/plain": [
       "                                                                    topping\n",
       "variant                                                                    \n",
       "BBQ_meat_fiesta                                                      [meat]\n",
       "BBQ_sausage                                                       [sausage]\n",
       "american_classic                                                     [beef]\n",
       "american_favorite         [black_papper, smoked_beef, papperoni, mushrooms]\n",
       "classic                       [mozzarella, chicken, smoked_beef, mushrooms]\n",
       "crunchy                       [mozzarella, mushrooms, chicken, smoked_beef]\n",
       "double_decker                             [chicken, smoked_beef, mushrooms]\n",
       "double_mix                                [chicken, mushrooms, smoked_beef]\n",
       "double_signature   [chicken, papperoni, mushrooms, smoked_beef, mozzarella]\n",
       "extravaganza                                 [mushrooms, onion, mozzarella]\n",
       "gournet_greek                                                  [vegetables]\n",
       "italian_veggie                                                 [vegetables]\n",
       "meat_eater                                                           [meat]\n",
       "meat_lovers                   [mozzarella, smoked_beef, chicken, mushrooms]\n",
       "neptune_tuna                                                         [tuna]\n",
       "new_york                                   [chicken, mozzarella, mushrooms]\n",
       "spicy_tuna                                                           [tuna]\n",
       "super_supreme                       [mozzarella, black_papper, smoked_beef]\n",
       "thai_veggie                                                    [vegetables]"
      ]
     },
     "execution_count": 98,
     "metadata": {},
     "output_type": "execute_result"
    }
   ],
   "source": [
    "pd.DataFrame(pp.groupby('variant')['topping'].unique())"
   ]
  },
  {
   "cell_type": "code",
   "execution_count": 99,
   "id": "d5e9c319",
   "metadata": {},
   "outputs": [
    {
     "data": {
      "text/html": [
       "<div>\n",
       "<style scoped>\n",
       "    .dataframe tbody tr th:only-of-type {\n",
       "        vertical-align: middle;\n",
       "    }\n",
       "\n",
       "    .dataframe tbody tr th {\n",
       "        vertical-align: top;\n",
       "    }\n",
       "\n",
       "    .dataframe thead th {\n",
       "        text-align: right;\n",
       "    }\n",
       "</style>\n",
       "<table border=\"1\" class=\"dataframe\">\n",
       "  <thead>\n",
       "    <tr style=\"text-align: right;\">\n",
       "      <th></th>\n",
       "      <th></th>\n",
       "      <th>topping</th>\n",
       "    </tr>\n",
       "    <tr>\n",
       "      <th>variant</th>\n",
       "      <th>topping</th>\n",
       "      <th></th>\n",
       "    </tr>\n",
       "  </thead>\n",
       "  <tbody>\n",
       "    <tr>\n",
       "      <th>BBQ_meat_fiesta</th>\n",
       "      <th>meat</th>\n",
       "      <td>5</td>\n",
       "    </tr>\n",
       "    <tr>\n",
       "      <th>BBQ_sausage</th>\n",
       "      <th>sausage</th>\n",
       "      <td>3</td>\n",
       "    </tr>\n",
       "    <tr>\n",
       "      <th>american_classic</th>\n",
       "      <th>beef</th>\n",
       "      <td>3</td>\n",
       "    </tr>\n",
       "    <tr>\n",
       "      <th rowspan=\"4\" valign=\"top\">american_favorite</th>\n",
       "      <th>smoked_beef</th>\n",
       "      <td>2</td>\n",
       "    </tr>\n",
       "    <tr>\n",
       "      <th>black_papper</th>\n",
       "      <td>1</td>\n",
       "    </tr>\n",
       "    <tr>\n",
       "      <th>mushrooms</th>\n",
       "      <td>1</td>\n",
       "    </tr>\n",
       "    <tr>\n",
       "      <th>papperoni</th>\n",
       "      <td>1</td>\n",
       "    </tr>\n",
       "    <tr>\n",
       "      <th rowspan=\"4\" valign=\"top\">classic</th>\n",
       "      <th>chicken</th>\n",
       "      <td>10</td>\n",
       "    </tr>\n",
       "    <tr>\n",
       "      <th>mushrooms</th>\n",
       "      <td>8</td>\n",
       "    </tr>\n",
       "    <tr>\n",
       "      <th>mozzarella</th>\n",
       "      <td>7</td>\n",
       "    </tr>\n",
       "    <tr>\n",
       "      <th>smoked_beef</th>\n",
       "      <td>5</td>\n",
       "    </tr>\n",
       "    <tr>\n",
       "      <th rowspan=\"4\" valign=\"top\">crunchy</th>\n",
       "      <th>mozzarella</th>\n",
       "      <td>3</td>\n",
       "    </tr>\n",
       "    <tr>\n",
       "      <th>mushrooms</th>\n",
       "      <td>3</td>\n",
       "    </tr>\n",
       "    <tr>\n",
       "      <th>chicken</th>\n",
       "      <td>2</td>\n",
       "    </tr>\n",
       "    <tr>\n",
       "      <th>smoked_beef</th>\n",
       "      <td>2</td>\n",
       "    </tr>\n",
       "    <tr>\n",
       "      <th rowspan=\"3\" valign=\"top\">double_decker</th>\n",
       "      <th>smoked_beef</th>\n",
       "      <td>4</td>\n",
       "    </tr>\n",
       "    <tr>\n",
       "      <th>chicken</th>\n",
       "      <td>3</td>\n",
       "    </tr>\n",
       "    <tr>\n",
       "      <th>mushrooms</th>\n",
       "      <td>2</td>\n",
       "    </tr>\n",
       "    <tr>\n",
       "      <th rowspan=\"3\" valign=\"top\">double_mix</th>\n",
       "      <th>chicken</th>\n",
       "      <td>6</td>\n",
       "    </tr>\n",
       "    <tr>\n",
       "      <th>mushrooms</th>\n",
       "      <td>2</td>\n",
       "    </tr>\n",
       "    <tr>\n",
       "      <th>smoked_beef</th>\n",
       "      <td>2</td>\n",
       "    </tr>\n",
       "    <tr>\n",
       "      <th rowspan=\"5\" valign=\"top\">double_signature</th>\n",
       "      <th>chicken</th>\n",
       "      <td>1</td>\n",
       "    </tr>\n",
       "    <tr>\n",
       "      <th>mozzarella</th>\n",
       "      <td>1</td>\n",
       "    </tr>\n",
       "    <tr>\n",
       "      <th>mushrooms</th>\n",
       "      <td>1</td>\n",
       "    </tr>\n",
       "    <tr>\n",
       "      <th>papperoni</th>\n",
       "      <td>1</td>\n",
       "    </tr>\n",
       "    <tr>\n",
       "      <th>smoked_beef</th>\n",
       "      <td>1</td>\n",
       "    </tr>\n",
       "    <tr>\n",
       "      <th rowspan=\"3\" valign=\"top\">extravaganza</th>\n",
       "      <th>mozzarella</th>\n",
       "      <td>1</td>\n",
       "    </tr>\n",
       "    <tr>\n",
       "      <th>mushrooms</th>\n",
       "      <td>1</td>\n",
       "    </tr>\n",
       "    <tr>\n",
       "      <th>onion</th>\n",
       "      <td>1</td>\n",
       "    </tr>\n",
       "    <tr>\n",
       "      <th>gournet_greek</th>\n",
       "      <th>vegetables</th>\n",
       "      <td>3</td>\n",
       "    </tr>\n",
       "    <tr>\n",
       "      <th>italian_veggie</th>\n",
       "      <th>vegetables</th>\n",
       "      <td>3</td>\n",
       "    </tr>\n",
       "    <tr>\n",
       "      <th>meat_eater</th>\n",
       "      <th>meat</th>\n",
       "      <td>3</td>\n",
       "    </tr>\n",
       "    <tr>\n",
       "      <th rowspan=\"4\" valign=\"top\">meat_lovers</th>\n",
       "      <th>mozzarella</th>\n",
       "      <td>4</td>\n",
       "    </tr>\n",
       "    <tr>\n",
       "      <th>chicken</th>\n",
       "      <td>2</td>\n",
       "    </tr>\n",
       "    <tr>\n",
       "      <th>mushrooms</th>\n",
       "      <td>2</td>\n",
       "    </tr>\n",
       "    <tr>\n",
       "      <th>smoked_beef</th>\n",
       "      <td>2</td>\n",
       "    </tr>\n",
       "    <tr>\n",
       "      <th>neptune_tuna</th>\n",
       "      <th>tuna</th>\n",
       "      <td>3</td>\n",
       "    </tr>\n",
       "    <tr>\n",
       "      <th rowspan=\"3\" valign=\"top\">new_york</th>\n",
       "      <th>chicken</th>\n",
       "      <td>4</td>\n",
       "    </tr>\n",
       "    <tr>\n",
       "      <th>mozzarella</th>\n",
       "      <td>2</td>\n",
       "    </tr>\n",
       "    <tr>\n",
       "      <th>mushrooms</th>\n",
       "      <td>2</td>\n",
       "    </tr>\n",
       "    <tr>\n",
       "      <th>spicy_tuna</th>\n",
       "      <th>tuna</th>\n",
       "      <td>6</td>\n",
       "    </tr>\n",
       "    <tr>\n",
       "      <th rowspan=\"3\" valign=\"top\">super_supreme</th>\n",
       "      <th>black_papper</th>\n",
       "      <td>2</td>\n",
       "    </tr>\n",
       "    <tr>\n",
       "      <th>mozzarella</th>\n",
       "      <td>2</td>\n",
       "    </tr>\n",
       "    <tr>\n",
       "      <th>smoked_beef</th>\n",
       "      <td>1</td>\n",
       "    </tr>\n",
       "    <tr>\n",
       "      <th>thai_veggie</th>\n",
       "      <th>vegetables</th>\n",
       "      <td>3</td>\n",
       "    </tr>\n",
       "  </tbody>\n",
       "</table>\n",
       "</div>"
      ],
      "text/plain": [
       "                                topping\n",
       "variant           topping              \n",
       "BBQ_meat_fiesta   meat                5\n",
       "BBQ_sausage       sausage             3\n",
       "american_classic  beef                3\n",
       "american_favorite smoked_beef         2\n",
       "                  black_papper        1\n",
       "                  mushrooms           1\n",
       "                  papperoni           1\n",
       "classic           chicken            10\n",
       "                  mushrooms           8\n",
       "                  mozzarella          7\n",
       "                  smoked_beef         5\n",
       "crunchy           mozzarella          3\n",
       "                  mushrooms           3\n",
       "                  chicken             2\n",
       "                  smoked_beef         2\n",
       "double_decker     smoked_beef         4\n",
       "                  chicken             3\n",
       "                  mushrooms           2\n",
       "double_mix        chicken             6\n",
       "                  mushrooms           2\n",
       "                  smoked_beef         2\n",
       "double_signature  chicken             1\n",
       "                  mozzarella          1\n",
       "                  mushrooms           1\n",
       "                  papperoni           1\n",
       "                  smoked_beef         1\n",
       "extravaganza      mozzarella          1\n",
       "                  mushrooms           1\n",
       "                  onion               1\n",
       "gournet_greek     vegetables          3\n",
       "italian_veggie    vegetables          3\n",
       "meat_eater        meat                3\n",
       "meat_lovers       mozzarella          4\n",
       "                  chicken             2\n",
       "                  mushrooms           2\n",
       "                  smoked_beef         2\n",
       "neptune_tuna      tuna                3\n",
       "new_york          chicken             4\n",
       "                  mozzarella          2\n",
       "                  mushrooms           2\n",
       "spicy_tuna        tuna                6\n",
       "super_supreme     black_papper        2\n",
       "                  mozzarella          2\n",
       "                  smoked_beef         1\n",
       "thai_veggie       vegetables          3"
      ]
     },
     "execution_count": 99,
     "metadata": {},
     "output_type": "execute_result"
    }
   ],
   "source": [
    "pd.DataFrame(pp.groupby('variant')['topping'].value_counts())"
   ]
  },
  {
   "cell_type": "markdown",
   "id": "2dc4524b",
   "metadata": {},
   "source": [
    "## Label Encoding (part of data preprocessing)"
   ]
  },
  {
   "cell_type": "code",
   "execution_count": 100,
   "id": "aef1e05b",
   "metadata": {},
   "outputs": [],
   "source": [
    "from sklearn.preprocessing import LabelEncoder"
   ]
  },
  {
   "cell_type": "code",
   "execution_count": 101,
   "id": "1d7dd780",
   "metadata": {},
   "outputs": [],
   "source": [
    "le = LabelEncoder()"
   ]
  },
  {
   "cell_type": "code",
   "execution_count": 102,
   "id": "67db6169",
   "metadata": {},
   "outputs": [
    {
     "data": {
      "text/plain": [
       "Index(['company', 'topping', 'variant', 'size', 'extra_sauce', 'extra_cheese',\n",
       "       'extra_mushrooms'],\n",
       "      dtype='object')"
      ]
     },
     "execution_count": 102,
     "metadata": {},
     "output_type": "execute_result"
    }
   ],
   "source": [
    "cat_cols = pp.select_dtypes(include = ['object']).columns\n",
    "cat_cols"
   ]
  },
  {
   "cell_type": "code",
   "execution_count": 103,
   "id": "ef1a626c",
   "metadata": {},
   "outputs": [],
   "source": [
    "for col in cat_cols:\n",
    "    pp[col] = le.fit_transform(pp[col])"
   ]
  },
  {
   "cell_type": "code",
   "execution_count": 104,
   "id": "e9607a96",
   "metadata": {},
   "outputs": [
    {
     "data": {
      "text/html": [
       "<div>\n",
       "<style scoped>\n",
       "    .dataframe tbody tr th:only-of-type {\n",
       "        vertical-align: middle;\n",
       "    }\n",
       "\n",
       "    .dataframe tbody tr th {\n",
       "        vertical-align: top;\n",
       "    }\n",
       "\n",
       "    .dataframe thead th {\n",
       "        text-align: right;\n",
       "    }\n",
       "</style>\n",
       "<table border=\"1\" class=\"dataframe\">\n",
       "  <thead>\n",
       "    <tr style=\"text-align: right;\">\n",
       "      <th></th>\n",
       "      <th>company</th>\n",
       "      <th>price</th>\n",
       "      <th>diameter</th>\n",
       "      <th>topping</th>\n",
       "      <th>variant</th>\n",
       "      <th>size</th>\n",
       "      <th>extra_sauce</th>\n",
       "      <th>extra_cheese</th>\n",
       "      <th>extra_mushrooms</th>\n",
       "    </tr>\n",
       "  </thead>\n",
       "  <tbody>\n",
       "    <tr>\n",
       "      <th>0</th>\n",
       "      <td>0</td>\n",
       "      <td>2021.0</td>\n",
       "      <td>22.0</td>\n",
       "      <td>2</td>\n",
       "      <td>8</td>\n",
       "      <td>1</td>\n",
       "      <td>1</td>\n",
       "      <td>1</td>\n",
       "      <td>0</td>\n",
       "    </tr>\n",
       "    <tr>\n",
       "      <th>1</th>\n",
       "      <td>0</td>\n",
       "      <td>1702.8</td>\n",
       "      <td>20.0</td>\n",
       "      <td>7</td>\n",
       "      <td>8</td>\n",
       "      <td>1</td>\n",
       "      <td>1</td>\n",
       "      <td>1</td>\n",
       "      <td>0</td>\n",
       "    </tr>\n",
       "    <tr>\n",
       "      <th>2</th>\n",
       "      <td>0</td>\n",
       "      <td>1032.0</td>\n",
       "      <td>16.0</td>\n",
       "      <td>5</td>\n",
       "      <td>8</td>\n",
       "      <td>4</td>\n",
       "      <td>1</td>\n",
       "      <td>1</td>\n",
       "      <td>1</td>\n",
       "    </tr>\n",
       "    <tr>\n",
       "      <th>3</th>\n",
       "      <td>0</td>\n",
       "      <td>1333.0</td>\n",
       "      <td>14.0</td>\n",
       "      <td>9</td>\n",
       "      <td>8</td>\n",
       "      <td>4</td>\n",
       "      <td>1</td>\n",
       "      <td>0</td>\n",
       "      <td>1</td>\n",
       "    </tr>\n",
       "    <tr>\n",
       "      <th>4</th>\n",
       "      <td>0</td>\n",
       "      <td>2132.8</td>\n",
       "      <td>18.0</td>\n",
       "      <td>4</td>\n",
       "      <td>8</td>\n",
       "      <td>1</td>\n",
       "      <td>1</td>\n",
       "      <td>0</td>\n",
       "      <td>1</td>\n",
       "    </tr>\n",
       "  </tbody>\n",
       "</table>\n",
       "</div>"
      ],
      "text/plain": [
       "   company   price  diameter  topping  variant  size  extra_sauce  \\\n",
       "0        0  2021.0      22.0        2        8     1            1   \n",
       "1        0  1702.8      20.0        7        8     1            1   \n",
       "2        0  1032.0      16.0        5        8     4            1   \n",
       "3        0  1333.0      14.0        9        8     4            1   \n",
       "4        0  2132.8      18.0        4        8     1            1   \n",
       "\n",
       "   extra_cheese  extra_mushrooms  \n",
       "0             1                0  \n",
       "1             1                0  \n",
       "2             1                1  \n",
       "3             0                1  \n",
       "4             0                1  "
      ]
     },
     "execution_count": 104,
     "metadata": {},
     "output_type": "execute_result"
    }
   ],
   "source": [
    "pp.head()"
   ]
  },
  {
   "cell_type": "code",
   "execution_count": 105,
   "id": "2433f92e",
   "metadata": {},
   "outputs": [
    {
     "data": {
      "text/plain": [
       "dtype('int32')"
      ]
     },
     "execution_count": 105,
     "metadata": {},
     "output_type": "execute_result"
    }
   ],
   "source": [
    "pp['topping'].dtype"
   ]
  },
  {
   "cell_type": "markdown",
   "id": "a8f5f6cd",
   "metadata": {},
   "source": [
    "## Supervised Learning (Regression Problem)"
   ]
  },
  {
   "cell_type": "markdown",
   "id": "55e8aa9f",
   "metadata": {},
   "source": [
    "### Separating Independent and dependent/target variables."
   ]
  },
  {
   "cell_type": "code",
   "execution_count": 106,
   "id": "44f56c41",
   "metadata": {},
   "outputs": [],
   "source": [
    "X = pp.drop(columns = 'price')"
   ]
  },
  {
   "cell_type": "code",
   "execution_count": 107,
   "id": "c20a91a8",
   "metadata": {},
   "outputs": [
    {
     "data": {
      "text/html": [
       "<div>\n",
       "<style scoped>\n",
       "    .dataframe tbody tr th:only-of-type {\n",
       "        vertical-align: middle;\n",
       "    }\n",
       "\n",
       "    .dataframe tbody tr th {\n",
       "        vertical-align: top;\n",
       "    }\n",
       "\n",
       "    .dataframe thead th {\n",
       "        text-align: right;\n",
       "    }\n",
       "</style>\n",
       "<table border=\"1\" class=\"dataframe\">\n",
       "  <thead>\n",
       "    <tr style=\"text-align: right;\">\n",
       "      <th></th>\n",
       "      <th>company</th>\n",
       "      <th>diameter</th>\n",
       "      <th>topping</th>\n",
       "      <th>variant</th>\n",
       "      <th>size</th>\n",
       "      <th>extra_sauce</th>\n",
       "      <th>extra_cheese</th>\n",
       "      <th>extra_mushrooms</th>\n",
       "    </tr>\n",
       "  </thead>\n",
       "  <tbody>\n",
       "    <tr>\n",
       "      <th>0</th>\n",
       "      <td>0</td>\n",
       "      <td>22.0</td>\n",
       "      <td>2</td>\n",
       "      <td>8</td>\n",
       "      <td>1</td>\n",
       "      <td>1</td>\n",
       "      <td>1</td>\n",
       "      <td>0</td>\n",
       "    </tr>\n",
       "    <tr>\n",
       "      <th>1</th>\n",
       "      <td>0</td>\n",
       "      <td>20.0</td>\n",
       "      <td>7</td>\n",
       "      <td>8</td>\n",
       "      <td>1</td>\n",
       "      <td>1</td>\n",
       "      <td>1</td>\n",
       "      <td>0</td>\n",
       "    </tr>\n",
       "    <tr>\n",
       "      <th>2</th>\n",
       "      <td>0</td>\n",
       "      <td>16.0</td>\n",
       "      <td>5</td>\n",
       "      <td>8</td>\n",
       "      <td>4</td>\n",
       "      <td>1</td>\n",
       "      <td>1</td>\n",
       "      <td>1</td>\n",
       "    </tr>\n",
       "    <tr>\n",
       "      <th>3</th>\n",
       "      <td>0</td>\n",
       "      <td>14.0</td>\n",
       "      <td>9</td>\n",
       "      <td>8</td>\n",
       "      <td>4</td>\n",
       "      <td>1</td>\n",
       "      <td>0</td>\n",
       "      <td>1</td>\n",
       "    </tr>\n",
       "    <tr>\n",
       "      <th>4</th>\n",
       "      <td>0</td>\n",
       "      <td>18.0</td>\n",
       "      <td>4</td>\n",
       "      <td>8</td>\n",
       "      <td>1</td>\n",
       "      <td>1</td>\n",
       "      <td>0</td>\n",
       "      <td>1</td>\n",
       "    </tr>\n",
       "    <tr>\n",
       "      <th>...</th>\n",
       "      <td>...</td>\n",
       "      <td>...</td>\n",
       "      <td>...</td>\n",
       "      <td>...</td>\n",
       "      <td>...</td>\n",
       "      <td>...</td>\n",
       "      <td>...</td>\n",
       "      <td>...</td>\n",
       "    </tr>\n",
       "    <tr>\n",
       "      <th>124</th>\n",
       "      <td>4</td>\n",
       "      <td>8.5</td>\n",
       "      <td>10</td>\n",
       "      <td>16</td>\n",
       "      <td>5</td>\n",
       "      <td>1</td>\n",
       "      <td>1</td>\n",
       "      <td>1</td>\n",
       "    </tr>\n",
       "    <tr>\n",
       "      <th>125</th>\n",
       "      <td>4</td>\n",
       "      <td>12.0</td>\n",
       "      <td>10</td>\n",
       "      <td>16</td>\n",
       "      <td>3</td>\n",
       "      <td>1</td>\n",
       "      <td>1</td>\n",
       "      <td>1</td>\n",
       "    </tr>\n",
       "    <tr>\n",
       "      <th>126</th>\n",
       "      <td>4</td>\n",
       "      <td>14.0</td>\n",
       "      <td>10</td>\n",
       "      <td>16</td>\n",
       "      <td>2</td>\n",
       "      <td>1</td>\n",
       "      <td>1</td>\n",
       "      <td>1</td>\n",
       "    </tr>\n",
       "    <tr>\n",
       "      <th>127</th>\n",
       "      <td>4</td>\n",
       "      <td>8.5</td>\n",
       "      <td>3</td>\n",
       "      <td>0</td>\n",
       "      <td>5</td>\n",
       "      <td>1</td>\n",
       "      <td>0</td>\n",
       "      <td>1</td>\n",
       "    </tr>\n",
       "    <tr>\n",
       "      <th>128</th>\n",
       "      <td>4</td>\n",
       "      <td>12.0</td>\n",
       "      <td>3</td>\n",
       "      <td>0</td>\n",
       "      <td>3</td>\n",
       "      <td>0</td>\n",
       "      <td>0</td>\n",
       "      <td>1</td>\n",
       "    </tr>\n",
       "  </tbody>\n",
       "</table>\n",
       "<p>127 rows × 8 columns</p>\n",
       "</div>"
      ],
      "text/plain": [
       "     company  diameter  topping  variant  size  extra_sauce  extra_cheese  \\\n",
       "0          0      22.0        2        8     1            1             1   \n",
       "1          0      20.0        7        8     1            1             1   \n",
       "2          0      16.0        5        8     4            1             1   \n",
       "3          0      14.0        9        8     4            1             0   \n",
       "4          0      18.0        4        8     1            1             0   \n",
       "..       ...       ...      ...      ...   ...          ...           ...   \n",
       "124        4       8.5       10       16     5            1             1   \n",
       "125        4      12.0       10       16     3            1             1   \n",
       "126        4      14.0       10       16     2            1             1   \n",
       "127        4       8.5        3        0     5            1             0   \n",
       "128        4      12.0        3        0     3            0             0   \n",
       "\n",
       "     extra_mushrooms  \n",
       "0                  0  \n",
       "1                  0  \n",
       "2                  1  \n",
       "3                  1  \n",
       "4                  1  \n",
       "..               ...  \n",
       "124                1  \n",
       "125                1  \n",
       "126                1  \n",
       "127                1  \n",
       "128                1  \n",
       "\n",
       "[127 rows x 8 columns]"
      ]
     },
     "execution_count": 107,
     "metadata": {},
     "output_type": "execute_result"
    }
   ],
   "source": [
    "X"
   ]
  },
  {
   "cell_type": "code",
   "execution_count": 108,
   "id": "edd4b295",
   "metadata": {},
   "outputs": [],
   "source": [
    "y = pp['price']"
   ]
  },
  {
   "cell_type": "code",
   "execution_count": 109,
   "id": "a4804124",
   "metadata": {},
   "outputs": [
    {
     "data": {
      "text/plain": [
       "0      2021.0\n",
       "1      1702.8\n",
       "2      1032.0\n",
       "3      1333.0\n",
       "4      2132.8\n",
       "        ...  \n",
       "124     335.4\n",
       "125     619.2\n",
       "126     851.4\n",
       "127     378.4\n",
       "128     670.8\n",
       "Name: price, Length: 127, dtype: float64"
      ]
     },
     "execution_count": 109,
     "metadata": {},
     "output_type": "execute_result"
    }
   ],
   "source": [
    "y"
   ]
  },
  {
   "cell_type": "markdown",
   "id": "2f36acb7",
   "metadata": {},
   "source": [
    "### Train_Test_Split"
   ]
  },
  {
   "cell_type": "code",
   "execution_count": 110,
   "id": "580bbcf9",
   "metadata": {},
   "outputs": [],
   "source": [
    "from sklearn.model_selection import train_test_split"
   ]
  },
  {
   "cell_type": "code",
   "execution_count": 111,
   "id": "edd53680",
   "metadata": {},
   "outputs": [],
   "source": [
    "X_train, X_test, y_train, y_test = train_test_split(X, y, test_size = 0.3, random_state = 42)"
   ]
  },
  {
   "cell_type": "code",
   "execution_count": 112,
   "id": "b687d4a9",
   "metadata": {},
   "outputs": [
    {
     "data": {
      "text/html": [
       "<div>\n",
       "<style scoped>\n",
       "    .dataframe tbody tr th:only-of-type {\n",
       "        vertical-align: middle;\n",
       "    }\n",
       "\n",
       "    .dataframe tbody tr th {\n",
       "        vertical-align: top;\n",
       "    }\n",
       "\n",
       "    .dataframe thead th {\n",
       "        text-align: right;\n",
       "    }\n",
       "</style>\n",
       "<table border=\"1\" class=\"dataframe\">\n",
       "  <thead>\n",
       "    <tr style=\"text-align: right;\">\n",
       "      <th></th>\n",
       "      <th>company</th>\n",
       "      <th>diameter</th>\n",
       "      <th>topping</th>\n",
       "      <th>variant</th>\n",
       "      <th>size</th>\n",
       "      <th>extra_sauce</th>\n",
       "      <th>extra_cheese</th>\n",
       "      <th>extra_mushrooms</th>\n",
       "    </tr>\n",
       "  </thead>\n",
       "  <tbody>\n",
       "    <tr>\n",
       "      <th>47</th>\n",
       "      <td>1</td>\n",
       "      <td>17.0</td>\n",
       "      <td>2</td>\n",
       "      <td>15</td>\n",
       "      <td>0</td>\n",
       "      <td>0</td>\n",
       "      <td>1</td>\n",
       "      <td>0</td>\n",
       "    </tr>\n",
       "    <tr>\n",
       "      <th>64</th>\n",
       "      <td>2</td>\n",
       "      <td>8.5</td>\n",
       "      <td>11</td>\n",
       "      <td>10</td>\n",
       "      <td>5</td>\n",
       "      <td>0</td>\n",
       "      <td>0</td>\n",
       "      <td>0</td>\n",
       "    </tr>\n",
       "    <tr>\n",
       "      <th>105</th>\n",
       "      <td>4</td>\n",
       "      <td>12.0</td>\n",
       "      <td>2</td>\n",
       "      <td>6</td>\n",
       "      <td>3</td>\n",
       "      <td>0</td>\n",
       "      <td>1</td>\n",
       "      <td>0</td>\n",
       "    </tr>\n",
       "    <tr>\n",
       "      <th>30</th>\n",
       "      <td>1</td>\n",
       "      <td>12.0</td>\n",
       "      <td>2</td>\n",
       "      <td>6</td>\n",
       "      <td>3</td>\n",
       "      <td>0</td>\n",
       "      <td>1</td>\n",
       "      <td>1</td>\n",
       "    </tr>\n",
       "    <tr>\n",
       "      <th>83</th>\n",
       "      <td>3</td>\n",
       "      <td>12.0</td>\n",
       "      <td>4</td>\n",
       "      <td>13</td>\n",
       "      <td>4</td>\n",
       "      <td>1</td>\n",
       "      <td>1</td>\n",
       "      <td>0</td>\n",
       "    </tr>\n",
       "    <tr>\n",
       "      <th>...</th>\n",
       "      <td>...</td>\n",
       "      <td>...</td>\n",
       "      <td>...</td>\n",
       "      <td>...</td>\n",
       "      <td>...</td>\n",
       "      <td>...</td>\n",
       "      <td>...</td>\n",
       "      <td>...</td>\n",
       "    </tr>\n",
       "    <tr>\n",
       "      <th>106</th>\n",
       "      <td>4</td>\n",
       "      <td>8.5</td>\n",
       "      <td>5</td>\n",
       "      <td>4</td>\n",
       "      <td>5</td>\n",
       "      <td>1</td>\n",
       "      <td>1</td>\n",
       "      <td>0</td>\n",
       "    </tr>\n",
       "    <tr>\n",
       "      <th>14</th>\n",
       "      <td>0</td>\n",
       "      <td>12.0</td>\n",
       "      <td>4</td>\n",
       "      <td>17</td>\n",
       "      <td>4</td>\n",
       "      <td>0</td>\n",
       "      <td>1</td>\n",
       "      <td>0</td>\n",
       "    </tr>\n",
       "    <tr>\n",
       "      <th>92</th>\n",
       "      <td>3</td>\n",
       "      <td>12.0</td>\n",
       "      <td>4</td>\n",
       "      <td>5</td>\n",
       "      <td>3</td>\n",
       "      <td>0</td>\n",
       "      <td>0</td>\n",
       "      <td>1</td>\n",
       "    </tr>\n",
       "    <tr>\n",
       "      <th>51</th>\n",
       "      <td>2</td>\n",
       "      <td>14.0</td>\n",
       "      <td>10</td>\n",
       "      <td>16</td>\n",
       "      <td>2</td>\n",
       "      <td>1</td>\n",
       "      <td>1</td>\n",
       "      <td>1</td>\n",
       "    </tr>\n",
       "    <tr>\n",
       "      <th>102</th>\n",
       "      <td>4</td>\n",
       "      <td>14.0</td>\n",
       "      <td>9</td>\n",
       "      <td>4</td>\n",
       "      <td>2</td>\n",
       "      <td>1</td>\n",
       "      <td>0</td>\n",
       "      <td>0</td>\n",
       "    </tr>\n",
       "  </tbody>\n",
       "</table>\n",
       "<p>88 rows × 8 columns</p>\n",
       "</div>"
      ],
      "text/plain": [
       "     company  diameter  topping  variant  size  extra_sauce  extra_cheese  \\\n",
       "47         1      17.0        2       15     0            0             1   \n",
       "64         2       8.5       11       10     5            0             0   \n",
       "105        4      12.0        2        6     3            0             1   \n",
       "30         1      12.0        2        6     3            0             1   \n",
       "83         3      12.0        4       13     4            1             1   \n",
       "..       ...       ...      ...      ...   ...          ...           ...   \n",
       "106        4       8.5        5        4     5            1             1   \n",
       "14         0      12.0        4       17     4            0             1   \n",
       "92         3      12.0        4        5     3            0             0   \n",
       "51         2      14.0       10       16     2            1             1   \n",
       "102        4      14.0        9        4     2            1             0   \n",
       "\n",
       "     extra_mushrooms  \n",
       "47                 0  \n",
       "64                 0  \n",
       "105                0  \n",
       "30                 1  \n",
       "83                 0  \n",
       "..               ...  \n",
       "106                0  \n",
       "14                 0  \n",
       "92                 1  \n",
       "51                 1  \n",
       "102                0  \n",
       "\n",
       "[88 rows x 8 columns]"
      ]
     },
     "execution_count": 112,
     "metadata": {},
     "output_type": "execute_result"
    }
   ],
   "source": [
    "X_train"
   ]
  },
  {
   "cell_type": "code",
   "execution_count": 113,
   "id": "3b979870",
   "metadata": {},
   "outputs": [
    {
     "data": {
      "text/html": [
       "<div>\n",
       "<style scoped>\n",
       "    .dataframe tbody tr th:only-of-type {\n",
       "        vertical-align: middle;\n",
       "    }\n",
       "\n",
       "    .dataframe tbody tr th {\n",
       "        vertical-align: top;\n",
       "    }\n",
       "\n",
       "    .dataframe thead th {\n",
       "        text-align: right;\n",
       "    }\n",
       "</style>\n",
       "<table border=\"1\" class=\"dataframe\">\n",
       "  <thead>\n",
       "    <tr style=\"text-align: right;\">\n",
       "      <th></th>\n",
       "      <th>company</th>\n",
       "      <th>diameter</th>\n",
       "      <th>topping</th>\n",
       "      <th>variant</th>\n",
       "      <th>size</th>\n",
       "      <th>extra_sauce</th>\n",
       "      <th>extra_cheese</th>\n",
       "      <th>extra_mushrooms</th>\n",
       "    </tr>\n",
       "  </thead>\n",
       "  <tbody>\n",
       "    <tr>\n",
       "      <th>26</th>\n",
       "      <td>1</td>\n",
       "      <td>12.0</td>\n",
       "      <td>2</td>\n",
       "      <td>4</td>\n",
       "      <td>3</td>\n",
       "      <td>1</td>\n",
       "      <td>0</td>\n",
       "      <td>0</td>\n",
       "    </tr>\n",
       "    <tr>\n",
       "      <th>112</th>\n",
       "      <td>4</td>\n",
       "      <td>8.5</td>\n",
       "      <td>2</td>\n",
       "      <td>4</td>\n",
       "      <td>5</td>\n",
       "      <td>0</td>\n",
       "      <td>1</td>\n",
       "      <td>1</td>\n",
       "    </tr>\n",
       "    <tr>\n",
       "      <th>81</th>\n",
       "      <td>3</td>\n",
       "      <td>8.0</td>\n",
       "      <td>2</td>\n",
       "      <td>13</td>\n",
       "      <td>4</td>\n",
       "      <td>1</td>\n",
       "      <td>1</td>\n",
       "      <td>0</td>\n",
       "    </tr>\n",
       "    <tr>\n",
       "      <th>55</th>\n",
       "      <td>2</td>\n",
       "      <td>8.5</td>\n",
       "      <td>8</td>\n",
       "      <td>1</td>\n",
       "      <td>5</td>\n",
       "      <td>0</td>\n",
       "      <td>1</td>\n",
       "      <td>1</td>\n",
       "    </tr>\n",
       "    <tr>\n",
       "      <th>44</th>\n",
       "      <td>1</td>\n",
       "      <td>12.0</td>\n",
       "      <td>5</td>\n",
       "      <td>4</td>\n",
       "      <td>3</td>\n",
       "      <td>1</td>\n",
       "      <td>1</td>\n",
       "      <td>0</td>\n",
       "    </tr>\n",
       "    <tr>\n",
       "      <th>96</th>\n",
       "      <td>3</td>\n",
       "      <td>12.0</td>\n",
       "      <td>2</td>\n",
       "      <td>4</td>\n",
       "      <td>3</td>\n",
       "      <td>0</td>\n",
       "      <td>1</td>\n",
       "      <td>0</td>\n",
       "    </tr>\n",
       "    <tr>\n",
       "      <th>80</th>\n",
       "      <td>3</td>\n",
       "      <td>16.0</td>\n",
       "      <td>9</td>\n",
       "      <td>13</td>\n",
       "      <td>1</td>\n",
       "      <td>0</td>\n",
       "      <td>1</td>\n",
       "      <td>0</td>\n",
       "    </tr>\n",
       "    <tr>\n",
       "      <th>127</th>\n",
       "      <td>4</td>\n",
       "      <td>8.5</td>\n",
       "      <td>3</td>\n",
       "      <td>0</td>\n",
       "      <td>5</td>\n",
       "      <td>1</td>\n",
       "      <td>0</td>\n",
       "      <td>1</td>\n",
       "    </tr>\n",
       "    <tr>\n",
       "      <th>115</th>\n",
       "      <td>4</td>\n",
       "      <td>12.0</td>\n",
       "      <td>2</td>\n",
       "      <td>5</td>\n",
       "      <td>3</td>\n",
       "      <td>0</td>\n",
       "      <td>0</td>\n",
       "      <td>1</td>\n",
       "    </tr>\n",
       "    <tr>\n",
       "      <th>62</th>\n",
       "      <td>2</td>\n",
       "      <td>12.0</td>\n",
       "      <td>3</td>\n",
       "      <td>12</td>\n",
       "      <td>3</td>\n",
       "      <td>1</td>\n",
       "      <td>1</td>\n",
       "      <td>1</td>\n",
       "    </tr>\n",
       "    <tr>\n",
       "      <th>45</th>\n",
       "      <td>1</td>\n",
       "      <td>14.0</td>\n",
       "      <td>4</td>\n",
       "      <td>4</td>\n",
       "      <td>2</td>\n",
       "      <td>1</td>\n",
       "      <td>1</td>\n",
       "      <td>0</td>\n",
       "    </tr>\n",
       "    <tr>\n",
       "      <th>4</th>\n",
       "      <td>0</td>\n",
       "      <td>18.0</td>\n",
       "      <td>4</td>\n",
       "      <td>8</td>\n",
       "      <td>1</td>\n",
       "      <td>1</td>\n",
       "      <td>0</td>\n",
       "      <td>1</td>\n",
       "    </tr>\n",
       "    <tr>\n",
       "      <th>18</th>\n",
       "      <td>0</td>\n",
       "      <td>12.0</td>\n",
       "      <td>5</td>\n",
       "      <td>13</td>\n",
       "      <td>4</td>\n",
       "      <td>1</td>\n",
       "      <td>1</td>\n",
       "      <td>1</td>\n",
       "    </tr>\n",
       "    <tr>\n",
       "      <th>95</th>\n",
       "      <td>3</td>\n",
       "      <td>8.5</td>\n",
       "      <td>5</td>\n",
       "      <td>4</td>\n",
       "      <td>5</td>\n",
       "      <td>1</td>\n",
       "      <td>1</td>\n",
       "      <td>0</td>\n",
       "    </tr>\n",
       "    <tr>\n",
       "      <th>36</th>\n",
       "      <td>1</td>\n",
       "      <td>12.0</td>\n",
       "      <td>9</td>\n",
       "      <td>6</td>\n",
       "      <td>3</td>\n",
       "      <td>1</td>\n",
       "      <td>1</td>\n",
       "      <td>1</td>\n",
       "    </tr>\n",
       "    <tr>\n",
       "      <th>94</th>\n",
       "      <td>3</td>\n",
       "      <td>12.0</td>\n",
       "      <td>2</td>\n",
       "      <td>6</td>\n",
       "      <td>3</td>\n",
       "      <td>0</td>\n",
       "      <td>1</td>\n",
       "      <td>0</td>\n",
       "    </tr>\n",
       "    <tr>\n",
       "      <th>19</th>\n",
       "      <td>0</td>\n",
       "      <td>12.0</td>\n",
       "      <td>4</td>\n",
       "      <td>13</td>\n",
       "      <td>4</td>\n",
       "      <td>1</td>\n",
       "      <td>1</td>\n",
       "      <td>1</td>\n",
       "    </tr>\n",
       "    <tr>\n",
       "      <th>121</th>\n",
       "      <td>4</td>\n",
       "      <td>12.0</td>\n",
       "      <td>9</td>\n",
       "      <td>5</td>\n",
       "      <td>3</td>\n",
       "      <td>0</td>\n",
       "      <td>1</td>\n",
       "      <td>0</td>\n",
       "    </tr>\n",
       "    <tr>\n",
       "      <th>10</th>\n",
       "      <td>0</td>\n",
       "      <td>18.5</td>\n",
       "      <td>4</td>\n",
       "      <td>17</td>\n",
       "      <td>1</td>\n",
       "      <td>0</td>\n",
       "      <td>0</td>\n",
       "      <td>0</td>\n",
       "    </tr>\n",
       "    <tr>\n",
       "      <th>40</th>\n",
       "      <td>1</td>\n",
       "      <td>12.0</td>\n",
       "      <td>2</td>\n",
       "      <td>5</td>\n",
       "      <td>3</td>\n",
       "      <td>0</td>\n",
       "      <td>0</td>\n",
       "      <td>0</td>\n",
       "    </tr>\n",
       "    <tr>\n",
       "      <th>11</th>\n",
       "      <td>0</td>\n",
       "      <td>16.0</td>\n",
       "      <td>1</td>\n",
       "      <td>17</td>\n",
       "      <td>1</td>\n",
       "      <td>1</td>\n",
       "      <td>1</td>\n",
       "      <td>0</td>\n",
       "    </tr>\n",
       "    <tr>\n",
       "      <th>98</th>\n",
       "      <td>3</td>\n",
       "      <td>12.0</td>\n",
       "      <td>5</td>\n",
       "      <td>5</td>\n",
       "      <td>3</td>\n",
       "      <td>0</td>\n",
       "      <td>1</td>\n",
       "      <td>1</td>\n",
       "    </tr>\n",
       "    <tr>\n",
       "      <th>104</th>\n",
       "      <td>4</td>\n",
       "      <td>17.0</td>\n",
       "      <td>2</td>\n",
       "      <td>15</td>\n",
       "      <td>0</td>\n",
       "      <td>0</td>\n",
       "      <td>1</td>\n",
       "      <td>0</td>\n",
       "    </tr>\n",
       "    <tr>\n",
       "      <th>77</th>\n",
       "      <td>2</td>\n",
       "      <td>12.0</td>\n",
       "      <td>10</td>\n",
       "      <td>14</td>\n",
       "      <td>3</td>\n",
       "      <td>1</td>\n",
       "      <td>1</td>\n",
       "      <td>0</td>\n",
       "    </tr>\n",
       "    <tr>\n",
       "      <th>0</th>\n",
       "      <td>0</td>\n",
       "      <td>22.0</td>\n",
       "      <td>2</td>\n",
       "      <td>8</td>\n",
       "      <td>1</td>\n",
       "      <td>1</td>\n",
       "      <td>1</td>\n",
       "      <td>0</td>\n",
       "    </tr>\n",
       "    <tr>\n",
       "      <th>78</th>\n",
       "      <td>2</td>\n",
       "      <td>14.0</td>\n",
       "      <td>10</td>\n",
       "      <td>14</td>\n",
       "      <td>2</td>\n",
       "      <td>1</td>\n",
       "      <td>1</td>\n",
       "      <td>0</td>\n",
       "    </tr>\n",
       "    <tr>\n",
       "      <th>68</th>\n",
       "      <td>2</td>\n",
       "      <td>12.0</td>\n",
       "      <td>11</td>\n",
       "      <td>11</td>\n",
       "      <td>3</td>\n",
       "      <td>0</td>\n",
       "      <td>1</td>\n",
       "      <td>0</td>\n",
       "    </tr>\n",
       "    <tr>\n",
       "      <th>69</th>\n",
       "      <td>2</td>\n",
       "      <td>14.0</td>\n",
       "      <td>11</td>\n",
       "      <td>11</td>\n",
       "      <td>2</td>\n",
       "      <td>1</td>\n",
       "      <td>1</td>\n",
       "      <td>0</td>\n",
       "    </tr>\n",
       "    <tr>\n",
       "      <th>12</th>\n",
       "      <td>0</td>\n",
       "      <td>8.0</td>\n",
       "      <td>9</td>\n",
       "      <td>17</td>\n",
       "      <td>4</td>\n",
       "      <td>1</td>\n",
       "      <td>1</td>\n",
       "      <td>0</td>\n",
       "    </tr>\n",
       "    <tr>\n",
       "      <th>42</th>\n",
       "      <td>1</td>\n",
       "      <td>12.0</td>\n",
       "      <td>9</td>\n",
       "      <td>6</td>\n",
       "      <td>3</td>\n",
       "      <td>1</td>\n",
       "      <td>0</td>\n",
       "      <td>0</td>\n",
       "    </tr>\n",
       "    <tr>\n",
       "      <th>31</th>\n",
       "      <td>1</td>\n",
       "      <td>8.5</td>\n",
       "      <td>5</td>\n",
       "      <td>4</td>\n",
       "      <td>5</td>\n",
       "      <td>1</td>\n",
       "      <td>1</td>\n",
       "      <td>1</td>\n",
       "    </tr>\n",
       "    <tr>\n",
       "      <th>27</th>\n",
       "      <td>1</td>\n",
       "      <td>14.0</td>\n",
       "      <td>9</td>\n",
       "      <td>4</td>\n",
       "      <td>2</td>\n",
       "      <td>1</td>\n",
       "      <td>0</td>\n",
       "      <td>1</td>\n",
       "    </tr>\n",
       "    <tr>\n",
       "      <th>24</th>\n",
       "      <td>0</td>\n",
       "      <td>16.5</td>\n",
       "      <td>2</td>\n",
       "      <td>7</td>\n",
       "      <td>4</td>\n",
       "      <td>1</td>\n",
       "      <td>0</td>\n",
       "      <td>0</td>\n",
       "    </tr>\n",
       "    <tr>\n",
       "      <th>93</th>\n",
       "      <td>3</td>\n",
       "      <td>17.0</td>\n",
       "      <td>2</td>\n",
       "      <td>15</td>\n",
       "      <td>0</td>\n",
       "      <td>0</td>\n",
       "      <td>1</td>\n",
       "      <td>1</td>\n",
       "    </tr>\n",
       "    <tr>\n",
       "      <th>111</th>\n",
       "      <td>4</td>\n",
       "      <td>12.0</td>\n",
       "      <td>9</td>\n",
       "      <td>6</td>\n",
       "      <td>3</td>\n",
       "      <td>1</td>\n",
       "      <td>1</td>\n",
       "      <td>1</td>\n",
       "    </tr>\n",
       "    <tr>\n",
       "      <th>91</th>\n",
       "      <td>3</td>\n",
       "      <td>14.0</td>\n",
       "      <td>9</td>\n",
       "      <td>4</td>\n",
       "      <td>2</td>\n",
       "      <td>1</td>\n",
       "      <td>0</td>\n",
       "      <td>1</td>\n",
       "    </tr>\n",
       "    <tr>\n",
       "      <th>15</th>\n",
       "      <td>0</td>\n",
       "      <td>18.5</td>\n",
       "      <td>4</td>\n",
       "      <td>13</td>\n",
       "      <td>1</td>\n",
       "      <td>0</td>\n",
       "      <td>1</td>\n",
       "      <td>1</td>\n",
       "    </tr>\n",
       "    <tr>\n",
       "      <th>76</th>\n",
       "      <td>2</td>\n",
       "      <td>8.5</td>\n",
       "      <td>10</td>\n",
       "      <td>14</td>\n",
       "      <td>5</td>\n",
       "      <td>1</td>\n",
       "      <td>0</td>\n",
       "      <td>1</td>\n",
       "    </tr>\n",
       "    <tr>\n",
       "      <th>22</th>\n",
       "      <td>0</td>\n",
       "      <td>14.0</td>\n",
       "      <td>2</td>\n",
       "      <td>7</td>\n",
       "      <td>4</td>\n",
       "      <td>1</td>\n",
       "      <td>1</td>\n",
       "      <td>1</td>\n",
       "    </tr>\n",
       "  </tbody>\n",
       "</table>\n",
       "</div>"
      ],
      "text/plain": [
       "     company  diameter  topping  variant  size  extra_sauce  extra_cheese  \\\n",
       "26         1      12.0        2        4     3            1             0   \n",
       "112        4       8.5        2        4     5            0             1   \n",
       "81         3       8.0        2       13     4            1             1   \n",
       "55         2       8.5        8        1     5            0             1   \n",
       "44         1      12.0        5        4     3            1             1   \n",
       "96         3      12.0        2        4     3            0             1   \n",
       "80         3      16.0        9       13     1            0             1   \n",
       "127        4       8.5        3        0     5            1             0   \n",
       "115        4      12.0        2        5     3            0             0   \n",
       "62         2      12.0        3       12     3            1             1   \n",
       "45         1      14.0        4        4     2            1             1   \n",
       "4          0      18.0        4        8     1            1             0   \n",
       "18         0      12.0        5       13     4            1             1   \n",
       "95         3       8.5        5        4     5            1             1   \n",
       "36         1      12.0        9        6     3            1             1   \n",
       "94         3      12.0        2        6     3            0             1   \n",
       "19         0      12.0        4       13     4            1             1   \n",
       "121        4      12.0        9        5     3            0             1   \n",
       "10         0      18.5        4       17     1            0             0   \n",
       "40         1      12.0        2        5     3            0             0   \n",
       "11         0      16.0        1       17     1            1             1   \n",
       "98         3      12.0        5        5     3            0             1   \n",
       "104        4      17.0        2       15     0            0             1   \n",
       "77         2      12.0       10       14     3            1             1   \n",
       "0          0      22.0        2        8     1            1             1   \n",
       "78         2      14.0       10       14     2            1             1   \n",
       "68         2      12.0       11       11     3            0             1   \n",
       "69         2      14.0       11       11     2            1             1   \n",
       "12         0       8.0        9       17     4            1             1   \n",
       "42         1      12.0        9        6     3            1             0   \n",
       "31         1       8.5        5        4     5            1             1   \n",
       "27         1      14.0        9        4     2            1             0   \n",
       "24         0      16.5        2        7     4            1             0   \n",
       "93         3      17.0        2       15     0            0             1   \n",
       "111        4      12.0        9        6     3            1             1   \n",
       "91         3      14.0        9        4     2            1             0   \n",
       "15         0      18.5        4       13     1            0             1   \n",
       "76         2       8.5       10       14     5            1             0   \n",
       "22         0      14.0        2        7     4            1             1   \n",
       "\n",
       "     extra_mushrooms  \n",
       "26                 0  \n",
       "112                1  \n",
       "81                 0  \n",
       "55                 1  \n",
       "44                 0  \n",
       "96                 0  \n",
       "80                 0  \n",
       "127                1  \n",
       "115                1  \n",
       "62                 1  \n",
       "45                 0  \n",
       "4                  1  \n",
       "18                 1  \n",
       "95                 0  \n",
       "36                 1  \n",
       "94                 0  \n",
       "19                 1  \n",
       "121                0  \n",
       "10                 0  \n",
       "40                 0  \n",
       "11                 0  \n",
       "98                 1  \n",
       "104                0  \n",
       "77                 0  \n",
       "0                  0  \n",
       "78                 0  \n",
       "68                 0  \n",
       "69                 0  \n",
       "12                 0  \n",
       "42                 0  \n",
       "31                 1  \n",
       "27                 1  \n",
       "24                 0  \n",
       "93                 1  \n",
       "111                1  \n",
       "91                 1  \n",
       "15                 1  \n",
       "76                 1  \n",
       "22                 1  "
      ]
     },
     "execution_count": 113,
     "metadata": {},
     "output_type": "execute_result"
    }
   ],
   "source": [
    "X_test"
   ]
  },
  {
   "cell_type": "code",
   "execution_count": 114,
   "id": "3f8c52de",
   "metadata": {},
   "outputs": [
    {
     "data": {
      "text/plain": [
       "47     713.8\n",
       "64     378.4\n",
       "105    825.6\n",
       "30     825.6\n",
       "83     774.0\n",
       "       ...  \n",
       "106    266.6\n",
       "14     774.0\n",
       "92     421.4\n",
       "51     851.4\n",
       "102    619.2\n",
       "Name: price, Length: 88, dtype: float64"
      ]
     },
     "execution_count": 114,
     "metadata": {},
     "output_type": "execute_result"
    }
   ],
   "source": [
    "y_train"
   ]
  },
  {
   "cell_type": "code",
   "execution_count": 115,
   "id": "6363d52a",
   "metadata": {},
   "outputs": [
    {
     "data": {
      "text/plain": [
       "26      395.6\n",
       "112     283.8\n",
       "81      602.0\n",
       "55      335.4\n",
       "44      395.6\n",
       "96      593.4\n",
       "80      946.0\n",
       "127     378.4\n",
       "115     653.6\n",
       "62      516.0\n",
       "45      619.2\n",
       "4      2132.8\n",
       "18      774.0\n",
       "95      266.6\n",
       "36     1057.8\n",
       "94      825.6\n",
       "19      774.0\n",
       "121     421.4\n",
       "10     1204.0\n",
       "40      653.6\n",
       "11      946.0\n",
       "98      645.0\n",
       "104     713.8\n",
       "77      464.4\n",
       "0      2021.0\n",
       "78      791.2\n",
       "68      438.6\n",
       "69      722.4\n",
       "12      602.0\n",
       "42     1087.9\n",
       "31      266.6\n",
       "27      619.2\n",
       "24     1281.4\n",
       "93      713.8\n",
       "111    1057.8\n",
       "91      619.2\n",
       "15     1204.0\n",
       "76      275.2\n",
       "22      980.4\n",
       "Name: price, dtype: float64"
      ]
     },
     "execution_count": 115,
     "metadata": {},
     "output_type": "execute_result"
    }
   ],
   "source": [
    "y_test"
   ]
  },
  {
   "cell_type": "markdown",
   "id": "b6a502b6",
   "metadata": {},
   "source": [
    "### Model Training"
   ]
  },
  {
   "cell_type": "code",
   "execution_count": 116,
   "id": "1929fc0f",
   "metadata": {},
   "outputs": [],
   "source": [
    "from sklearn.linear_model import LinearRegression\n",
    "from sklearn.svm import SVR\n",
    "from sklearn.ensemble import RandomForestRegressor\n",
    "from sklearn.ensemble import GradientBoostingRegressor"
   ]
  },
  {
   "cell_type": "code",
   "execution_count": 117,
   "id": "e7fae1aa",
   "metadata": {},
   "outputs": [
    {
     "data": {
      "text/html": [
       "<style>#sk-container-id-1 {color: black;background-color: white;}#sk-container-id-1 pre{padding: 0;}#sk-container-id-1 div.sk-toggleable {background-color: white;}#sk-container-id-1 label.sk-toggleable__label {cursor: pointer;display: block;width: 100%;margin-bottom: 0;padding: 0.3em;box-sizing: border-box;text-align: center;}#sk-container-id-1 label.sk-toggleable__label-arrow:before {content: \"▸\";float: left;margin-right: 0.25em;color: #696969;}#sk-container-id-1 label.sk-toggleable__label-arrow:hover:before {color: black;}#sk-container-id-1 div.sk-estimator:hover label.sk-toggleable__label-arrow:before {color: black;}#sk-container-id-1 div.sk-toggleable__content {max-height: 0;max-width: 0;overflow: hidden;text-align: left;background-color: #f0f8ff;}#sk-container-id-1 div.sk-toggleable__content pre {margin: 0.2em;color: black;border-radius: 0.25em;background-color: #f0f8ff;}#sk-container-id-1 input.sk-toggleable__control:checked~div.sk-toggleable__content {max-height: 200px;max-width: 100%;overflow: auto;}#sk-container-id-1 input.sk-toggleable__control:checked~label.sk-toggleable__label-arrow:before {content: \"▾\";}#sk-container-id-1 div.sk-estimator input.sk-toggleable__control:checked~label.sk-toggleable__label {background-color: #d4ebff;}#sk-container-id-1 div.sk-label input.sk-toggleable__control:checked~label.sk-toggleable__label {background-color: #d4ebff;}#sk-container-id-1 input.sk-hidden--visually {border: 0;clip: rect(1px 1px 1px 1px);clip: rect(1px, 1px, 1px, 1px);height: 1px;margin: -1px;overflow: hidden;padding: 0;position: absolute;width: 1px;}#sk-container-id-1 div.sk-estimator {font-family: monospace;background-color: #f0f8ff;border: 1px dotted black;border-radius: 0.25em;box-sizing: border-box;margin-bottom: 0.5em;}#sk-container-id-1 div.sk-estimator:hover {background-color: #d4ebff;}#sk-container-id-1 div.sk-parallel-item::after {content: \"\";width: 100%;border-bottom: 1px solid gray;flex-grow: 1;}#sk-container-id-1 div.sk-label:hover label.sk-toggleable__label {background-color: #d4ebff;}#sk-container-id-1 div.sk-serial::before {content: \"\";position: absolute;border-left: 1px solid gray;box-sizing: border-box;top: 0;bottom: 0;left: 50%;z-index: 0;}#sk-container-id-1 div.sk-serial {display: flex;flex-direction: column;align-items: center;background-color: white;padding-right: 0.2em;padding-left: 0.2em;position: relative;}#sk-container-id-1 div.sk-item {position: relative;z-index: 1;}#sk-container-id-1 div.sk-parallel {display: flex;align-items: stretch;justify-content: center;background-color: white;position: relative;}#sk-container-id-1 div.sk-item::before, #sk-container-id-1 div.sk-parallel-item::before {content: \"\";position: absolute;border-left: 1px solid gray;box-sizing: border-box;top: 0;bottom: 0;left: 50%;z-index: -1;}#sk-container-id-1 div.sk-parallel-item {display: flex;flex-direction: column;z-index: 1;position: relative;background-color: white;}#sk-container-id-1 div.sk-parallel-item:first-child::after {align-self: flex-end;width: 50%;}#sk-container-id-1 div.sk-parallel-item:last-child::after {align-self: flex-start;width: 50%;}#sk-container-id-1 div.sk-parallel-item:only-child::after {width: 0;}#sk-container-id-1 div.sk-dashed-wrapped {border: 1px dashed gray;margin: 0 0.4em 0.5em 0.4em;box-sizing: border-box;padding-bottom: 0.4em;background-color: white;}#sk-container-id-1 div.sk-label label {font-family: monospace;font-weight: bold;display: inline-block;line-height: 1.2em;}#sk-container-id-1 div.sk-label-container {text-align: center;}#sk-container-id-1 div.sk-container {/* jupyter's `normalize.less` sets `[hidden] { display: none; }` but bootstrap.min.css set `[hidden] { display: none !important; }` so we also need the `!important` here to be able to override the default hidden behavior on the sphinx rendered scikit-learn.org. See: https://github.com/scikit-learn/scikit-learn/issues/21755 */display: inline-block !important;position: relative;}#sk-container-id-1 div.sk-text-repr-fallback {display: none;}</style><div id=\"sk-container-id-1\" class=\"sk-top-container\"><div class=\"sk-text-repr-fallback\"><pre>LinearRegression()</pre><b>In a Jupyter environment, please rerun this cell to show the HTML representation or trust the notebook. <br />On GitHub, the HTML representation is unable to render, please try loading this page with nbviewer.org.</b></div><div class=\"sk-container\" hidden><div class=\"sk-item\"><div class=\"sk-estimator sk-toggleable\"><input class=\"sk-toggleable__control sk-hidden--visually\" id=\"sk-estimator-id-1\" type=\"checkbox\" checked><label for=\"sk-estimator-id-1\" class=\"sk-toggleable__label sk-toggleable__label-arrow\">LinearRegression</label><div class=\"sk-toggleable__content\"><pre>LinearRegression()</pre></div></div></div></div></div>"
      ],
      "text/plain": [
       "LinearRegression()"
      ]
     },
     "execution_count": 117,
     "metadata": {},
     "output_type": "execute_result"
    }
   ],
   "source": [
    "# LinearRegression\n",
    "\n",
    "lr = LinearRegression()\n",
    "lr.fit(X_train, y_train)"
   ]
  },
  {
   "cell_type": "code",
   "execution_count": 118,
   "id": "ecac5a44",
   "metadata": {},
   "outputs": [
    {
     "data": {
      "text/html": [
       "<style>#sk-container-id-2 {color: black;background-color: white;}#sk-container-id-2 pre{padding: 0;}#sk-container-id-2 div.sk-toggleable {background-color: white;}#sk-container-id-2 label.sk-toggleable__label {cursor: pointer;display: block;width: 100%;margin-bottom: 0;padding: 0.3em;box-sizing: border-box;text-align: center;}#sk-container-id-2 label.sk-toggleable__label-arrow:before {content: \"▸\";float: left;margin-right: 0.25em;color: #696969;}#sk-container-id-2 label.sk-toggleable__label-arrow:hover:before {color: black;}#sk-container-id-2 div.sk-estimator:hover label.sk-toggleable__label-arrow:before {color: black;}#sk-container-id-2 div.sk-toggleable__content {max-height: 0;max-width: 0;overflow: hidden;text-align: left;background-color: #f0f8ff;}#sk-container-id-2 div.sk-toggleable__content pre {margin: 0.2em;color: black;border-radius: 0.25em;background-color: #f0f8ff;}#sk-container-id-2 input.sk-toggleable__control:checked~div.sk-toggleable__content {max-height: 200px;max-width: 100%;overflow: auto;}#sk-container-id-2 input.sk-toggleable__control:checked~label.sk-toggleable__label-arrow:before {content: \"▾\";}#sk-container-id-2 div.sk-estimator input.sk-toggleable__control:checked~label.sk-toggleable__label {background-color: #d4ebff;}#sk-container-id-2 div.sk-label input.sk-toggleable__control:checked~label.sk-toggleable__label {background-color: #d4ebff;}#sk-container-id-2 input.sk-hidden--visually {border: 0;clip: rect(1px 1px 1px 1px);clip: rect(1px, 1px, 1px, 1px);height: 1px;margin: -1px;overflow: hidden;padding: 0;position: absolute;width: 1px;}#sk-container-id-2 div.sk-estimator {font-family: monospace;background-color: #f0f8ff;border: 1px dotted black;border-radius: 0.25em;box-sizing: border-box;margin-bottom: 0.5em;}#sk-container-id-2 div.sk-estimator:hover {background-color: #d4ebff;}#sk-container-id-2 div.sk-parallel-item::after {content: \"\";width: 100%;border-bottom: 1px solid gray;flex-grow: 1;}#sk-container-id-2 div.sk-label:hover label.sk-toggleable__label {background-color: #d4ebff;}#sk-container-id-2 div.sk-serial::before {content: \"\";position: absolute;border-left: 1px solid gray;box-sizing: border-box;top: 0;bottom: 0;left: 50%;z-index: 0;}#sk-container-id-2 div.sk-serial {display: flex;flex-direction: column;align-items: center;background-color: white;padding-right: 0.2em;padding-left: 0.2em;position: relative;}#sk-container-id-2 div.sk-item {position: relative;z-index: 1;}#sk-container-id-2 div.sk-parallel {display: flex;align-items: stretch;justify-content: center;background-color: white;position: relative;}#sk-container-id-2 div.sk-item::before, #sk-container-id-2 div.sk-parallel-item::before {content: \"\";position: absolute;border-left: 1px solid gray;box-sizing: border-box;top: 0;bottom: 0;left: 50%;z-index: -1;}#sk-container-id-2 div.sk-parallel-item {display: flex;flex-direction: column;z-index: 1;position: relative;background-color: white;}#sk-container-id-2 div.sk-parallel-item:first-child::after {align-self: flex-end;width: 50%;}#sk-container-id-2 div.sk-parallel-item:last-child::after {align-self: flex-start;width: 50%;}#sk-container-id-2 div.sk-parallel-item:only-child::after {width: 0;}#sk-container-id-2 div.sk-dashed-wrapped {border: 1px dashed gray;margin: 0 0.4em 0.5em 0.4em;box-sizing: border-box;padding-bottom: 0.4em;background-color: white;}#sk-container-id-2 div.sk-label label {font-family: monospace;font-weight: bold;display: inline-block;line-height: 1.2em;}#sk-container-id-2 div.sk-label-container {text-align: center;}#sk-container-id-2 div.sk-container {/* jupyter's `normalize.less` sets `[hidden] { display: none; }` but bootstrap.min.css set `[hidden] { display: none !important; }` so we also need the `!important` here to be able to override the default hidden behavior on the sphinx rendered scikit-learn.org. See: https://github.com/scikit-learn/scikit-learn/issues/21755 */display: inline-block !important;position: relative;}#sk-container-id-2 div.sk-text-repr-fallback {display: none;}</style><div id=\"sk-container-id-2\" class=\"sk-top-container\"><div class=\"sk-text-repr-fallback\"><pre>SVR()</pre><b>In a Jupyter environment, please rerun this cell to show the HTML representation or trust the notebook. <br />On GitHub, the HTML representation is unable to render, please try loading this page with nbviewer.org.</b></div><div class=\"sk-container\" hidden><div class=\"sk-item\"><div class=\"sk-estimator sk-toggleable\"><input class=\"sk-toggleable__control sk-hidden--visually\" id=\"sk-estimator-id-2\" type=\"checkbox\" checked><label for=\"sk-estimator-id-2\" class=\"sk-toggleable__label sk-toggleable__label-arrow\">SVR</label><div class=\"sk-toggleable__content\"><pre>SVR()</pre></div></div></div></div></div>"
      ],
      "text/plain": [
       "SVR()"
      ]
     },
     "execution_count": 118,
     "metadata": {},
     "output_type": "execute_result"
    }
   ],
   "source": [
    "# SVR\n",
    "\n",
    "svr = SVR()\n",
    "svr.fit(X_train, y_train)"
   ]
  },
  {
   "cell_type": "code",
   "execution_count": 119,
   "id": "4c7dca04",
   "metadata": {},
   "outputs": [
    {
     "data": {
      "text/html": [
       "<style>#sk-container-id-3 {color: black;background-color: white;}#sk-container-id-3 pre{padding: 0;}#sk-container-id-3 div.sk-toggleable {background-color: white;}#sk-container-id-3 label.sk-toggleable__label {cursor: pointer;display: block;width: 100%;margin-bottom: 0;padding: 0.3em;box-sizing: border-box;text-align: center;}#sk-container-id-3 label.sk-toggleable__label-arrow:before {content: \"▸\";float: left;margin-right: 0.25em;color: #696969;}#sk-container-id-3 label.sk-toggleable__label-arrow:hover:before {color: black;}#sk-container-id-3 div.sk-estimator:hover label.sk-toggleable__label-arrow:before {color: black;}#sk-container-id-3 div.sk-toggleable__content {max-height: 0;max-width: 0;overflow: hidden;text-align: left;background-color: #f0f8ff;}#sk-container-id-3 div.sk-toggleable__content pre {margin: 0.2em;color: black;border-radius: 0.25em;background-color: #f0f8ff;}#sk-container-id-3 input.sk-toggleable__control:checked~div.sk-toggleable__content {max-height: 200px;max-width: 100%;overflow: auto;}#sk-container-id-3 input.sk-toggleable__control:checked~label.sk-toggleable__label-arrow:before {content: \"▾\";}#sk-container-id-3 div.sk-estimator input.sk-toggleable__control:checked~label.sk-toggleable__label {background-color: #d4ebff;}#sk-container-id-3 div.sk-label input.sk-toggleable__control:checked~label.sk-toggleable__label {background-color: #d4ebff;}#sk-container-id-3 input.sk-hidden--visually {border: 0;clip: rect(1px 1px 1px 1px);clip: rect(1px, 1px, 1px, 1px);height: 1px;margin: -1px;overflow: hidden;padding: 0;position: absolute;width: 1px;}#sk-container-id-3 div.sk-estimator {font-family: monospace;background-color: #f0f8ff;border: 1px dotted black;border-radius: 0.25em;box-sizing: border-box;margin-bottom: 0.5em;}#sk-container-id-3 div.sk-estimator:hover {background-color: #d4ebff;}#sk-container-id-3 div.sk-parallel-item::after {content: \"\";width: 100%;border-bottom: 1px solid gray;flex-grow: 1;}#sk-container-id-3 div.sk-label:hover label.sk-toggleable__label {background-color: #d4ebff;}#sk-container-id-3 div.sk-serial::before {content: \"\";position: absolute;border-left: 1px solid gray;box-sizing: border-box;top: 0;bottom: 0;left: 50%;z-index: 0;}#sk-container-id-3 div.sk-serial {display: flex;flex-direction: column;align-items: center;background-color: white;padding-right: 0.2em;padding-left: 0.2em;position: relative;}#sk-container-id-3 div.sk-item {position: relative;z-index: 1;}#sk-container-id-3 div.sk-parallel {display: flex;align-items: stretch;justify-content: center;background-color: white;position: relative;}#sk-container-id-3 div.sk-item::before, #sk-container-id-3 div.sk-parallel-item::before {content: \"\";position: absolute;border-left: 1px solid gray;box-sizing: border-box;top: 0;bottom: 0;left: 50%;z-index: -1;}#sk-container-id-3 div.sk-parallel-item {display: flex;flex-direction: column;z-index: 1;position: relative;background-color: white;}#sk-container-id-3 div.sk-parallel-item:first-child::after {align-self: flex-end;width: 50%;}#sk-container-id-3 div.sk-parallel-item:last-child::after {align-self: flex-start;width: 50%;}#sk-container-id-3 div.sk-parallel-item:only-child::after {width: 0;}#sk-container-id-3 div.sk-dashed-wrapped {border: 1px dashed gray;margin: 0 0.4em 0.5em 0.4em;box-sizing: border-box;padding-bottom: 0.4em;background-color: white;}#sk-container-id-3 div.sk-label label {font-family: monospace;font-weight: bold;display: inline-block;line-height: 1.2em;}#sk-container-id-3 div.sk-label-container {text-align: center;}#sk-container-id-3 div.sk-container {/* jupyter's `normalize.less` sets `[hidden] { display: none; }` but bootstrap.min.css set `[hidden] { display: none !important; }` so we also need the `!important` here to be able to override the default hidden behavior on the sphinx rendered scikit-learn.org. See: https://github.com/scikit-learn/scikit-learn/issues/21755 */display: inline-block !important;position: relative;}#sk-container-id-3 div.sk-text-repr-fallback {display: none;}</style><div id=\"sk-container-id-3\" class=\"sk-top-container\"><div class=\"sk-text-repr-fallback\"><pre>RandomForestRegressor()</pre><b>In a Jupyter environment, please rerun this cell to show the HTML representation or trust the notebook. <br />On GitHub, the HTML representation is unable to render, please try loading this page with nbviewer.org.</b></div><div class=\"sk-container\" hidden><div class=\"sk-item\"><div class=\"sk-estimator sk-toggleable\"><input class=\"sk-toggleable__control sk-hidden--visually\" id=\"sk-estimator-id-3\" type=\"checkbox\" checked><label for=\"sk-estimator-id-3\" class=\"sk-toggleable__label sk-toggleable__label-arrow\">RandomForestRegressor</label><div class=\"sk-toggleable__content\"><pre>RandomForestRegressor()</pre></div></div></div></div></div>"
      ],
      "text/plain": [
       "RandomForestRegressor()"
      ]
     },
     "execution_count": 119,
     "metadata": {},
     "output_type": "execute_result"
    }
   ],
   "source": [
    "# RandomForestRegressor\n",
    "\n",
    "rfr = RandomForestRegressor()\n",
    "rfr.fit(X_train, y_train)"
   ]
  },
  {
   "cell_type": "code",
   "execution_count": 120,
   "id": "1c7d798f",
   "metadata": {},
   "outputs": [
    {
     "data": {
      "text/html": [
       "<style>#sk-container-id-4 {color: black;background-color: white;}#sk-container-id-4 pre{padding: 0;}#sk-container-id-4 div.sk-toggleable {background-color: white;}#sk-container-id-4 label.sk-toggleable__label {cursor: pointer;display: block;width: 100%;margin-bottom: 0;padding: 0.3em;box-sizing: border-box;text-align: center;}#sk-container-id-4 label.sk-toggleable__label-arrow:before {content: \"▸\";float: left;margin-right: 0.25em;color: #696969;}#sk-container-id-4 label.sk-toggleable__label-arrow:hover:before {color: black;}#sk-container-id-4 div.sk-estimator:hover label.sk-toggleable__label-arrow:before {color: black;}#sk-container-id-4 div.sk-toggleable__content {max-height: 0;max-width: 0;overflow: hidden;text-align: left;background-color: #f0f8ff;}#sk-container-id-4 div.sk-toggleable__content pre {margin: 0.2em;color: black;border-radius: 0.25em;background-color: #f0f8ff;}#sk-container-id-4 input.sk-toggleable__control:checked~div.sk-toggleable__content {max-height: 200px;max-width: 100%;overflow: auto;}#sk-container-id-4 input.sk-toggleable__control:checked~label.sk-toggleable__label-arrow:before {content: \"▾\";}#sk-container-id-4 div.sk-estimator input.sk-toggleable__control:checked~label.sk-toggleable__label {background-color: #d4ebff;}#sk-container-id-4 div.sk-label input.sk-toggleable__control:checked~label.sk-toggleable__label {background-color: #d4ebff;}#sk-container-id-4 input.sk-hidden--visually {border: 0;clip: rect(1px 1px 1px 1px);clip: rect(1px, 1px, 1px, 1px);height: 1px;margin: -1px;overflow: hidden;padding: 0;position: absolute;width: 1px;}#sk-container-id-4 div.sk-estimator {font-family: monospace;background-color: #f0f8ff;border: 1px dotted black;border-radius: 0.25em;box-sizing: border-box;margin-bottom: 0.5em;}#sk-container-id-4 div.sk-estimator:hover {background-color: #d4ebff;}#sk-container-id-4 div.sk-parallel-item::after {content: \"\";width: 100%;border-bottom: 1px solid gray;flex-grow: 1;}#sk-container-id-4 div.sk-label:hover label.sk-toggleable__label {background-color: #d4ebff;}#sk-container-id-4 div.sk-serial::before {content: \"\";position: absolute;border-left: 1px solid gray;box-sizing: border-box;top: 0;bottom: 0;left: 50%;z-index: 0;}#sk-container-id-4 div.sk-serial {display: flex;flex-direction: column;align-items: center;background-color: white;padding-right: 0.2em;padding-left: 0.2em;position: relative;}#sk-container-id-4 div.sk-item {position: relative;z-index: 1;}#sk-container-id-4 div.sk-parallel {display: flex;align-items: stretch;justify-content: center;background-color: white;position: relative;}#sk-container-id-4 div.sk-item::before, #sk-container-id-4 div.sk-parallel-item::before {content: \"\";position: absolute;border-left: 1px solid gray;box-sizing: border-box;top: 0;bottom: 0;left: 50%;z-index: -1;}#sk-container-id-4 div.sk-parallel-item {display: flex;flex-direction: column;z-index: 1;position: relative;background-color: white;}#sk-container-id-4 div.sk-parallel-item:first-child::after {align-self: flex-end;width: 50%;}#sk-container-id-4 div.sk-parallel-item:last-child::after {align-self: flex-start;width: 50%;}#sk-container-id-4 div.sk-parallel-item:only-child::after {width: 0;}#sk-container-id-4 div.sk-dashed-wrapped {border: 1px dashed gray;margin: 0 0.4em 0.5em 0.4em;box-sizing: border-box;padding-bottom: 0.4em;background-color: white;}#sk-container-id-4 div.sk-label label {font-family: monospace;font-weight: bold;display: inline-block;line-height: 1.2em;}#sk-container-id-4 div.sk-label-container {text-align: center;}#sk-container-id-4 div.sk-container {/* jupyter's `normalize.less` sets `[hidden] { display: none; }` but bootstrap.min.css set `[hidden] { display: none !important; }` so we also need the `!important` here to be able to override the default hidden behavior on the sphinx rendered scikit-learn.org. See: https://github.com/scikit-learn/scikit-learn/issues/21755 */display: inline-block !important;position: relative;}#sk-container-id-4 div.sk-text-repr-fallback {display: none;}</style><div id=\"sk-container-id-4\" class=\"sk-top-container\"><div class=\"sk-text-repr-fallback\"><pre>GradientBoostingRegressor()</pre><b>In a Jupyter environment, please rerun this cell to show the HTML representation or trust the notebook. <br />On GitHub, the HTML representation is unable to render, please try loading this page with nbviewer.org.</b></div><div class=\"sk-container\" hidden><div class=\"sk-item\"><div class=\"sk-estimator sk-toggleable\"><input class=\"sk-toggleable__control sk-hidden--visually\" id=\"sk-estimator-id-4\" type=\"checkbox\" checked><label for=\"sk-estimator-id-4\" class=\"sk-toggleable__label sk-toggleable__label-arrow\">GradientBoostingRegressor</label><div class=\"sk-toggleable__content\"><pre>GradientBoostingRegressor()</pre></div></div></div></div></div>"
      ],
      "text/plain": [
       "GradientBoostingRegressor()"
      ]
     },
     "execution_count": 120,
     "metadata": {},
     "output_type": "execute_result"
    }
   ],
   "source": [
    "# GradientBoostingRegressor\n",
    "\n",
    "gbr = GradientBoostingRegressor()\n",
    "gbr.fit(X_train, y_train)"
   ]
  },
  {
   "cell_type": "markdown",
   "id": "c89ba35a",
   "metadata": {},
   "source": [
    "## Feature Importance"
   ]
  },
  {
   "cell_type": "code",
   "execution_count": 121,
   "id": "fc1779a8",
   "metadata": {},
   "outputs": [
    {
     "data": {
      "text/plain": [
       "array([0.0165214 , 0.6832538 , 0.03955421, 0.08042421, 0.13997097,\n",
       "       0.01754511, 0.0151959 , 0.0075344 ])"
      ]
     },
     "execution_count": 121,
     "metadata": {},
     "output_type": "execute_result"
    }
   ],
   "source": [
    "# RandomForest\n",
    "\n",
    "rfr.feature_importances_"
   ]
  },
  {
   "cell_type": "code",
   "execution_count": 122,
   "id": "608519ae",
   "metadata": {},
   "outputs": [
    {
     "data": {
      "text/plain": [
       "company            0.016521\n",
       "diameter           0.683254\n",
       "topping            0.039554\n",
       "variant            0.080424\n",
       "size               0.139971\n",
       "extra_sauce        0.017545\n",
       "extra_cheese       0.015196\n",
       "extra_mushrooms    0.007534\n",
       "dtype: float64"
      ]
     },
     "execution_count": 122,
     "metadata": {},
     "output_type": "execute_result"
    }
   ],
   "source": [
    "rfr_ft = pd.Series(rfr.feature_importances_, index = X_train.columns)\n",
    "rfr_ft "
   ]
  },
  {
   "cell_type": "code",
   "execution_count": 123,
   "id": "b120ce1a",
   "metadata": {},
   "outputs": [
    {
     "data": {
      "text/plain": [
       "<Axes: >"
      ]
     },
     "execution_count": 123,
     "metadata": {},
     "output_type": "execute_result"
    },
    {
     "data": {
      "image/png": "[encoded data removed]",
      "text/plain": [
       "<Figure size 640x480 with 1 Axes>"
      ]
     },
     "metadata": {},
     "output_type": "display_data"
    }
   ],
   "source": [
    "rfr_ft.plot(kind = 'barh')"
   ]
  },
  {
   "cell_type": "code",
   "execution_count": 124,
   "id": "54da30f0",
   "metadata": {},
   "outputs": [
    {
     "data": {
      "text/plain": [
       "array([0.00652438, 0.70341572, 0.03355448, 0.08211443, 0.12818381,\n",
       "       0.03186371, 0.01264753, 0.00169595])"
      ]
     },
     "execution_count": 124,
     "metadata": {},
     "output_type": "execute_result"
    }
   ],
   "source": [
    "# GradientBoostingRegressor\n",
    "\n",
    "gbr.feature_importances_"
   ]
  },
  {
   "cell_type": "code",
   "execution_count": 125,
   "id": "deb9d0c1",
   "metadata": {},
   "outputs": [
    {
     "data": {
      "text/plain": [
       "company            0.006524\n",
       "diameter           0.703416\n",
       "topping            0.033554\n",
       "variant            0.082114\n",
       "size               0.128184\n",
       "extra_sauce        0.031864\n",
       "extra_cheese       0.012648\n",
       "extra_mushrooms    0.001696\n",
       "dtype: float64"
      ]
     },
     "execution_count": 125,
     "metadata": {},
     "output_type": "execute_result"
    }
   ],
   "source": [
    "gbr_ft = pd.Series(gbr.feature_importances_, index = X_train.columns)\n",
    "gbr_ft "
   ]
  },
  {
   "cell_type": "code",
   "execution_count": 126,
   "id": "a4c8c121",
   "metadata": {},
   "outputs": [
    {
     "data": {
      "text/plain": [
       "<Axes: >"
      ]
     },
     "execution_count": 126,
     "metadata": {},
     "output_type": "execute_result"
    },
    {
     "data": {
      "image/png": "[encoded data removed]",
      "text/plain": [
       "<Figure size 640x480 with 1 Axes>"
      ]
     },
     "metadata": {},
     "output_type": "display_data"
    }
   ],
   "source": [
    "gbr_ft.plot(kind = 'barh')"
   ]
  },
  {
   "cell_type": "code",
   "execution_count": 127,
   "id": "763ce54a",
   "metadata": {},
   "outputs": [],
   "source": [
    "# Diameter has the most impact on price followed by size, followed by variant, followed by topping and so on."
   ]
  },
  {
   "cell_type": "markdown",
   "id": "1a5dc4fb",
   "metadata": {},
   "source": [
    "### Prediction on test data"
   ]
  },
  {
   "cell_type": "code",
   "execution_count": 128,
   "id": "58c9b4da",
   "metadata": {},
   "outputs": [],
   "source": [
    "# prediction on test data with independent variables.\n",
    "pred_lr = lr.predict(X_test)\n",
    "pred_svr = svr.predict(X_test)\n",
    "pred_rfr = rfr.predict(X_test)\n",
    "pred_gbr = gbr.predict(X_test)\n",
    "\n",
    "\"\"\"create a dataframe to compare the prediction made on target/label test data (by diffferent algorithms) with the actual \n",
    "target/label test data (y_test)\"\"\"\n",
    "\n",
    "#prediction on test data with target/label/dependent variable.\n",
    "\n",
    "pred_df = pd.DataFrame({'Actual' : y_test,\n",
    "                       'LR': pred_lr,\n",
    "                       'SVR': pred_svr,\n",
    "                       'RFR': pred_rfr,\n",
    "                       'GBR': pred_gbr})"
   ]
  },
  {
   "cell_type": "code",
   "execution_count": 129,
   "id": "81a5894b",
   "metadata": {},
   "outputs": [
    {
     "data": {
      "text/html": [
       "<div>\n",
       "<style scoped>\n",
       "    .dataframe tbody tr th:only-of-type {\n",
       "        vertical-align: middle;\n",
       "    }\n",
       "\n",
       "    .dataframe tbody tr th {\n",
       "        vertical-align: top;\n",
       "    }\n",
       "\n",
       "    .dataframe thead th {\n",
       "        text-align: right;\n",
       "    }\n",
       "</style>\n",
       "<table border=\"1\" class=\"dataframe\">\n",
       "  <thead>\n",
       "    <tr style=\"text-align: right;\">\n",
       "      <th></th>\n",
       "      <th>Actual</th>\n",
       "      <th>LR</th>\n",
       "      <th>SVR</th>\n",
       "      <th>RFR</th>\n",
       "      <th>GBR</th>\n",
       "    </tr>\n",
       "  </thead>\n",
       "  <tbody>\n",
       "    <tr>\n",
       "      <th>26</th>\n",
       "      <td>395.6</td>\n",
       "      <td>601.684640</td>\n",
       "      <td>686.233488</td>\n",
       "      <td>453.822</td>\n",
       "      <td>399.116077</td>\n",
       "    </tr>\n",
       "    <tr>\n",
       "      <th>112</th>\n",
       "      <td>283.8</td>\n",
       "      <td>279.561476</td>\n",
       "      <td>681.637296</td>\n",
       "      <td>280.876</td>\n",
       "      <td>321.833354</td>\n",
       "    </tr>\n",
       "    <tr>\n",
       "      <th>81</th>\n",
       "      <td>602.0</td>\n",
       "      <td>115.131200</td>\n",
       "      <td>688.637117</td>\n",
       "      <td>682.797</td>\n",
       "      <td>621.453068</td>\n",
       "    </tr>\n",
       "    <tr>\n",
       "      <th>55</th>\n",
       "      <td>335.4</td>\n",
       "      <td>400.135334</td>\n",
       "      <td>681.619636</td>\n",
       "      <td>492.608</td>\n",
       "      <td>556.200612</td>\n",
       "    </tr>\n",
       "    <tr>\n",
       "      <th>44</th>\n",
       "      <td>395.6</td>\n",
       "      <td>665.402074</td>\n",
       "      <td>686.299453</td>\n",
       "      <td>484.868</td>\n",
       "      <td>475.032001</td>\n",
       "    </tr>\n",
       "    <tr>\n",
       "      <th>96</th>\n",
       "      <td>593.4</td>\n",
       "      <td>567.003911</td>\n",
       "      <td>685.837997</td>\n",
       "      <td>532.082</td>\n",
       "      <td>481.988326</td>\n",
       "    </tr>\n",
       "    <tr>\n",
       "      <th>80</th>\n",
       "      <td>946.0</td>\n",
       "      <td>977.067893</td>\n",
       "      <td>697.973496</td>\n",
       "      <td>971.155</td>\n",
       "      <td>900.875063</td>\n",
       "    </tr>\n",
       "    <tr>\n",
       "      <th>127</th>\n",
       "      <td>378.4</td>\n",
       "      <td>295.976159</td>\n",
       "      <td>680.658033</td>\n",
       "      <td>305.042</td>\n",
       "      <td>373.577789</td>\n",
       "    </tr>\n",
       "    <tr>\n",
       "      <th>115</th>\n",
       "      <td>653.6</td>\n",
       "      <td>527.606318</td>\n",
       "      <td>686.397952</td>\n",
       "      <td>500.348</td>\n",
       "      <td>468.240733</td>\n",
       "    </tr>\n",
       "    <tr>\n",
       "      <th>62</th>\n",
       "      <td>516.0</td>\n",
       "      <td>611.712453</td>\n",
       "      <td>693.008805</td>\n",
       "      <td>689.204</td>\n",
       "      <td>672.367115</td>\n",
       "    </tr>\n",
       "    <tr>\n",
       "      <th>45</th>\n",
       "      <td>619.2</td>\n",
       "      <td>826.860799</td>\n",
       "      <td>689.385450</td>\n",
       "      <td>725.410</td>\n",
       "      <td>669.190252</td>\n",
       "    </tr>\n",
       "    <tr>\n",
       "      <th>4</th>\n",
       "      <td>2132.8</td>\n",
       "      <td>1271.691833</td>\n",
       "      <td>698.370786</td>\n",
       "      <td>1424.848</td>\n",
       "      <td>1571.075736</td>\n",
       "    </tr>\n",
       "    <tr>\n",
       "      <th>18</th>\n",
       "      <td>774.0</td>\n",
       "      <td>777.956085</td>\n",
       "      <td>693.370537</td>\n",
       "      <td>714.918</td>\n",
       "      <td>775.704218</td>\n",
       "    </tr>\n",
       "    <tr>\n",
       "      <th>95</th>\n",
       "      <td>266.6</td>\n",
       "      <td>347.340969</td>\n",
       "      <td>681.431349</td>\n",
       "      <td>301.473</td>\n",
       "      <td>307.913755</td>\n",
       "    </tr>\n",
       "    <tr>\n",
       "      <th>36</th>\n",
       "      <td>1057.8</td>\n",
       "      <td>719.544928</td>\n",
       "      <td>688.142630</td>\n",
       "      <td>810.937</td>\n",
       "      <td>959.320139</td>\n",
       "    </tr>\n",
       "    <tr>\n",
       "      <th>94</th>\n",
       "      <td>825.6</td>\n",
       "      <td>562.071458</td>\n",
       "      <td>687.441504</td>\n",
       "      <td>816.183</td>\n",
       "      <td>804.605703</td>\n",
       "    </tr>\n",
       "    <tr>\n",
       "      <th>19</th>\n",
       "      <td>774.0</td>\n",
       "      <td>765.806910</td>\n",
       "      <td>693.498211</td>\n",
       "      <td>710.188</td>\n",
       "      <td>764.685524</td>\n",
       "    </tr>\n",
       "    <tr>\n",
       "      <th>121</th>\n",
       "      <td>421.4</td>\n",
       "      <td>629.441846</td>\n",
       "      <td>686.890782</td>\n",
       "      <td>530.104</td>\n",
       "      <td>556.719323</td>\n",
       "    </tr>\n",
       "    <tr>\n",
       "      <th>10</th>\n",
       "      <td>1204.0</td>\n",
       "      <td>1286.781494</td>\n",
       "      <td>701.287256</td>\n",
       "      <td>1232.208</td>\n",
       "      <td>1211.514428</td>\n",
       "    </tr>\n",
       "    <tr>\n",
       "      <th>40</th>\n",
       "      <td>653.6</td>\n",
       "      <td>577.547902</td>\n",
       "      <td>687.026623</td>\n",
       "      <td>495.532</td>\n",
       "      <td>424.180445</td>\n",
       "    </tr>\n",
       "    <tr>\n",
       "      <th>11</th>\n",
       "      <td>946.0</td>\n",
       "      <td>952.100288</td>\n",
       "      <td>699.704450</td>\n",
       "      <td>796.876</td>\n",
       "      <td>796.702989</td>\n",
       "    </tr>\n",
       "    <tr>\n",
       "      <th>98</th>\n",
       "      <td>645.0</td>\n",
       "      <td>611.463816</td>\n",
       "      <td>686.577174</td>\n",
       "      <td>592.454</td>\n",
       "      <td>565.840885</td>\n",
       "    </tr>\n",
       "    <tr>\n",
       "      <th>104</th>\n",
       "      <td>713.8</td>\n",
       "      <td>901.689410</td>\n",
       "      <td>700.242168</td>\n",
       "      <td>791.114</td>\n",
       "      <td>789.609395</td>\n",
       "    </tr>\n",
       "    <tr>\n",
       "      <th>77</th>\n",
       "      <td>464.4</td>\n",
       "      <td>681.345617</td>\n",
       "      <td>692.888951</td>\n",
       "      <td>644.828</td>\n",
       "      <td>617.188563</td>\n",
       "    </tr>\n",
       "    <tr>\n",
       "      <th>0</th>\n",
       "      <td>2021.0</td>\n",
       "      <td>1819.663348</td>\n",
       "      <td>700.216448</td>\n",
       "      <td>1834.638</td>\n",
       "      <td>1885.107431</td>\n",
       "    </tr>\n",
       "    <tr>\n",
       "      <th>78</th>\n",
       "      <td>791.2</td>\n",
       "      <td>854.953517</td>\n",
       "      <td>695.591016</td>\n",
       "      <td>849.336</td>\n",
       "      <td>820.143749</td>\n",
       "    </tr>\n",
       "    <tr>\n",
       "      <th>68</th>\n",
       "      <td>438.6</td>\n",
       "      <td>679.222962</td>\n",
       "      <td>691.193813</td>\n",
       "      <td>658.674</td>\n",
       "      <td>572.057721</td>\n",
       "    </tr>\n",
       "    <tr>\n",
       "      <th>69</th>\n",
       "      <td>722.4</td>\n",
       "      <td>874.501372</td>\n",
       "      <td>694.002774</td>\n",
       "      <td>864.300</td>\n",
       "      <td>772.089166</td>\n",
       "    </tr>\n",
       "    <tr>\n",
       "      <th>12</th>\n",
       "      <td>602.0</td>\n",
       "      <td>250.730709</td>\n",
       "      <td>690.111257</td>\n",
       "      <td>656.266</td>\n",
       "      <td>738.243733</td>\n",
       "    </tr>\n",
       "    <tr>\n",
       "      <th>42</th>\n",
       "      <td>1087.9</td>\n",
       "      <td>681.796411</td>\n",
       "      <td>688.119379</td>\n",
       "      <td>892.207</td>\n",
       "      <td>996.458898</td>\n",
       "    </tr>\n",
       "    <tr>\n",
       "      <th>31</th>\n",
       "      <td>266.6</td>\n",
       "      <td>398.099703</td>\n",
       "      <td>681.843153</td>\n",
       "      <td>307.579</td>\n",
       "      <td>317.670468</td>\n",
       "    </tr>\n",
       "    <tr>\n",
       "      <th>27</th>\n",
       "      <td>619.2</td>\n",
       "      <td>870.815371</td>\n",
       "      <td>689.811216</td>\n",
       "      <td>790.727</td>\n",
       "      <td>740.906894</td>\n",
       "    </tr>\n",
       "    <tr>\n",
       "      <th>24</th>\n",
       "      <td>1281.4</td>\n",
       "      <td>1343.470787</td>\n",
       "      <td>694.507348</td>\n",
       "      <td>1238.615</td>\n",
       "      <td>1220.005982</td>\n",
       "    </tr>\n",
       "    <tr>\n",
       "      <th>93</th>\n",
       "      <td>713.8</td>\n",
       "      <td>932.308080</td>\n",
       "      <td>700.522430</td>\n",
       "      <td>801.090</td>\n",
       "      <td>800.130490</td>\n",
       "    </tr>\n",
       "    <tr>\n",
       "      <th>111</th>\n",
       "      <td>1057.8</td>\n",
       "      <td>659.124737</td>\n",
       "      <td>687.509686</td>\n",
       "      <td>836.995</td>\n",
       "      <td>969.248724</td>\n",
       "    </tr>\n",
       "    <tr>\n",
       "      <th>91</th>\n",
       "      <td>619.2</td>\n",
       "      <td>830.535243</td>\n",
       "      <td>689.343434</td>\n",
       "      <td>795.973</td>\n",
       "      <td>736.600999</td>\n",
       "    </tr>\n",
       "    <tr>\n",
       "      <th>15</th>\n",
       "      <td>1204.0</td>\n",
       "      <td>1334.394918</td>\n",
       "      <td>701.510325</td>\n",
       "      <td>1294.386</td>\n",
       "      <td>1227.720957</td>\n",
       "    </tr>\n",
       "    <tr>\n",
       "      <th>76</th>\n",
       "      <td>275.2</td>\n",
       "      <td>386.773336</td>\n",
       "      <td>688.341720</td>\n",
       "      <td>356.427</td>\n",
       "      <td>357.233798</td>\n",
       "    </tr>\n",
       "    <tr>\n",
       "      <th>22</th>\n",
       "      <td>980.4</td>\n",
       "      <td>1034.045202</td>\n",
       "      <td>691.313098</td>\n",
       "      <td>1052.984</td>\n",
       "      <td>1092.702370</td>\n",
       "    </tr>\n",
       "  </tbody>\n",
       "</table>\n",
       "</div>"
      ],
      "text/plain": [
       "     Actual           LR         SVR       RFR          GBR\n",
       "26    395.6   601.684640  686.233488   453.822   399.116077\n",
       "112   283.8   279.561476  681.637296   280.876   321.833354\n",
       "81    602.0   115.131200  688.637117   682.797   621.453068\n",
       "55    335.4   400.135334  681.619636   492.608   556.200612\n",
       "44    395.6   665.402074  686.299453   484.868   475.032001\n",
       "96    593.4   567.003911  685.837997   532.082   481.988326\n",
       "80    946.0   977.067893  697.973496   971.155   900.875063\n",
       "127   378.4   295.976159  680.658033   305.042   373.577789\n",
       "115   653.6   527.606318  686.397952   500.348   468.240733\n",
       "62    516.0   611.712453  693.008805   689.204   672.367115\n",
       "45    619.2   826.860799  689.385450   725.410   669.190252\n",
       "4    2132.8  1271.691833  698.370786  1424.848  1571.075736\n",
       "18    774.0   777.956085  693.370537   714.918   775.704218\n",
       "95    266.6   347.340969  681.431349   301.473   307.913755\n",
       "36   1057.8   719.544928  688.142630   810.937   959.320139\n",
       "94    825.6   562.071458  687.441504   816.183   804.605703\n",
       "19    774.0   765.806910  693.498211   710.188   764.685524\n",
       "121   421.4   629.441846  686.890782   530.104   556.719323\n",
       "10   1204.0  1286.781494  701.287256  1232.208  1211.514428\n",
       "40    653.6   577.547902  687.026623   495.532   424.180445\n",
       "11    946.0   952.100288  699.704450   796.876   796.702989\n",
       "98    645.0   611.463816  686.577174   592.454   565.840885\n",
       "104   713.8   901.689410  700.242168   791.114   789.609395\n",
       "77    464.4   681.345617  692.888951   644.828   617.188563\n",
       "0    2021.0  1819.663348  700.216448  1834.638  1885.107431\n",
       "78    791.2   854.953517  695.591016   849.336   820.143749\n",
       "68    438.6   679.222962  691.193813   658.674   572.057721\n",
       "69    722.4   874.501372  694.002774   864.300   772.089166\n",
       "12    602.0   250.730709  690.111257   656.266   738.243733\n",
       "42   1087.9   681.796411  688.119379   892.207   996.458898\n",
       "31    266.6   398.099703  681.843153   307.579   317.670468\n",
       "27    619.2   870.815371  689.811216   790.727   740.906894\n",
       "24   1281.4  1343.470787  694.507348  1238.615  1220.005982\n",
       "93    713.8   932.308080  700.522430   801.090   800.130490\n",
       "111  1057.8   659.124737  687.509686   836.995   969.248724\n",
       "91    619.2   830.535243  689.343434   795.973   736.600999\n",
       "15   1204.0  1334.394918  701.510325  1294.386  1227.720957\n",
       "76    275.2   386.773336  688.341720   356.427   357.233798\n",
       "22    980.4  1034.045202  691.313098  1052.984  1092.702370"
      ]
     },
     "execution_count": 129,
     "metadata": {},
     "output_type": "execute_result"
    }
   ],
   "source": [
    "pred_df"
   ]
  },
  {
   "cell_type": "markdown",
   "id": "63b64b04",
   "metadata": {},
   "source": [
    "### Visual Comparision with the actual test data"
   ]
  },
  {
   "cell_type": "code",
   "execution_count": 130,
   "id": "96e68b9a",
   "metadata": {},
   "outputs": [
    {
     "data": {
      "text/plain": [
       "<matplotlib.legend.Legend at 0x13c1f3d7dd0>"
      ]
     },
     "execution_count": 130,
     "metadata": {},
     "output_type": "execute_result"
    },
    {
     "data": {
      "image/png": "[encoded data removed]",
      "text/plain": [
       "<Figure size 640x480 with 4 Axes>"
      ]
     },
     "metadata": {},
     "output_type": "display_data"
    }
   ],
   "source": [
    "#plot for LR\n",
    "plt.subplot(221)\n",
    "plt.plot(pred_df['Actual'].iloc[0:11], label = 'Actual')\n",
    "plt.plot(pred_df['LR'].iloc[0:11], label = 'LR')\n",
    "plt.legend()\n",
    "\n",
    "#plot for SVR\n",
    "plt.subplot(222)\n",
    "plt.plot(pred_df['Actual'].iloc[0:11], label = 'Actual')\n",
    "plt.plot(pred_df['SVR'].iloc[0:11], label = 'SVR')\n",
    "plt.legend()\n",
    "\n",
    "#plot fot RFR\n",
    "plt.subplot(223)\n",
    "plt.plot(pred_df['Actual'].iloc[0:11], label = 'Actual')\n",
    "plt.plot(pred_df['RFR'].iloc[0:11], label = 'RFR')\n",
    "plt.legend()\n",
    "\n",
    "#plot for GBR\n",
    "plt.subplot(224)\n",
    "plt.plot(pred_df['Actual'].iloc[0:11], label = 'Actual')\n",
    "plt.plot(pred_df['GBR'].iloc[0:11], label = 'GBR')\n",
    "plt.legend()"
   ]
  },
  {
   "cell_type": "markdown",
   "id": "36173d04",
   "metadata": {},
   "source": [
    "### Algorthim Evaluation"
   ]
  },
  {
   "cell_type": "code",
   "execution_count": 131,
   "id": "43d444dc",
   "metadata": {},
   "outputs": [],
   "source": [
    "from sklearn import metrics"
   ]
  },
  {
   "cell_type": "code",
   "execution_count": 132,
   "id": "4ae8edc2",
   "metadata": {},
   "outputs": [
    {
     "name": "stdout",
     "output_type": "stream",
     "text": [
      "0.6550849440746003 -0.0027086406714607048 0.8374257167559991 0.8905690439433156\n"
     ]
    }
   ],
   "source": [
    "# R-Squared Score (coefficient of determination)\n",
    "lr_score = metrics.r2_score(y_test, pred_lr)\n",
    "svr_score = metrics.r2_score(y_test, pred_svr)\n",
    "rfr_score = metrics.r2_score(y_test, pred_rfr)\n",
    "gbr_score = metrics.r2_score(y_test, pred_gbr)\n",
    "\n",
    "print(lr_score, svr_score, rfr_score, gbr_score)"
   ]
  },
  {
   "cell_type": "code",
   "execution_count": 133,
   "id": "596c4e47",
   "metadata": {},
   "outputs": [
    {
     "name": "stdout",
     "output_type": "stream",
     "text": [
      "178.27226358393133 284.6397732318132 120.46394871794877 97.36738815240162\n"
     ]
    }
   ],
   "source": [
    "# Mean Absolute Error\n",
    "mae_lr = metrics.mean_absolute_error(y_test, pred_lr)\n",
    "mae_svr = metrics.mean_absolute_error(y_test, pred_svr)\n",
    "mae_rfr = metrics.mean_absolute_error(y_test, pred_rfr)\n",
    "mae_gbr = metrics.mean_absolute_error(y_test, pred_gbr)\n",
    "\n",
    "print(mae_lr, mae_svr, mae_rfr, mae_gbr)"
   ]
  },
  {
   "cell_type": "code",
   "execution_count": 134,
   "id": "1cf97656",
   "metadata": {},
   "outputs": [
    {
     "name": "stdout",
     "output_type": "stream",
     "text": [
      "58631.50976009492 170448.6958225905 27635.719319897446 18601.977669196676\n"
     ]
    }
   ],
   "source": [
    "# Mean Squared Error\n",
    "mse_lr = metrics.mean_squared_error(y_test, pred_lr)\n",
    "mse_svr = metrics.mean_squared_error(y_test, pred_svr)\n",
    "mse_rfr = metrics.mean_squared_error(y_test, pred_rfr)\n",
    "mse_gbr = metrics.mean_squared_error(y_test, pred_gbr)\n",
    "\n",
    "print(mse_lr, mse_svr, mse_rfr, mse_gbr)"
   ]
  },
  {
   "cell_type": "markdown",
   "id": "7341f85f",
   "metadata": {},
   "source": [
    "### Price prediction for new pizza order"
   ]
  },
  {
   "cell_type": "code",
   "execution_count": 135,
   "id": "26d44e5c",
   "metadata": {},
   "outputs": [
    {
     "data": {
      "text/plain": [
       "Index(['company', 'diameter', 'topping', 'variant', 'size', 'extra_sauce',\n",
       "       'extra_cheese', 'extra_mushrooms'],\n",
       "      dtype='object')"
      ]
     },
     "execution_count": 135,
     "metadata": {},
     "output_type": "execute_result"
    }
   ],
   "source": [
    "X.columns"
   ]
  },
  {
   "cell_type": "code",
   "execution_count": 136,
   "id": "73f07111",
   "metadata": {},
   "outputs": [],
   "source": [
    "new_pizza1 = {'company': 2, 'diameter': 14.0, 'topping': 19, 'variant': 13, 'size': 2 , 'extra_sauce': 0,\n",
    "       'extra_cheese': 1, 'extra_mushrooms': 1}"
   ]
  },
  {
   "cell_type": "code",
   "execution_count": 137,
   "id": "e90fe375",
   "metadata": {},
   "outputs": [],
   "source": [
    "new_pizza1_data = pd.DataFrame(new_pizza1, index = [1])"
   ]
  },
  {
   "cell_type": "code",
   "execution_count": 138,
   "id": "d8d3b988",
   "metadata": {},
   "outputs": [
    {
     "data": {
      "text/html": [
       "<div>\n",
       "<style scoped>\n",
       "    .dataframe tbody tr th:only-of-type {\n",
       "        vertical-align: middle;\n",
       "    }\n",
       "\n",
       "    .dataframe tbody tr th {\n",
       "        vertical-align: top;\n",
       "    }\n",
       "\n",
       "    .dataframe thead th {\n",
       "        text-align: right;\n",
       "    }\n",
       "</style>\n",
       "<table border=\"1\" class=\"dataframe\">\n",
       "  <thead>\n",
       "    <tr style=\"text-align: right;\">\n",
       "      <th></th>\n",
       "      <th>company</th>\n",
       "      <th>diameter</th>\n",
       "      <th>topping</th>\n",
       "      <th>variant</th>\n",
       "      <th>size</th>\n",
       "      <th>extra_sauce</th>\n",
       "      <th>extra_cheese</th>\n",
       "      <th>extra_mushrooms</th>\n",
       "    </tr>\n",
       "  </thead>\n",
       "  <tbody>\n",
       "    <tr>\n",
       "      <th>1</th>\n",
       "      <td>2</td>\n",
       "      <td>14.0</td>\n",
       "      <td>19</td>\n",
       "      <td>13</td>\n",
       "      <td>2</td>\n",
       "      <td>0</td>\n",
       "      <td>1</td>\n",
       "      <td>1</td>\n",
       "    </tr>\n",
       "  </tbody>\n",
       "</table>\n",
       "</div>"
      ],
      "text/plain": [
       "   company  diameter  topping  variant  size  extra_sauce  extra_cheese  \\\n",
       "1        2      14.0       19       13     2            0             1   \n",
       "\n",
       "   extra_mushrooms  \n",
       "1                1  "
      ]
     },
     "execution_count": 138,
     "metadata": {},
     "output_type": "execute_result"
    }
   ],
   "source": [
    "new_pizza1_data"
   ]
  },
  {
   "cell_type": "code",
   "execution_count": 139,
   "id": "4caf00bf",
   "metadata": {},
   "outputs": [
    {
     "data": {
      "text/plain": [
       "array([835.95122561])"
      ]
     },
     "execution_count": 139,
     "metadata": {},
     "output_type": "execute_result"
    }
   ],
   "source": [
    "new_pizza1_pred = gbr.predict(new_pizza1_data)\n",
    "new_pizza1_pred"
   ]
  },
  {
   "cell_type": "markdown",
   "id": "cd6c17ad",
   "metadata": {},
   "source": [
    "### Save the model and then implement the trained model in the original dataset X to predict the price of new pizza order."
   ]
  },
  {
   "cell_type": "code",
   "execution_count": 140,
   "id": "f93e1e96",
   "metadata": {},
   "outputs": [
    {
     "data": {
      "text/html": [
       "<style>#sk-container-id-5 {color: black;background-color: white;}#sk-container-id-5 pre{padding: 0;}#sk-container-id-5 div.sk-toggleable {background-color: white;}#sk-container-id-5 label.sk-toggleable__label {cursor: pointer;display: block;width: 100%;margin-bottom: 0;padding: 0.3em;box-sizing: border-box;text-align: center;}#sk-container-id-5 label.sk-toggleable__label-arrow:before {content: \"▸\";float: left;margin-right: 0.25em;color: #696969;}#sk-container-id-5 label.sk-toggleable__label-arrow:hover:before {color: black;}#sk-container-id-5 div.sk-estimator:hover label.sk-toggleable__label-arrow:before {color: black;}#sk-container-id-5 div.sk-toggleable__content {max-height: 0;max-width: 0;overflow: hidden;text-align: left;background-color: #f0f8ff;}#sk-container-id-5 div.sk-toggleable__content pre {margin: 0.2em;color: black;border-radius: 0.25em;background-color: #f0f8ff;}#sk-container-id-5 input.sk-toggleable__control:checked~div.sk-toggleable__content {max-height: 200px;max-width: 100%;overflow: auto;}#sk-container-id-5 input.sk-toggleable__control:checked~label.sk-toggleable__label-arrow:before {content: \"▾\";}#sk-container-id-5 div.sk-estimator input.sk-toggleable__control:checked~label.sk-toggleable__label {background-color: #d4ebff;}#sk-container-id-5 div.sk-label input.sk-toggleable__control:checked~label.sk-toggleable__label {background-color: #d4ebff;}#sk-container-id-5 input.sk-hidden--visually {border: 0;clip: rect(1px 1px 1px 1px);clip: rect(1px, 1px, 1px, 1px);height: 1px;margin: -1px;overflow: hidden;padding: 0;position: absolute;width: 1px;}#sk-container-id-5 div.sk-estimator {font-family: monospace;background-color: #f0f8ff;border: 1px dotted black;border-radius: 0.25em;box-sizing: border-box;margin-bottom: 0.5em;}#sk-container-id-5 div.sk-estimator:hover {background-color: #d4ebff;}#sk-container-id-5 div.sk-parallel-item::after {content: \"\";width: 100%;border-bottom: 1px solid gray;flex-grow: 1;}#sk-container-id-5 div.sk-label:hover label.sk-toggleable__label {background-color: #d4ebff;}#sk-container-id-5 div.sk-serial::before {content: \"\";position: absolute;border-left: 1px solid gray;box-sizing: border-box;top: 0;bottom: 0;left: 50%;z-index: 0;}#sk-container-id-5 div.sk-serial {display: flex;flex-direction: column;align-items: center;background-color: white;padding-right: 0.2em;padding-left: 0.2em;position: relative;}#sk-container-id-5 div.sk-item {position: relative;z-index: 1;}#sk-container-id-5 div.sk-parallel {display: flex;align-items: stretch;justify-content: center;background-color: white;position: relative;}#sk-container-id-5 div.sk-item::before, #sk-container-id-5 div.sk-parallel-item::before {content: \"\";position: absolute;border-left: 1px solid gray;box-sizing: border-box;top: 0;bottom: 0;left: 50%;z-index: -1;}#sk-container-id-5 div.sk-parallel-item {display: flex;flex-direction: column;z-index: 1;position: relative;background-color: white;}#sk-container-id-5 div.sk-parallel-item:first-child::after {align-self: flex-end;width: 50%;}#sk-container-id-5 div.sk-parallel-item:last-child::after {align-self: flex-start;width: 50%;}#sk-container-id-5 div.sk-parallel-item:only-child::after {width: 0;}#sk-container-id-5 div.sk-dashed-wrapped {border: 1px dashed gray;margin: 0 0.4em 0.5em 0.4em;box-sizing: border-box;padding-bottom: 0.4em;background-color: white;}#sk-container-id-5 div.sk-label label {font-family: monospace;font-weight: bold;display: inline-block;line-height: 1.2em;}#sk-container-id-5 div.sk-label-container {text-align: center;}#sk-container-id-5 div.sk-container {/* jupyter's `normalize.less` sets `[hidden] { display: none; }` but bootstrap.min.css set `[hidden] { display: none !important; }` so we also need the `!important` here to be able to override the default hidden behavior on the sphinx rendered scikit-learn.org. See: https://github.com/scikit-learn/scikit-learn/issues/21755 */display: inline-block !important;position: relative;}#sk-container-id-5 div.sk-text-repr-fallback {display: none;}</style><div id=\"sk-container-id-5\" class=\"sk-top-container\"><div class=\"sk-text-repr-fallback\"><pre>GradientBoostingRegressor()</pre><b>In a Jupyter environment, please rerun this cell to show the HTML representation or trust the notebook. <br />On GitHub, the HTML representation is unable to render, please try loading this page with nbviewer.org.</b></div><div class=\"sk-container\" hidden><div class=\"sk-item\"><div class=\"sk-estimator sk-toggleable\"><input class=\"sk-toggleable__control sk-hidden--visually\" id=\"sk-estimator-id-5\" type=\"checkbox\" checked><label for=\"sk-estimator-id-5\" class=\"sk-toggleable__label sk-toggleable__label-arrow\">GradientBoostingRegressor</label><div class=\"sk-toggleable__content\"><pre>GradientBoostingRegressor()</pre></div></div></div></div></div>"
      ],
      "text/plain": [
       "GradientBoostingRegressor()"
      ]
     },
     "execution_count": 140,
     "metadata": {},
     "output_type": "execute_result"
    }
   ],
   "source": [
    "gr = GradientBoostingRegressor()\n",
    "gr.fit(X,y)"
   ]
  },
  {
   "cell_type": "code",
   "execution_count": 141,
   "id": "9454ffb2",
   "metadata": {},
   "outputs": [],
   "source": [
    "import joblib"
   ]
  },
  {
   "cell_type": "code",
   "execution_count": 142,
   "id": "035a5c1c",
   "metadata": {},
   "outputs": [
    {
     "data": {
      "text/plain": [
       "['joblib_model_gbr']"
      ]
     },
     "execution_count": 142,
     "metadata": {},
     "output_type": "execute_result"
    }
   ],
   "source": [
    "joblib.dump(gr, 'joblib_model_gbr')"
   ]
  },
  {
   "cell_type": "code",
   "execution_count": 143,
   "id": "05a7f04f",
   "metadata": {},
   "outputs": [],
   "source": [
    "model_gbr = joblib.load('joblib_model_gbr')"
   ]
  },
  {
   "cell_type": "code",
   "execution_count": 144,
   "id": "d7df9483",
   "metadata": {},
   "outputs": [
    {
     "data": {
      "text/plain": [
       "array([791.58681738])"
      ]
     },
     "execution_count": 144,
     "metadata": {},
     "output_type": "execute_result"
    }
   ],
   "source": [
    "model_gbr.predict(new_pizza1_data)"
   ]
  },
  {
   "cell_type": "markdown",
   "id": "f5de82ec",
   "metadata": {},
   "source": [
    "### Creating a GUI for end user "
   ]
  },
  {
   "cell_type": "code",
   "execution_count": 145,
   "id": "0daaedf9",
   "metadata": {},
   "outputs": [],
   "source": [
    "from tkinter import*\n",
    "from tkinter import ttk"
   ]
  },
  {
   "cell_type": "code",
   "execution_count": 150,
   "id": "f8b4e778",
   "metadata": {},
   "outputs": [],
   "source": [
    "master = Tk()\n",
    "master.title('Pizza Price Prediction')\n",
    "master.geometry('500x400')\n",
    "\n",
    "        \n",
    "\n",
    "'''def show_result():\n",
    "    v1 = int(menu_C.get())\n",
    "    v2 = int(menu_D.get())\n",
    "    v3 = int(menu_T.get())\n",
    "    v4 = int(menu_V.get())\n",
    "    v5 = int(menu_S.get())\n",
    "    v6 = int(menu_ES.get())\n",
    "    v7 = int(menu_EC.get())\n",
    "    v8 = int(menu_EM.get())'''\n",
    "    \n",
    "    \n",
    "\n",
    "Label(master).grid(row = 0)\n",
    "Label(master, text = 'Select company:').grid(row = 1)\n",
    "Label(master).grid(row = 2)\n",
    "Label(master, text = 'Select pizza diameter:').grid(row = 3)\n",
    "Label(master).grid(row = 4)\n",
    "Label(master, text = 'Select pizza topping:').grid(row = 5)\n",
    "Label(master).grid(row = 6)\n",
    "Label(master, text = 'Select pizza variant:').grid(row = 7)\n",
    "Label(master).grid(row = 8)\n",
    "Label(master, text = 'Select pizza size:').grid(row = 9)\n",
    "Label(master).grid(row = 10)\n",
    "Label(master, text = 'Add extra_sauce?:').grid(row = 11)\n",
    "Label(master).grid(row = 12)\n",
    "Label(master, text = 'Add extra_cheese?:').grid(row = 13)\n",
    "Label(master).grid(row = 14)\n",
    "Label(master, text = 'Add extra_mushrooms?:').grid(row = 15)\n",
    "\n",
    "\n",
    "\n",
    "# Dropdown menu options\n",
    "company = ['A', 'B', 'C', 'D', 'E']\n",
    "\n",
    "diameter = [8.0, 8.5, 12.0, 14.0, 16.0, 16.5, 17.0, 18.0, 18.5, 20.0, 22.0]\n",
    "\n",
    "topping = ['beef',\n",
    " 'black_papper',\n",
    " 'chicken',\n",
    " 'meat',\n",
    " 'mozzarella',\n",
    " 'mushrooms',\n",
    " 'onion',\n",
    " 'papperoni',\n",
    " 'sausage',\n",
    " 'smoked_beef',\n",
    " 'tuna',\n",
    " 'vegetables']\n",
    "\n",
    "variant = ['BBQ_meat_fiesta',\n",
    " 'BBQ_sausage',\n",
    " 'american_classic',\n",
    " 'american_favorite',\n",
    " 'classic',\n",
    " 'crunchy',\n",
    " 'double_decker',\n",
    " 'double_mix',\n",
    " 'double_signature',\n",
    " 'double_signature',\n",
    " 'extravaganza',\n",
    " 'gournet_greek',\n",
    " 'italian_veggie',\n",
    " 'meat_eater',\n",
    " 'meat_lovers',\n",
    " 'neptune_tuna',\n",
    " 'new_york',\n",
    " 'spicy_tuna',\n",
    " 'super_supreme',\n",
    " 'thai_veggie']\n",
    "size = ['XL', 'jumbo', 'large', 'medium', 'reguler', 'small']\n",
    "\n",
    "extra_sauce = ['Yes', 'No']\n",
    "\n",
    "extra_cheese =  ['Yes', 'No']\n",
    "\n",
    "extra_mushrooms =  ['Yes', 'No']\n",
    "\n",
    "\n",
    "# Create Dropdown menu for company\n",
    "menu_C = ttk.Combobox(master, value = company)\n",
    "menu_C.current(0)\n",
    "menu_C.grid(row = 1, column = 1)\n",
    "\n",
    "# Create Dropdown menu for diameter\n",
    "menu_D = ttk.Combobox(master, value = diameter)\n",
    "menu_D.current(0)\n",
    "menu_D.grid(row = 3, column = 1)\n",
    "\n",
    "# Create Dropdown menu for topping\n",
    "menu_T = ttk.Combobox(master, value = topping)\n",
    "menu_T.current(0)\n",
    "menu_T.grid(row = 5, column = 1)\n",
    "\n",
    "# Create Dropdown menu for variant\n",
    "menu_V = ttk.Combobox(master, value = variant)\n",
    "menu_V.current(0)\n",
    "menu_V.grid(row = 7, column = 1)\n",
    "\n",
    "\n",
    "# Create Dropdown menu for size\n",
    "menu_S = ttk.Combobox(master, value = size)\n",
    "menu_S.current(0)\n",
    "menu_S.grid(row = 9, column = 1)\n",
    "\n",
    "# Create Dropdown menu for extra_sauce\n",
    "menu_ES = ttk.Combobox(master, value = extra_sauce)\n",
    "menu_ES.current(0)\n",
    "menu_ES.grid(row = 11, column = 1)\n",
    "\n",
    "# Create Dropdown menu for extra_cheese\n",
    "menu_EC = ttk.Combobox(master, value = extra_cheese)\n",
    "menu_EC.current(0)\n",
    "menu_EC.grid(row = 13, column = 1)\n",
    "\n",
    "# Create Dropdown menu for extra_mushrooms\n",
    "menu_EM  = ttk.Combobox(master, value = extra_mushrooms)\n",
    "menu_EM.current(0)\n",
    "menu_EM.grid(row = 15, column = 1)\n",
    "\n",
    "Button(master, text = 'Predict Price', command = show_result).grid(row = 17)\n",
    "\n",
    "\n",
    "master.mainloop()"
   ]
  },
  {
   "cell_type": "code",
   "execution_count": null,
   "id": "57a09c0d",
   "metadata": {},
   "outputs": [],
   "source": []
  },
  {
   "cell_type": "code",
   "execution_count": null,
   "id": "9409bd2a",
   "metadata": {},
   "outputs": [],
   "source": [
    "        "
   ]
  },
  {
   "cell_type": "code",
   "execution_count": null,
   "id": "deb963e0",
   "metadata": {},
   "outputs": [],
   "source": []
  },
  {
   "cell_type": "code",
   "execution_count": null,
   "id": "13fd304f",
   "metadata": {},
   "outputs": [],
   "source": []
  },
  {
   "cell_type": "code",
   "execution_count": null,
   "id": "ebd7c1d3",
   "metadata": {},
   "outputs": [],
   "source": []
  },
  {
   "cell_type": "code",
   "execution_count": null,
   "id": "5c381d72",
   "metadata": {},
   "outputs": [],
   "source": []
  },
  {
   "cell_type": "code",
   "execution_count": null,
   "id": "70448c36",
   "metadata": {},
   "outputs": [],
   "source": []
  },
  {
   "cell_type": "code",
   "execution_count": null,
   "id": "8a8b73d6",
   "metadata": {},
   "outputs": [],
   "source": []
  },
  {
   "cell_type": "code",
   "execution_count": null,
   "id": "77aefe15",
   "metadata": {},
   "outputs": [],
   "source": []
  },
  {
   "cell_type": "code",
   "execution_count": null,
   "id": "3d83cbfd",
   "metadata": {},
   "outputs": [],
   "source": []
  },
  {
   "cell_type": "code",
   "execution_count": null,
   "id": "7f1edf0a",
   "metadata": {},
   "outputs": [],
   "source": []
  }
 ],
 "metadata": {
  "kernelspec": {
   "display_name": "Python 3 (ipykernel)",
   "language": "python",
   "name": "python3"
  },
  "language_info": {
   "codemirror_mode": {
    "name": "ipython",
    "version": 3
   },
   "file_extension": ".py",
   "mimetype": "text/x-python",
   "name": "python",
   "nbconvert_exporter": "python",
   "pygments_lexer": "ipython3",
   "version": "3.11.3"
  }
 },
 "nbformat": 4,
 "nbformat_minor": 5
}
